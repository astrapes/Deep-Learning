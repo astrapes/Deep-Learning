{
 "cells": [
  {
   "cell_type": "markdown",
   "metadata": {},
   "source": [
    "## Kaggle Dataset의 일부를 이용한 개, 고양이 구분ㅡ"
   ]
  },
  {
   "cell_type": "markdown",
   "metadata": {},
   "source": [
    "### Dog Image"
   ]
  },
  {
   "cell_type": "code",
   "execution_count": 71,
   "metadata": {},
   "outputs": [],
   "source": [
    "import numpy as np\n",
    "import tensorflow as tf\n",
    "import os, cv2, random\n",
    "import matplotlib.pyplot as plt\n",
    "from glob import glob\n",
    "from PIL import Image\n",
    "from tensorflow import keras\n",
    "from keras.preprocessing import image\n",
    "from keras.datasets import mnist\n",
    "from keras.models import Sequential\n",
    "from keras.layers import Dense, Dropout, Flatten\n",
    "from keras.layers import Conv2D, MaxPooling2D\n",
    "from keras.models import load_model\n",
    "from keras.callbacks import ModelCheckpoint, EarlyStopping\n",
    "from sklearn.model_selection import train_test_split\n",
    "%matplotlib inline"
   ]
  },
  {
   "cell_type": "code",
   "execution_count": 46,
   "metadata": {},
   "outputs": [],
   "source": [
    "seed=2020\n",
    "np.random.seed(seed)\n",
    "tf.random.set_seed(seed)"
   ]
  },
  {
   "cell_type": "code",
   "execution_count": 47,
   "metadata": {},
   "outputs": [],
   "source": [
    "path='../dataset/animal'"
   ]
  },
  {
   "cell_type": "code",
   "execution_count": 48,
   "metadata": {},
   "outputs": [],
   "source": [
    "## used for resize and in our model\n",
    "ROW, COL=96, 96\n",
    "dogs, cats, bears, dinos, rabbits = [],[],[],[],[]\n",
    "y_dogs, y_cats, y_bears, y_dinos, y_rabbits = [],[],[],[],[]"
   ]
  },
  {
   "cell_type": "code",
   "execution_count": 49,
   "metadata": {},
   "outputs": [],
   "source": [
    "dog_path=os.path.join(path, 'dog.*')\n",
    "cat_path=os.path.join(path, 'cat.*')\n",
    "bear_path=os.path.join(path, 'bear.*')\n",
    "dino_path=os.path.join(path, 'dino.*')\n",
    "rabbit_path=os.path.join(path, 'rabbit.*')"
   ]
  },
  {
   "cell_type": "code",
   "execution_count": 50,
   "metadata": {},
   "outputs": [],
   "source": [
    "## Load some our dog image\n",
    "for dog_img in glob(dog_path):\n",
    "    dog=cv2.imread(dog_img)\n",
    "    dog=cv2.cvtColor(dog,cv2.COLOR_BGR2GRAY)\n",
    "    dog=cv2.resize(dog, (ROW, COL))\n",
    "    dog=image.img_to_array(dog)\n",
    "    dogs.append(dog)"
   ]
  },
  {
   "cell_type": "code",
   "execution_count": 51,
   "metadata": {},
   "outputs": [],
   "source": [
    "## Load some our dog image\n",
    "for cat_img in glob(cat_path):\n",
    "    cat=cv2.imread(cat_img)\n",
    "    cat=cv2.cvtColor(cat,cv2.COLOR_BGR2GRAY)\n",
    "    cat=cv2.resize(cat, (ROW, COL))\n",
    "    cat=image.img_to_array(cat)\n",
    "    cats.append(cat)"
   ]
  },
  {
   "cell_type": "code",
   "execution_count": 52,
   "metadata": {},
   "outputs": [],
   "source": [
    "## Load some our dog image\n",
    "for bear_img in glob(bear_path):\n",
    "    bear=cv2.imread(bear_img)\n",
    "    bear=cv2.cvtColor(bear,cv2.COLOR_BGR2GRAY)\n",
    "    bear=cv2.resize(bear, (ROW, COL))\n",
    "    bear=image.img_to_array(bear)\n",
    "    bears.append(bear)"
   ]
  },
  {
   "cell_type": "code",
   "execution_count": 53,
   "metadata": {},
   "outputs": [],
   "source": [
    "## Load some our dog image\n",
    "for dino_img in glob(dino_path):\n",
    "    dino=cv2.imread(dino_img)\n",
    "    dino=cv2.cvtColor(dino,cv2.COLOR_BGR2GRAY)\n",
    "    dino=cv2.resize(dino, (ROW, COL))\n",
    "    dino=image.img_to_array(dino)\n",
    "    dinos.append(dino)"
   ]
  },
  {
   "cell_type": "code",
   "execution_count": 54,
   "metadata": {},
   "outputs": [],
   "source": [
    "## Load some our dog image\n",
    "for rabbit_img in glob(rabbit_path):\n",
    "    rabbit=cv2.imread(rabbit_img)\n",
    "    rabbit=cv2.cvtColor(rabbit,cv2.COLOR_BGR2GRAY)\n",
    "    rabbit=cv2.resize(rabbit, (ROW, COL))\n",
    "    rabbit=image.img_to_array(rabbit)\n",
    "    rabbits.append(rabbit)"
   ]
  },
  {
   "cell_type": "code",
   "execution_count": 55,
   "metadata": {},
   "outputs": [],
   "source": [
    "classes=['dog','cat','bear','dino','rabbit']"
   ]
  },
  {
   "cell_type": "code",
   "execution_count": 56,
   "metadata": {},
   "outputs": [],
   "source": [
    "## just change the labels for 0 and 1\n",
    "y_dogs=[0 for item in enumerate(dogs)]\n",
    "y_cats=[1 for item in enumerate(cats)]\n",
    "y_bears=[1 for item in enumerate(bears)]\n",
    "y_dinos=[1 for item in enumerate(dinos)]\n",
    "y_rabbits=[1 for item in enumerate(rabbits)]"
   ]
  },
  {
   "cell_type": "code",
   "execution_count": 57,
   "metadata": {},
   "outputs": [],
   "source": [
    "dogs = np.asarray(dogs).astype('float32') / 255\n",
    "cats = np.asarray(cats).astype('float32') / 255\n",
    "bears = np.asarray(bears).astype('float32') / 255\n",
    "dinos = np.asarray(dinos).astype('float32') / 255\n",
    "rabbits = np.asarray(rabbits).astype('float32') / 255\n",
    "\n",
    "y_dogs = np.asarray(y_dogs).astype('int32')\n",
    "y_cats = np.asarray(y_cats).astype('int32')\n",
    "y_bears = np.asarray(y_bears).astype('int32')\n",
    "y_dinos = np.asarray(y_dinos).astype('int32')\n",
    "y_rabbits = np.asarray(y_rabbits).astype('int32')"
   ]
  },
  {
   "cell_type": "code",
   "execution_count": 91,
   "metadata": {},
   "outputs": [
    {
     "data": {
      "text/plain": [
       "((707, 96, 96, 1), (707,))"
      ]
     },
     "execution_count": 91,
     "metadata": {},
     "output_type": "execute_result"
    }
   ],
   "source": [
    "a = np.concatenate((dogs,cats), axis=0)\n",
    "b = np.concatenate((a,bears), axis=0)\n",
    "c = np.concatenate((b,dinos), axis=0)\n",
    "x = np.concatenate((c,rabbits), axis=0)\n",
    "a = np.concatenate((y_dogs, y_cats), axis=0)\n",
    "b = np.concatenate((a, y_bears), axis=0)\n",
    "c = np.concatenate((b, y_dinos), axis=0)\n",
    "y = np.concatenate((c, y_rabbits), axis=0)\n",
    "x.shape,y.shape"
   ]
  },
  {
   "cell_type": "code",
   "execution_count": 92,
   "metadata": {},
   "outputs": [],
   "source": [
    "x_train, x_test, y_train, y_test=train_test_split(x,y,test_size=0.2,random_state=seed)"
   ]
  },
  {
   "cell_type": "code",
   "execution_count": 93,
   "metadata": {},
   "outputs": [
    {
     "name": "stdout",
     "output_type": "stream",
     "text": [
      "Model: \"sequential_2\"\n",
      "_________________________________________________________________\n",
      "Layer (type)                 Output Shape              Param #   \n",
      "=================================================================\n",
      "conv2d_5 (Conv2D)            (None, 96, 96, 32)        320       \n",
      "_________________________________________________________________\n",
      "conv2d_6 (Conv2D)            (None, 96, 96, 32)        9248      \n",
      "_________________________________________________________________\n",
      "max_pooling2d_3 (MaxPooling2 (None, 48, 48, 32)        0         \n",
      "_________________________________________________________________\n",
      "dropout_3 (Dropout)          (None, 48, 48, 32)        0         \n",
      "_________________________________________________________________\n",
      "conv2d_7 (Conv2D)            (None, 48, 48, 64)        18496     \n",
      "_________________________________________________________________\n",
      "conv2d_8 (Conv2D)            (None, 48, 48, 64)        36928     \n",
      "_________________________________________________________________\n",
      "max_pooling2d_4 (MaxPooling2 (None, 24, 24, 64)        0         \n",
      "_________________________________________________________________\n",
      "flatten_2 (Flatten)          (None, 36864)             0         \n",
      "_________________________________________________________________\n",
      "dense_5 (Dense)              (None, 512)               18874880  \n",
      "_________________________________________________________________\n",
      "dense_6 (Dense)              (None, 256)               131328    \n",
      "_________________________________________________________________\n",
      "dense_7 (Dense)              (None, 128)               32896     \n",
      "_________________________________________________________________\n",
      "dropout_4 (Dropout)          (None, 128)               0         \n",
      "_________________________________________________________________\n",
      "dense_8 (Dense)              (None, 1)                 129       \n",
      "=================================================================\n",
      "Total params: 19,104,225\n",
      "Trainable params: 19,104,225\n",
      "Non-trainable params: 0\n",
      "_________________________________________________________________\n"
     ]
    }
   ],
   "source": [
    "## Here is our model as a CNN\n",
    "model = Sequential([\n",
    "    Conv2D(32, (3,3), padding='same', input_shape=(ROW, COL, 1), activation='relu'),\n",
    "    Conv2D(32, (3,3), padding='same', activation='relu'),\n",
    "    MaxPooling2D(pool_size=(2,2)),\n",
    "    Dropout(.25),\n",
    "    Conv2D(64, (3,3), padding='same', activation='relu'),\n",
    "    Conv2D(64, (3,3), padding='same', activation='relu'),\n",
    "    MaxPooling2D(pool_size=(2,2)),\n",
    "    Flatten(),\n",
    "    Dense(512, activation='relu'),\n",
    "    Dense(256, activation='relu'),\n",
    "    Dense(128, activation='relu'),\n",
    "    Dropout(.5),\n",
    "    Dense(1, activation='softmax')\n",
    "])\n",
    "model.summary()"
   ]
  },
  {
   "cell_type": "code",
   "execution_count": 94,
   "metadata": {},
   "outputs": [],
   "source": [
    "model.compile(loss='binary_crossentropy', \n",
    "              optimizer='adam', metrics=['accuracy'])"
   ]
  },
  {
   "cell_type": "code",
   "execution_count": 95,
   "metadata": {},
   "outputs": [],
   "source": [
    "## to save checkpoint to use later\n",
    "modelpath = \"model/phase.hdf5\"\n",
    "checkpointer = ModelCheckpoint(filepath=modelpath, monitor='val_loss', \n",
    "                               verbose=1, save_best_only=True)\n",
    "early_stopping_callback = EarlyStopping(monitor='val_loss', patience=10)"
   ]
  },
  {
   "cell_type": "code",
   "execution_count": 96,
   "metadata": {
    "scrolled": true
   },
   "outputs": [
    {
     "name": "stdout",
     "output_type": "stream",
     "text": [
      "Train on 452 samples, validate on 113 samples\n",
      "Epoch 1/1000\n",
      "452/452 [==============================] - 7s 16ms/step - loss: 0.6380 - accuracy: 0.6571 - val_loss: 0.4791 - val_accuracy: 0.8496\n",
      "\n",
      "Epoch 00001: val_loss improved from inf to 0.47912, saving model to model/phase.hdf5\n",
      "Epoch 2/1000\n",
      "452/452 [==============================] - 7s 15ms/step - loss: 0.5328 - accuracy: 0.7965 - val_loss: 0.5297 - val_accuracy: 0.8496\n",
      "\n",
      "Epoch 00002: val_loss did not improve from 0.47912\n",
      "Epoch 3/1000\n",
      "452/452 [==============================] - 7s 15ms/step - loss: 0.5572 - accuracy: 0.7965 - val_loss: 0.5224 - val_accuracy: 0.8496\n",
      "\n",
      "Epoch 00003: val_loss did not improve from 0.47912\n",
      "Epoch 4/1000\n",
      "452/452 [==============================] - 7s 15ms/step - loss: 0.5215 - accuracy: 0.7965 - val_loss: 0.4705 - val_accuracy: 0.8496\n",
      "\n",
      "Epoch 00004: val_loss improved from 0.47912 to 0.47045, saving model to model/phase.hdf5\n",
      "Epoch 5/1000\n",
      "452/452 [==============================] - 7s 16ms/step - loss: 0.5344 - accuracy: 0.7965 - val_loss: 0.4708 - val_accuracy: 0.8496\n",
      "\n",
      "Epoch 00005: val_loss did not improve from 0.47045\n",
      "Epoch 6/1000\n",
      "452/452 [==============================] - 7s 16ms/step - loss: 0.5096 - accuracy: 0.7965 - val_loss: 0.4765 - val_accuracy: 0.8496\n",
      "\n",
      "Epoch 00006: val_loss did not improve from 0.47045\n",
      "Epoch 7/1000\n",
      "452/452 [==============================] - 7s 16ms/step - loss: 0.5130 - accuracy: 0.7965 - val_loss: 0.4349 - val_accuracy: 0.8496\n",
      "\n",
      "Epoch 00007: val_loss improved from 0.47045 to 0.43489, saving model to model/phase.hdf5\n",
      "Epoch 8/1000\n",
      "452/452 [==============================] - 8s 17ms/step - loss: 0.5128 - accuracy: 0.7965 - val_loss: 0.4572 - val_accuracy: 0.8496\n",
      "\n",
      "Epoch 00008: val_loss did not improve from 0.43489\n",
      "Epoch 9/1000\n",
      "452/452 [==============================] - 7s 16ms/step - loss: 0.5134 - accuracy: 0.7965 - val_loss: 0.4613 - val_accuracy: 0.8496\n",
      "\n",
      "Epoch 00009: val_loss did not improve from 0.43489\n",
      "Epoch 10/1000\n",
      "452/452 [==============================] - 7s 15ms/step - loss: 0.5065 - accuracy: 0.7965 - val_loss: 0.4624 - val_accuracy: 0.8496\n",
      "\n",
      "Epoch 00010: val_loss did not improve from 0.43489\n",
      "Epoch 11/1000\n",
      "452/452 [==============================] - 7s 16ms/step - loss: 0.5038 - accuracy: 0.7965 - val_loss: 0.4483 - val_accuracy: 0.8496\n",
      "\n",
      "Epoch 00011: val_loss did not improve from 0.43489\n",
      "Epoch 12/1000\n",
      "452/452 [==============================] - 7s 16ms/step - loss: 0.4873 - accuracy: 0.7965 - val_loss: 0.4394 - val_accuracy: 0.8496\n",
      "\n",
      "Epoch 00012: val_loss did not improve from 0.43489\n",
      "Epoch 13/1000\n",
      "452/452 [==============================] - 7s 16ms/step - loss: 0.4892 - accuracy: 0.7965 - val_loss: 0.4374 - val_accuracy: 0.8496\n",
      "\n",
      "Epoch 00013: val_loss did not improve from 0.43489\n",
      "Epoch 14/1000\n",
      "452/452 [==============================] - 7s 16ms/step - loss: 0.4854 - accuracy: 0.7965 - val_loss: 0.4065 - val_accuracy: 0.8496\n",
      "\n",
      "Epoch 00014: val_loss improved from 0.43489 to 0.40648, saving model to model/phase.hdf5\n",
      "Epoch 15/1000\n",
      "452/452 [==============================] - 7s 16ms/step - loss: 0.4543 - accuracy: 0.7965 - val_loss: 0.4159 - val_accuracy: 0.8496\n",
      "\n",
      "Epoch 00015: val_loss did not improve from 0.40648\n",
      "Epoch 16/1000\n",
      "452/452 [==============================] - 7s 16ms/step - loss: 0.4014 - accuracy: 0.8009 - val_loss: 0.3935 - val_accuracy: 0.8584\n",
      "\n",
      "Epoch 00016: val_loss improved from 0.40648 to 0.39348, saving model to model/phase.hdf5\n",
      "Epoch 17/1000\n",
      "452/452 [==============================] - 7s 16ms/step - loss: 0.3948 - accuracy: 0.8407 - val_loss: 0.4429 - val_accuracy: 0.7699\n",
      "\n",
      "Epoch 00017: val_loss did not improve from 0.39348\n",
      "Epoch 18/1000\n",
      "452/452 [==============================] - 7s 16ms/step - loss: 0.4029 - accuracy: 0.8142 - val_loss: 0.4679 - val_accuracy: 0.8319\n",
      "\n",
      "Epoch 00018: val_loss did not improve from 0.39348\n",
      "Epoch 19/1000\n",
      "452/452 [==============================] - 7s 16ms/step - loss: 0.3727 - accuracy: 0.8960 - val_loss: 0.4317 - val_accuracy: 0.8496\n",
      "\n",
      "Epoch 00019: val_loss did not improve from 0.39348\n",
      "Epoch 20/1000\n",
      "452/452 [==============================] - 7s 16ms/step - loss: 0.2859 - accuracy: 0.8717 - val_loss: 0.6187 - val_accuracy: 0.7788\n",
      "\n",
      "Epoch 00020: val_loss did not improve from 0.39348\n",
      "Epoch 21/1000\n",
      "452/452 [==============================] - 7s 16ms/step - loss: 0.1960 - accuracy: 0.9270 - val_loss: 0.6702 - val_accuracy: 0.7611\n",
      "\n",
      "Epoch 00021: val_loss did not improve from 0.39348\n",
      "Epoch 22/1000\n",
      "452/452 [==============================] - 7s 15ms/step - loss: 0.1580 - accuracy: 0.9358 - val_loss: 0.8220 - val_accuracy: 0.6903\n",
      "\n",
      "Epoch 00022: val_loss did not improve from 0.39348\n",
      "Epoch 23/1000\n",
      "452/452 [==============================] - 7s 15ms/step - loss: 0.1316 - accuracy: 0.9491 - val_loss: 0.7477 - val_accuracy: 0.7522\n",
      "\n",
      "Epoch 00023: val_loss did not improve from 0.39348\n",
      "Epoch 24/1000\n",
      "452/452 [==============================] - 7s 15ms/step - loss: 0.0970 - accuracy: 0.9712 - val_loss: 0.9167 - val_accuracy: 0.8142\n",
      "\n",
      "Epoch 00024: val_loss did not improve from 0.39348\n",
      "Epoch 25/1000\n",
      "452/452 [==============================] - 7s 15ms/step - loss: 0.0774 - accuracy: 0.9735 - val_loss: 1.1976 - val_accuracy: 0.7168\n",
      "\n",
      "Epoch 00025: val_loss did not improve from 0.39348\n",
      "Epoch 26/1000\n",
      "452/452 [==============================] - 7s 15ms/step - loss: 0.0481 - accuracy: 0.9934 - val_loss: 1.2798 - val_accuracy: 0.7788\n",
      "\n",
      "Epoch 00026: val_loss did not improve from 0.39348\n"
     ]
    },
    {
     "data": {
      "text/plain": [
       "<keras.callbacks.callbacks.History at 0x2c4070c2cc8>"
      ]
     },
     "execution_count": 96,
     "metadata": {},
     "output_type": "execute_result"
    }
   ],
   "source": [
    "model.fit(x_train, y_train, batch_size=100, epochs=1000, validation_split=0.2,shuffle=True,\n",
    "          callbacks=[checkpointer, early_stopping_callback])"
   ]
  },
  {
   "cell_type": "code",
   "execution_count": 97,
   "metadata": {},
   "outputs": [],
   "source": [
    "del model\n",
    "model = load_model('model/phase.hdf5')"
   ]
  },
  {
   "cell_type": "code",
   "execution_count": 98,
   "metadata": {},
   "outputs": [
    {
     "name": "stdout",
     "output_type": "stream",
     "text": [
      "MODEL ACCURACY: 0.21429\n"
     ]
    }
   ],
   "source": [
    "scores = model.evaluate(dog_x_test, dog_y_test, verbose=2)\n",
    "print('MODEL ACCURACY: %.5f' % scores[1])"
   ]
  },
  {
   "cell_type": "code",
   "execution_count": 99,
   "metadata": {},
   "outputs": [
    {
     "name": "stdout",
     "output_type": "stream",
     "text": [
      "(1, 96, 96, 1)\n"
     ]
    }
   ],
   "source": [
    "ROW, COL = 96, 96\n",
    "animals = []\n",
    "aniaml = os.path.join(path,'*')\n",
    "img = np.array(Image.open(\"../dataset/animal/bear.1.jpg\"))\n",
    "aniaml = cv2.cvtColor(img, cv2.COLOR_BGR2GRAY)\n",
    "aniaml = cv2.resize(aniaml, (ROW, COL))\n",
    "aniaml = image.img_to_array(aniaml)\n",
    "animals.append(aniaml)\n",
    "\n",
    "animals = np.asarray(animals).astype('float32') / 255\n",
    "classes = ['dog']\n",
    "print(animals.shape)"
   ]
  },
  {
   "cell_type": "code",
   "execution_count": 101,
   "metadata": {},
   "outputs": [
    {
     "data": {
      "text/plain": [
       "1"
      ]
     },
     "execution_count": 101,
     "metadata": {},
     "output_type": "execute_result"
    }
   ],
   "source": [
    "model.predict_classes(animals)[0][0]"
   ]
  },
  {
   "cell_type": "code",
   "execution_count": null,
   "metadata": {},
   "outputs": [],
   "source": []
  }
 ],
 "metadata": {
  "kernelspec": {
   "display_name": "Python 3",
   "language": "python",
   "name": "python3"
  },
  "language_info": {
   "codemirror_mode": {
    "name": "ipython",
    "version": 3
   },
   "file_extension": ".py",
   "mimetype": "text/x-python",
   "name": "python",
   "nbconvert_exporter": "python",
   "pygments_lexer": "ipython3",
   "version": "3.7.7"
  }
 },
 "nbformat": 4,
 "nbformat_minor": 4
}
