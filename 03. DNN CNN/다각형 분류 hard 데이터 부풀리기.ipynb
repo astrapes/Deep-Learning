{
 "cells": [
  {
   "cell_type": "markdown",
   "metadata": {},
   "source": [
    "# 김태영 케라스"
   ]
  },
  {
   "cell_type": "code",
   "execution_count": 1,
   "metadata": {},
   "outputs": [],
   "source": [
    "import plaidml.keras\n",
    "plaidml.keras.install_backend()\n",
    "from tensorflow.keras import backend\n",
    "from tensorflow.python.keras import backend\n",
    "import numpy as np\n",
    "import tensorflow as tf\n",
    "# from tensorflow import keras\n",
    "from keras.models import Sequential\n",
    "from keras.callbacks import ModelCheckpoint, EarlyStopping\n",
    "from keras.models import load_model\n",
    "from keras.layers import Dense, Flatten, Conv2D, MaxPooling2D\n",
    "from keras.preprocessing.image import ImageDataGenerator\n",
    "from keras.preprocessing.image import array_to_img, img_to_array, load_img"
   ]
  },
  {
   "cell_type": "code",
   "execution_count": 2,
   "metadata": {},
   "outputs": [],
   "source": [
    "seed = 2020\n",
    "np.random.seed(seed)\n",
    "tf.random.set_seed(seed)"
   ]
  },
  {
   "cell_type": "markdown",
   "metadata": {},
   "source": [
    "## 데이터 부풀리기"
   ]
  },
  {
   "cell_type": "code",
   "execution_count": 3,
   "metadata": {},
   "outputs": [],
   "source": [
    "# 데이터 부풀리기를 적용한 훈련 데이터 제너레이터\n",
    "train_datagen = ImageDataGenerator(rescale=1./255, \n",
    "                                   rotation_range=15,\n",
    "                                   width_shift_range=0.1,\n",
    "                                   height_shift_range=0.1,\n",
    "                                   shear_range=0.5,\n",
    "                                   zoom_range=[0.8, 2.0],\n",
    "                                   horizontal_flip=True,\n",
    "                                   vertical_flip=True,\n",
    "                                   fill_mode='nearest')"
   ]
  },
  {
   "cell_type": "code",
   "execution_count": 4,
   "metadata": {},
   "outputs": [],
   "source": [
    "img = load_img('../dataset/hard_handwriting_shape/train/triangle/triangle001.png')\n",
    "x = img_to_array(img)\n",
    "x = x.reshape((1,) + x.shape)\n",
    "\n",
    "i = 0\n",
    "\n",
    "# 무한 for loop이니 주의!!!\n",
    "for batch in train_datagen.flow(x, batch_size=1, save_to_dir='preview',\n",
    "                                save_prefix='tri', save_format='png'):\n",
    "    i += 1\n",
    "    if i > 30: \n",
    "        break"
   ]
  },
  {
   "cell_type": "markdown",
   "metadata": {},
   "source": [
    "## 데이터 셋 생성하기"
   ]
  },
  {
   "cell_type": "code",
   "execution_count": 5,
   "metadata": {},
   "outputs": [
    {
     "name": "stdout",
     "output_type": "stream",
     "text": [
      "Found 45 images belonging to 3 classes.\n",
      "Found 15 images belonging to 3 classes.\n"
     ]
    }
   ],
   "source": [
    "train_generator = train_datagen.flow_from_directory(\n",
    "        '../dataset/hard_handwriting_shape/train',\n",
    "        target_size=(24, 24),\n",
    "        batch_size=3,\n",
    "        class_mode='categorical')\n",
    "\n",
    "test_datagen = ImageDataGenerator(rescale=1./255)\n",
    "\n",
    "test_generator = test_datagen.flow_from_directory(\n",
    "        '../dataset/hard_handwriting_shape/test',\n",
    "        target_size=(24, 24),    \n",
    "        batch_size=3,\n",
    "        class_mode='categorical')"
   ]
  },
  {
   "cell_type": "markdown",
   "metadata": {},
   "source": [
    "## 모델 구성하기"
   ]
  },
  {
   "cell_type": "code",
   "execution_count": 6,
   "metadata": {},
   "outputs": [
    {
     "name": "stderr",
     "output_type": "stream",
     "text": [
      "INFO:plaidml:Opening device \"opencl_amd_ellesmere.0\"\n"
     ]
    },
    {
     "name": "stdout",
     "output_type": "stream",
     "text": [
      "_________________________________________________________________\n",
      "Layer (type)                 Output Shape              Param #   \n",
      "=================================================================\n",
      "conv2d_1 (Conv2D)            (None, 22, 22, 32)        896       \n",
      "_________________________________________________________________\n",
      "conv2d_2 (Conv2D)            (None, 20, 20, 64)        18496     \n",
      "_________________________________________________________________\n",
      "max_pooling2d_1 (MaxPooling2 (None, 10, 10, 64)        0         \n",
      "_________________________________________________________________\n",
      "flatten_1 (Flatten)          (None, 6400)              0         \n",
      "_________________________________________________________________\n",
      "dense_1 (Dense)              (None, 128)               819328    \n",
      "_________________________________________________________________\n",
      "dense_2 (Dense)              (None, 3)                 387       \n",
      "=================================================================\n",
      "Total params: 839,107\n",
      "Trainable params: 839,107\n",
      "Non-trainable params: 0\n",
      "_________________________________________________________________\n"
     ]
    }
   ],
   "source": [
    "model = Sequential()\n",
    "model.add(Conv2D(32, kernel_size=(3, 3),\n",
    "                 activation='relu', input_shape=(24,24,3)))\n",
    "model.add(Conv2D(64, (3, 3), activation='relu'))\n",
    "model.add(MaxPooling2D(pool_size=(2, 2)))\n",
    "model.add(Flatten())\n",
    "model.add(Dense(128, activation='relu'))\n",
    "model.add(Dense(3, activation='softmax'))\n",
    "model.summary()"
   ]
  },
  {
   "cell_type": "code",
   "execution_count": 7,
   "metadata": {},
   "outputs": [],
   "source": [
    "model.compile(loss='categorical_crossentropy', \n",
    "              optimizer='adam', metrics=['accuracy'])"
   ]
  },
  {
   "cell_type": "markdown",
   "metadata": {},
   "source": [
    "## 모델 학습시키기\n",
    "- 첫번째 인자 : 훈련데이터셋을 제공할 제네레이터를 지정. 본 예제에서는 앞서 생성한 train_generator으로 지정.\n",
    "- steps_per_epoch : 한 epoch에 사용한 스텝 수를 지정. 총 45개의 훈련 샘플이 있고 배치사이즈가 3이므로 15 스텝으로 지정.\n",
    "- epochs : 전체 훈련 데이터셋에 대해 학습 반복 횟수를 지정. 200번을 반복적으로 학습.\n",
    "- validation_data : 검증데이터셋을 제공할 제네레이터를 지정. 본 예제에서는 앞서 생성한 validation_generator으로 지정.\n",
    "- validation_steps : 한 epoch 종료 시 마다 검증할 때 사용되는 검증 스텝 수를 지정. 홍 15개의 검증 샘플이 있고 배치사이즈가 3이므로 5 스텝으로 지정."
   ]
  },
  {
   "cell_type": "code",
   "execution_count": 8,
   "metadata": {},
   "outputs": [],
   "source": [
    "modelpath = \"model/poly.hdf5\"\n",
    "checkpointer = ModelCheckpoint(filepath=modelpath, monitor='val_loss', \n",
    "                               verbose=1, save_best_only=True)\n",
    "early_stopping_callback = EarlyStopping(monitor='val_loss', patience=10)"
   ]
  },
  {
   "cell_type": "code",
   "execution_count": null,
   "metadata": {
    "scrolled": true
   },
   "outputs": [
    {
     "name": "stdout",
     "output_type": "stream",
     "text": [
      "Epoch 1/200\n",
      "750/750 [==============================] - 10s 14ms/step - loss: 0.2625 - acc: 0.8996 - val_loss: 1.0638 - val_acc: 0.7333\n",
      "\n",
      "Epoch 00001: val_loss improved from inf to 1.06385, saving model to model/poly.hdf5\n",
      "Epoch 2/200\n",
      "750/750 [==============================] - 7s 9ms/step - loss: 0.0673 - acc: 0.9773 - val_loss: 1.4557 - val_acc: 0.8000\n",
      "\n",
      "Epoch 00002: val_loss did not improve from 1.06385\n",
      "Epoch 3/200\n",
      "750/750 [==============================] - 7s 9ms/step - loss: 0.0342 - acc: 0.9884 - val_loss: 2.0395 - val_acc: 0.8000\n",
      "\n",
      "Epoch 00003: val_loss did not improve from 1.06385\n",
      "Epoch 4/200\n",
      "750/750 [==============================] - 7s 9ms/step - loss: 0.0394 - acc: 0.9862 - val_loss: 1.8417 - val_acc: 0.8000\n",
      "\n",
      "Epoch 00004: val_loss did not improve from 1.06385\n",
      "Epoch 5/200\n",
      "750/750 [==============================] - 7s 9ms/step - loss: 0.0438 - acc: 0.9853 - val_loss: 2.9087 - val_acc: 0.8000\n",
      "\n",
      "Epoch 00005: val_loss did not improve from 1.06385\n",
      "Epoch 6/200\n",
      "750/750 [==============================] - 7s 9ms/step - loss: 0.0313 - acc: 0.9880 - val_loss: 2.5978 - val_acc: 0.7333\n",
      "\n",
      "Epoch 00006: val_loss did not improve from 1.06385\n",
      "Epoch 7/200\n",
      "750/750 [==============================] - 7s 9ms/step - loss: 0.0093 - acc: 0.9969 - val_loss: 3.1732 - val_acc: 0.6667\n",
      "\n",
      "Epoch 00007: val_loss did not improve from 1.06385\n",
      "Epoch 8/200\n",
      "750/750 [==============================] - 7s 10ms/step - loss: 0.0153 - acc: 0.9951 - val_loss: 2.6970 - val_acc: 0.8000\n",
      "\n",
      "Epoch 00008: val_loss did not improve from 1.06385\n",
      "Epoch 9/200\n",
      "750/750 [==============================] - 7s 9ms/step - loss: 0.0325 - acc: 0.9911 - val_loss: 2.3914 - val_acc: 0.8000\n",
      "\n",
      "Epoch 00009: val_loss did not improve from 1.06385\n",
      "Epoch 10/200\n",
      "750/750 [==============================] - 7s 9ms/step - loss: 0.0131 - acc: 0.9960 - val_loss: 3.7093 - val_acc: 0.8000\n",
      "\n",
      "Epoch 00010: val_loss did not improve from 1.06385\n",
      "Epoch 11/200\n",
      "750/750 [==============================] - 7s 9ms/step - loss: 0.0273 - acc: 0.9929 - val_loss: 2.6199 - val_acc: 0.8000\n",
      "\n",
      "Epoch 00011: val_loss did not improve from 1.06385\n",
      "Epoch 12/200\n",
      "750/750 [==============================] - 7s 9ms/step - loss: 0.0115 - acc: 0.9956 - val_loss: 2.2586 - val_acc: 0.8000\n",
      "\n",
      "Epoch 00012: val_loss did not improve from 1.06385\n",
      "Epoch 13/200\n",
      "750/750 [==============================] - 7s 9ms/step - loss: 0.0097 - acc: 0.9969 - val_loss: 2.6224 - val_acc: 0.8000\n",
      "\n",
      "Epoch 00013: val_loss did not improve from 1.06385\n",
      "Epoch 14/200\n",
      "750/750 [==============================] - 7s 9ms/step - loss: 0.0068 - acc: 0.9978 - val_loss: 1.5932 - val_acc: 0.8000\n",
      "\n",
      "Epoch 00014: val_loss did not improve from 1.06385\n",
      "Epoch 15/200\n",
      "750/750 [==============================] - 7s 9ms/step - loss: 0.0147 - acc: 0.9973 - val_loss: 3.8376 - val_acc: 0.8000\n",
      "\n",
      "Epoch 00015: val_loss did not improve from 1.06385\n",
      "Epoch 16/200\n",
      "750/750 [==============================] - 7s 10ms/step - loss: 0.0099 - acc: 0.9960 - val_loss: 3.8419 - val_acc: 0.8000\n",
      "\n",
      "Epoch 00016: val_loss did not improve from 1.06385\n",
      "Epoch 17/200\n",
      "750/750 [==============================] - 7s 9ms/step - loss: 0.0076 - acc: 0.9969 - val_loss: 3.8480 - val_acc: 0.8000\n",
      "\n",
      "Epoch 00017: val_loss did not improve from 1.06385\n",
      "Epoch 18/200\n",
      "750/750 [==============================] - 7s 9ms/step - loss: 9.8344e-04 - acc: 0.9996 - val_loss: 6.3619 - val_acc: 0.7333\n",
      "\n",
      "Epoch 00018: val_loss did not improve from 1.06385\n",
      "Epoch 19/200\n",
      "750/750 [==============================] - 7s 9ms/step - loss: 0.0378 - acc: 0.9916 - val_loss: 3.7538 - val_acc: 0.8000\n",
      "\n",
      "Epoch 00019: val_loss did not improve from 1.06385\n",
      "Epoch 20/200\n",
      "750/750 [==============================] - 7s 9ms/step - loss: 0.0144 - acc: 0.9973 - val_loss: 2.6469 - val_acc: 0.8000\n",
      "\n",
      "Epoch 00020: val_loss did not improve from 1.06385\n",
      "Epoch 21/200\n",
      "750/750 [==============================] - 7s 10ms/step - loss: 0.0098 - acc: 0.9973 - val_loss: 3.6375 - val_acc: 0.8000\n",
      "\n",
      "Epoch 00021: val_loss did not improve from 1.06385\n",
      "Epoch 22/200\n",
      "750/750 [==============================] - 7s 9ms/step - loss: 0.0445 - acc: 0.9924 - val_loss: 6.0703 - val_acc: 0.8000\n",
      "\n",
      "Epoch 00022: val_loss did not improve from 1.06385\n",
      "Epoch 23/200\n",
      "750/750 [==============================] - 7s 9ms/step - loss: 0.0049 - acc: 0.9996 - val_loss: 6.1143 - val_acc: 0.8000\n",
      "\n",
      "Epoch 00023: val_loss did not improve from 1.06385\n",
      "Epoch 24/200\n",
      "750/750 [==============================] - 7s 9ms/step - loss: 8.6528e-05 - acc: 1.0000 - val_loss: 6.1022 - val_acc: 0.8000\n",
      "\n",
      "Epoch 00024: val_loss did not improve from 1.06385\n",
      "Epoch 25/200\n",
      "750/750 [==============================] - 7s 9ms/step - loss: 0.0124 - acc: 0.9973 - val_loss: 7.2740 - val_acc: 0.8000\n",
      "\n",
      "Epoch 00025: val_loss did not improve from 1.06385\n",
      "Epoch 26/200\n",
      "750/750 [==============================] - 7s 9ms/step - loss: 0.0291 - acc: 0.9969 - val_loss: 5.4793 - val_acc: 0.8000\n",
      "\n",
      "Epoch 00026: val_loss did not improve from 1.06385\n",
      "Epoch 27/200\n",
      "750/750 [==============================] - 7s 9ms/step - loss: 0.0179 - acc: 0.9956 - val_loss: 6.9114 - val_acc: 0.8000\n",
      "\n",
      "Epoch 00027: val_loss did not improve from 1.06385\n",
      "Epoch 28/200\n",
      "750/750 [==============================] - 7s 9ms/step - loss: 0.0114 - acc: 0.9987 - val_loss: 7.8351 - val_acc: 0.8000\n",
      "\n",
      "Epoch 00028: val_loss did not improve from 1.06385\n",
      "Epoch 29/200\n",
      "750/750 [==============================] - 7s 9ms/step - loss: 0.0066 - acc: 0.9982 - val_loss: 11.9824 - val_acc: 0.8000\n",
      "\n",
      "Epoch 00029: val_loss did not improve from 1.06385\n",
      "Epoch 30/200\n",
      "750/750 [==============================] - 7s 9ms/step - loss: 0.0349 - acc: 0.9947 - val_loss: 11.0414 - val_acc: 0.6667\n",
      "\n",
      "Epoch 00030: val_loss did not improve from 1.06385\n",
      "Epoch 31/200\n",
      "750/750 [==============================] - 7s 9ms/step - loss: 0.0090 - acc: 0.9991 - val_loss: 5.9656 - val_acc: 0.8000\n",
      "\n",
      "Epoch 00031: val_loss did not improve from 1.06385\n",
      "Epoch 32/200\n",
      "750/750 [==============================] - 7s 9ms/step - loss: 0.0012 - acc: 0.9991 - val_loss: 6.7582 - val_acc: 0.8000\n",
      "\n",
      "Epoch 00032: val_loss did not improve from 1.06385\n",
      "Epoch 33/200\n",
      "750/750 [==============================] - 7s 9ms/step - loss: 0.0142 - acc: 0.9969 - val_loss: 5.2593 - val_acc: 0.8000\n",
      "\n",
      "Epoch 00033: val_loss did not improve from 1.06385\n",
      "Epoch 34/200\n",
      "750/750 [==============================] - 7s 9ms/step - loss: 0.0045 - acc: 0.9996 - val_loss: 7.7039 - val_acc: 0.8000\n",
      "\n",
      "Epoch 00034: val_loss did not improve from 1.06385\n",
      "Epoch 35/200\n",
      "750/750 [==============================] - 7s 10ms/step - loss: 0.0022 - acc: 0.9987 - val_loss: 7.4500 - val_acc: 0.8000\n",
      "\n",
      "Epoch 00035: val_loss did not improve from 1.06385\n",
      "Epoch 36/200\n",
      "750/750 [==============================] - 7s 9ms/step - loss: 5.8717e-05 - acc: 1.0000 - val_loss: 7.1520 - val_acc: 0.8000\n",
      "\n",
      "Epoch 00036: val_loss did not improve from 1.06385\n",
      "Epoch 37/200\n",
      "750/750 [==============================] - 7s 9ms/step - loss: 0.0484 - acc: 0.9933 - val_loss: 8.5374 - val_acc: 0.8000\n",
      "\n",
      "Epoch 00037: val_loss did not improve from 1.06385\n",
      "Epoch 38/200\n",
      "750/750 [==============================] - 7s 9ms/step - loss: 0.0082 - acc: 0.9973 - val_loss: 8.1761 - val_acc: 0.8000\n",
      "\n",
      "Epoch 00038: val_loss did not improve from 1.06385\n",
      "Epoch 39/200\n",
      "750/750 [==============================] - 7s 9ms/step - loss: 0.0038 - acc: 0.9991 - val_loss: 8.7408 - val_acc: 0.8000\n",
      "\n",
      "Epoch 00039: val_loss did not improve from 1.06385\n",
      "Epoch 40/200\n",
      "750/750 [==============================] - 7s 9ms/step - loss: 0.0084 - acc: 0.9973 - val_loss: 9.5665 - val_acc: 0.8000\n",
      "\n",
      "Epoch 00040: val_loss did not improve from 1.06385\n",
      "Epoch 41/200\n",
      "750/750 [==============================] - 7s 9ms/step - loss: 0.0251 - acc: 0.9973 - val_loss: 7.2924 - val_acc: 0.8000\n",
      "\n",
      "Epoch 00041: val_loss did not improve from 1.06385\n",
      "Epoch 42/200\n",
      "750/750 [==============================] - 7s 10ms/step - loss: 0.0057 - acc: 0.9982 - val_loss: 7.1858 - val_acc: 0.8000\n",
      "\n",
      "Epoch 00042: val_loss did not improve from 1.06385\n",
      "Epoch 43/200\n",
      "750/750 [==============================] - 7s 9ms/step - loss: 1.1114e-04 - acc: 1.0000 - val_loss: 8.4467 - val_acc: 0.8000\n",
      "\n",
      "Epoch 00043: val_loss did not improve from 1.06385\n",
      "Epoch 44/200\n",
      "750/750 [==============================] - 7s 9ms/step - loss: 1.2227e-04 - acc: 1.0000 - val_loss: 9.1119 - val_acc: 0.8000\n",
      "\n",
      "Epoch 00044: val_loss did not improve from 1.06385\n",
      "Epoch 45/200\n"
     ]
    },
    {
     "name": "stdout",
     "output_type": "stream",
     "text": [
      "750/750 [==============================] - 7s 9ms/step - loss: 3.0263e-06 - acc: 1.0000 - val_loss: 8.9022 - val_acc: 0.8000\n",
      "\n",
      "Epoch 00045: val_loss did not improve from 1.06385\n",
      "Epoch 46/200\n",
      "750/750 [==============================] - 7s 9ms/step - loss: 0.0897 - acc: 0.9924 - val_loss: 7.3932 - val_acc: 0.8000\n",
      "\n",
      "Epoch 00046: val_loss did not improve from 1.06385\n",
      "Epoch 47/200\n",
      "750/750 [==============================] - 7s 9ms/step - loss: 0.0093 - acc: 0.9969 - val_loss: 11.5125 - val_acc: 0.7333\n",
      "\n",
      "Epoch 00047: val_loss did not improve from 1.06385\n",
      "Epoch 48/200\n",
      "750/750 [==============================] - 7s 9ms/step - loss: 0.0097 - acc: 0.9982 - val_loss: 11.0685 - val_acc: 0.6667\n",
      "\n",
      "Epoch 00048: val_loss did not improve from 1.06385\n",
      "Epoch 49/200\n",
      "750/750 [==============================] - 7s 9ms/step - loss: 0.0169 - acc: 0.9973 - val_loss: 7.8996 - val_acc: 0.8000\n",
      "\n",
      "Epoch 00049: val_loss did not improve from 1.06385\n",
      "Epoch 50/200\n",
      "750/750 [==============================] - 7s 9ms/step - loss: 0.0052 - acc: 0.9987 - val_loss: 8.8203 - val_acc: 0.8000\n",
      "\n",
      "Epoch 00050: val_loss did not improve from 1.06385\n",
      "Epoch 51/200\n",
      "750/750 [==============================] - 7s 9ms/step - loss: 0.0128 - acc: 0.9987 - val_loss: 11.8737 - val_acc: 0.6667\n",
      "\n",
      "Epoch 00051: val_loss did not improve from 1.06385\n",
      "Epoch 52/200\n",
      "750/750 [==============================] - 7s 9ms/step - loss: 0.0119 - acc: 0.9973 - val_loss: 8.5450 - val_acc: 0.8000\n",
      "\n",
      "Epoch 00052: val_loss did not improve from 1.06385\n",
      "Epoch 53/200\n",
      "750/750 [==============================] - 7s 9ms/step - loss: 0.0461 - acc: 0.9924 - val_loss: 11.6670 - val_acc: 0.7333\n",
      "\n",
      "Epoch 00053: val_loss did not improve from 1.06385\n",
      "Epoch 54/200\n",
      "750/750 [==============================] - 7s 9ms/step - loss: 0.0034 - acc: 0.9991 - val_loss: 9.4980 - val_acc: 0.8000\n",
      "\n",
      "Epoch 00054: val_loss did not improve from 1.06385\n",
      "Epoch 55/200\n",
      "750/750 [==============================] - 7s 9ms/step - loss: 7.9859e-06 - acc: 1.0000 - val_loss: 9.5180 - val_acc: 0.8000\n",
      "\n",
      "Epoch 00055: val_loss did not improve from 1.06385\n",
      "Epoch 56/200\n",
      "750/750 [==============================] - 7s 9ms/step - loss: 0.0041 - acc: 0.9991 - val_loss: 6.3420 - val_acc: 0.8000\n",
      "\n",
      "Epoch 00056: val_loss did not improve from 1.06385\n",
      "Epoch 57/200\n",
      "750/750 [==============================] - 7s 9ms/step - loss: 0.0125 - acc: 0.9987 - val_loss: 8.9852 - val_acc: 0.8000\n",
      "\n",
      "Epoch 00057: val_loss did not improve from 1.06385\n",
      "Epoch 58/200\n",
      "421/750 [===============>..............] - ETA: 3s - loss: 1.9141e-07 - acc: 1.0000"
     ]
    }
   ],
   "source": [
    "model.fit_generator(\n",
    "        train_generator,\n",
    "        steps_per_epoch=15*50,\n",
    "        epochs=200,\n",
    "        callbacks=[checkpointer],\n",
    "        validation_data=test_generator,\n",
    "        validation_steps=5)"
   ]
  },
  {
   "cell_type": "code",
   "execution_count": null,
   "metadata": {},
   "outputs": [],
   "source": [
    "del model"
   ]
  },
  {
   "cell_type": "code",
   "execution_count": null,
   "metadata": {},
   "outputs": [],
   "source": [
    "model = load_model('./model/poly.hdf5')"
   ]
  },
  {
   "cell_type": "code",
   "execution_count": null,
   "metadata": {},
   "outputs": [],
   "source": [
    "print(\"-- Evaluate --\")\n",
    "scores = model.evaluate_generator(test_generator, steps=5)\n",
    "print(\"%s: %.2f%%\" %(model.metrics_names[1], scores[1]*100))"
   ]
  },
  {
   "cell_type": "code",
   "execution_count": null,
   "metadata": {},
   "outputs": [],
   "source": [
    "print(\"-- Predict --\")\n",
    "output = model.predict_generator(test_generator, steps=5)\n",
    "np.set_printoptions(formatter={'float': lambda x: \"{0:0.3f}\".format(x)})\n",
    "print(test_generator.class_indices)\n",
    "print(output)"
   ]
  },
  {
   "cell_type": "code",
   "execution_count": null,
   "metadata": {},
   "outputs": [],
   "source": [
    "for i in range(len(test_generator.labels)):\n",
    "    print(test_generator.filenames[i], test_generator.labels[i], np.argmax(output[i]))"
   ]
  },
  {
   "cell_type": "code",
   "execution_count": null,
   "metadata": {},
   "outputs": [],
   "source": []
  }
 ],
 "metadata": {
  "kernelspec": {
   "display_name": "Python 3",
   "language": "python",
   "name": "python3"
  },
  "language_info": {
   "codemirror_mode": {
    "name": "ipython",
    "version": 3
   },
   "file_extension": ".py",
   "mimetype": "text/x-python",
   "name": "python",
   "nbconvert_exporter": "python",
   "pygments_lexer": "ipython3",
   "version": "3.7.7"
  }
 },
 "nbformat": 4,
 "nbformat_minor": 4
}
