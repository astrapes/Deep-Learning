{
 "cells": [
  {
   "cell_type": "code",
   "execution_count": 1,
   "metadata": {},
   "outputs": [
    {
     "name": "stderr",
     "output_type": "stream",
     "text": [
      "Using TensorFlow backend.\n"
     ]
    }
   ],
   "source": [
    "import numpy as np\n",
    "import tensorflow as tf\n",
    "import os\n",
    "import matplotlib.pyplot as plt\n",
    "from tensorflow import keras\n",
    "from keras.datasets import mnist\n",
    "from keras.models import Sequential\n",
    "from keras.layers import Dense, Dropout, Flatten\n",
    "from keras.layers import Conv2D, MaxPooling2D\n",
    "from keras.models import load_model\n",
    "from keras.callbacks import ModelCheckpoint, EarlyStopping\n",
    "%matplotlib inline"
   ]
  },
  {
   "cell_type": "code",
   "execution_count": 2,
   "metadata": {},
   "outputs": [],
   "source": [
    "seed=2020\n",
    "np.random.seed(seed)\n",
    "tf.random.set_seed(seed)"
   ]
  },
  {
   "cell_type": "code",
   "execution_count": 3,
   "metadata": {},
   "outputs": [],
   "source": [
    "# 데이터 불러오기\n",
    "(x_train, y_train),(x_test, y_test)=mnist.load_data()\n",
    "x_train=x_train.reshape(-1,28,28,1).astype(\"float32\")/255\n",
    "x_test=x_test.reshape(-1,28,28,1).astype(\"float32\")/255\n",
    "y_train=keras.utils.to_categorical(y_train)\n",
    "y_test=keras.utils.to_categorical(y_test)"
   ]
  },
  {
   "cell_type": "code",
   "execution_count": 4,
   "metadata": {},
   "outputs": [
    {
     "name": "stdout",
     "output_type": "stream",
     "text": [
      "Model: \"sequential_1\"\n",
      "_________________________________________________________________\n",
      "Layer (type)                 Output Shape              Param #   \n",
      "=================================================================\n",
      "conv2d_1 (Conv2D)            (None, 26, 26, 32)        320       \n",
      "_________________________________________________________________\n",
      "conv2d_2 (Conv2D)            (None, 24, 24, 64)        18496     \n",
      "_________________________________________________________________\n",
      "max_pooling2d_1 (MaxPooling2 (None, 12, 12, 64)        0         \n",
      "_________________________________________________________________\n",
      "dropout_1 (Dropout)          (None, 12, 12, 64)        0         \n",
      "_________________________________________________________________\n",
      "flatten_1 (Flatten)          (None, 9216)              0         \n",
      "_________________________________________________________________\n",
      "dense_1 (Dense)              (None, 128)               1179776   \n",
      "_________________________________________________________________\n",
      "dropout_2 (Dropout)          (None, 128)               0         \n",
      "_________________________________________________________________\n",
      "dense_2 (Dense)              (None, 10)                1290      \n",
      "=================================================================\n",
      "Total params: 1,199,882\n",
      "Trainable params: 1,199,882\n",
      "Non-trainable params: 0\n",
      "_________________________________________________________________\n"
     ]
    }
   ],
   "source": [
    "# 컨볼루션 신경망 설정\n",
    "model = Sequential([\n",
    "    Conv2D(32, kernel_size=(3, 3), input_shape=(28, 28, 1), activation='relu'),\n",
    "    Conv2D(64, (3, 3), activation='relu'),\n",
    "    MaxPooling2D(pool_size=2),\n",
    "    Dropout(0.25),\n",
    "    Flatten(),\n",
    "    Dense(128, activation='relu'),\n",
    "    Dropout(0.5),\n",
    "    Dense(10, activation='softmax')\n",
    "])\n",
    "model.summary()"
   ]
  },
  {
   "cell_type": "code",
   "execution_count": 5,
   "metadata": {},
   "outputs": [],
   "source": [
    "model.compile(loss=\"categorical_crossentropy\", optimizer='adam', metrics=['accuracy'])"
   ]
  },
  {
   "cell_type": "code",
   "execution_count": 6,
   "metadata": {},
   "outputs": [],
   "source": [
    "# 모델 최적화 설정\n",
    "MODEL_DIR='./model/'\n",
    "if not os.path.exists(MODEL_DIR):\n",
    "    os.mkdir(MODEL_DIR)"
   ]
  },
  {
   "cell_type": "code",
   "execution_count": 7,
   "metadata": {},
   "outputs": [],
   "source": [
    "modelpath=MODEL_DIR+\"mnist-cnn.hdf5\"\n",
    "checkpointer=ModelCheckpoint(filepath=modelpath,monitor=\"val_loss\",\n",
    "                            verbose=1, save_best_only=True)\n",
    "early_stopping_callback = EarlyStopping(monitor='val_loss', patience=10)"
   ]
  },
  {
   "cell_type": "code",
   "execution_count": 8,
   "metadata": {},
   "outputs": [
    {
     "name": "stdout",
     "output_type": "stream",
     "text": [
      "Train on 60000 samples, validate on 10000 samples\n",
      "Epoch 1/30\n",
      "60000/60000 [==============================] - 49s 809us/step - loss: 0.2629 - accuracy: 0.9182 - val_loss: 0.0515 - val_accuracy: 0.9836\n",
      "\n",
      "Epoch 00001: val_loss improved from inf to 0.05146, saving model to ./model/mnist-cnn.hdf5\n",
      "Epoch 2/30\n",
      "60000/60000 [==============================] - 48s 802us/step - loss: 0.0880 - accuracy: 0.9743 - val_loss: 0.0376 - val_accuracy: 0.9877\n",
      "\n",
      "Epoch 00002: val_loss improved from 0.05146 to 0.03763, saving model to ./model/mnist-cnn.hdf5\n",
      "Epoch 3/30\n",
      "60000/60000 [==============================] - 49s 815us/step - loss: 0.0654 - accuracy: 0.9803 - val_loss: 0.0357 - val_accuracy: 0.9878\n",
      "\n",
      "Epoch 00003: val_loss improved from 0.03763 to 0.03567, saving model to ./model/mnist-cnn.hdf5\n",
      "Epoch 4/30\n",
      "60000/60000 [==============================] - 48s 792us/step - loss: 0.0529 - accuracy: 0.9841 - val_loss: 0.0316 - val_accuracy: 0.9894\n",
      "\n",
      "Epoch 00004: val_loss improved from 0.03567 to 0.03162, saving model to ./model/mnist-cnn.hdf5\n",
      "Epoch 5/30\n",
      "60000/60000 [==============================] - 46s 773us/step - loss: 0.0467 - accuracy: 0.9852 - val_loss: 0.0296 - val_accuracy: 0.9911\n",
      "\n",
      "Epoch 00005: val_loss improved from 0.03162 to 0.02964, saving model to ./model/mnist-cnn.hdf5\n",
      "Epoch 6/30\n",
      "60000/60000 [==============================] - 47s 783us/step - loss: 0.0399 - accuracy: 0.9871 - val_loss: 0.0285 - val_accuracy: 0.9909\n",
      "\n",
      "Epoch 00006: val_loss improved from 0.02964 to 0.02847, saving model to ./model/mnist-cnn.hdf5\n",
      "Epoch 7/30\n",
      "60000/60000 [==============================] - 48s 805us/step - loss: 0.0351 - accuracy: 0.9891 - val_loss: 0.0300 - val_accuracy: 0.9904\n",
      "\n",
      "Epoch 00007: val_loss did not improve from 0.02847\n",
      "Epoch 8/30\n",
      "60000/60000 [==============================] - 47s 789us/step - loss: 0.0320 - accuracy: 0.9893 - val_loss: 0.0271 - val_accuracy: 0.9915\n",
      "\n",
      "Epoch 00008: val_loss improved from 0.02847 to 0.02707, saving model to ./model/mnist-cnn.hdf5\n",
      "Epoch 9/30\n",
      "60000/60000 [==============================] - 46s 769us/step - loss: 0.0281 - accuracy: 0.9908 - val_loss: 0.0275 - val_accuracy: 0.9920\n",
      "\n",
      "Epoch 00009: val_loss did not improve from 0.02707\n",
      "Epoch 10/30\n",
      "60000/60000 [==============================] - 47s 781us/step - loss: 0.0253 - accuracy: 0.9919 - val_loss: 0.0289 - val_accuracy: 0.9914\n",
      "\n",
      "Epoch 00010: val_loss did not improve from 0.02707\n",
      "Epoch 11/30\n",
      "60000/60000 [==============================] - 47s 780us/step - loss: 0.0235 - accuracy: 0.9920 - val_loss: 0.0319 - val_accuracy: 0.9907\n",
      "\n",
      "Epoch 00011: val_loss did not improve from 0.02707\n",
      "Epoch 12/30\n",
      "60000/60000 [==============================] - 47s 775us/step - loss: 0.0222 - accuracy: 0.9928 - val_loss: 0.0289 - val_accuracy: 0.9923\n",
      "\n",
      "Epoch 00012: val_loss did not improve from 0.02707\n",
      "Epoch 13/30\n",
      "60000/60000 [==============================] - 47s 778us/step - loss: 0.0212 - accuracy: 0.9928 - val_loss: 0.0332 - val_accuracy: 0.9911\n",
      "\n",
      "Epoch 00013: val_loss did not improve from 0.02707\n",
      "Epoch 14/30\n",
      "60000/60000 [==============================] - 47s 786us/step - loss: 0.0188 - accuracy: 0.9941 - val_loss: 0.0314 - val_accuracy: 0.9914\n",
      "\n",
      "Epoch 00014: val_loss did not improve from 0.02707\n",
      "Epoch 15/30\n",
      "60000/60000 [==============================] - 47s 777us/step - loss: 0.0191 - accuracy: 0.9934 - val_loss: 0.0296 - val_accuracy: 0.9920\n",
      "\n",
      "Epoch 00015: val_loss did not improve from 0.02707\n",
      "Epoch 16/30\n",
      "60000/60000 [==============================] - 47s 782us/step - loss: 0.0182 - accuracy: 0.9941 - val_loss: 0.0296 - val_accuracy: 0.9922\n",
      "\n",
      "Epoch 00016: val_loss did not improve from 0.02707\n",
      "Epoch 17/30\n",
      "60000/60000 [==============================] - 48s 801us/step - loss: 0.0154 - accuracy: 0.9949 - val_loss: 0.0328 - val_accuracy: 0.9922\n",
      "\n",
      "Epoch 00017: val_loss did not improve from 0.02707\n",
      "Epoch 18/30\n",
      "60000/60000 [==============================] - 47s 781us/step - loss: 0.0171 - accuracy: 0.9942 - val_loss: 0.0353 - val_accuracy: 0.9912\n",
      "\n",
      "Epoch 00018: val_loss did not improve from 0.02707\n"
     ]
    }
   ],
   "source": [
    "# 모델의 실행\n",
    "history=model.fit(x_train,y_train,validation_data=(x_test,y_test),epochs=30,\n",
    "                  batch_size=200,\n",
    "                  callbacks=[early_stopping_callback, checkpointer])"
   ]
  },
  {
   "cell_type": "code",
   "execution_count": 9,
   "metadata": {},
   "outputs": [],
   "source": [
    "del model"
   ]
  },
  {
   "cell_type": "code",
   "execution_count": 10,
   "metadata": {},
   "outputs": [],
   "source": [
    "model = load_model('model/mnist-cnn.hdf5')"
   ]
  },
  {
   "cell_type": "code",
   "execution_count": 11,
   "metadata": {},
   "outputs": [
    {
     "name": "stdout",
     "output_type": "stream",
     "text": [
      "\n",
      " Test Accuracy: 0.9915\n"
     ]
    }
   ],
   "source": [
    "print(\"\\n Test Accuracy: %.4f\" % (model.evaluate(x_test, y_test, verbose=0)[1]))"
   ]
  },
  {
   "cell_type": "code",
   "execution_count": 12,
   "metadata": {},
   "outputs": [],
   "source": [
    "# 테스트셋의 오차\n",
    "y_vloss = history.history['val_loss']\n",
    "\n",
    "# 학습셋의 오차\n",
    "y_loss = history.history['loss']"
   ]
  },
  {
   "cell_type": "code",
   "execution_count": 13,
   "metadata": {},
   "outputs": [
    {
     "data": {
      "image/png": "[encoded data removed]",
      "text/plain": [
       "<Figure size 576x432 with 1 Axes>"
      ]
     },
     "metadata": {
      "needs_background": "light"
     },
     "output_type": "display_data"
    }
   ],
   "source": [
    "# 그래프로 표현\n",
    "x_len = np.arange(1, len(y_loss)+1)\n",
    "plt.figure(figsize=(8,6))\n",
    "plt.plot(x_len, y_vloss, marker='.', c=\"red\", label='Testset_loss')\n",
    "plt.plot(x_len, y_loss, marker='.', c=\"blue\", label='Trainset_loss')\n",
    "\n",
    "# 그래프에 그리드를 주고 레이블을 표시\n",
    "plt.legend(loc='upper right')\n",
    "# plt.axis([0, 20, 0, 0.35])\n",
    "plt.grid()\n",
    "plt.xlabel('epoch')\n",
    "plt.ylabel('loss')\n",
    "plt.show()"
   ]
  },
  {
   "cell_type": "code",
   "execution_count": null,
   "metadata": {},
   "outputs": [],
   "source": []
  }
 ],
 "metadata": {
  "kernelspec": {
   "display_name": "Python 3",
   "language": "python",
   "name": "python3"
  },
  "language_info": {
   "codemirror_mode": {
    "name": "ipython",
    "version": 3
   },
   "file_extension": ".py",
   "mimetype": "text/x-python",
   "name": "python",
   "nbconvert_exporter": "python",
   "pygments_lexer": "ipython3",
   "version": "3.7.7"
  }
 },
 "nbformat": 4,
 "nbformat_minor": 4
}
