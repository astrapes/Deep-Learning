{
 "cells": [
  {
   "cell_type": "markdown",
   "metadata": {},
   "source": [
    "# CNN MNIST"
   ]
  },
  {
   "cell_type": "code",
   "execution_count": 1,
   "metadata": {},
   "outputs": [
    {
     "name": "stderr",
     "output_type": "stream",
     "text": [
      "Using TensorFlow backend.\n"
     ]
    }
   ],
   "source": [
    "import numpy as np\n",
    "import tensorflow as tf\n",
    "import os\n",
    "import matplotlib.pyplot as plt\n",
    "from tensorflow import keras\n",
    "from keras.datasets import mnist\n",
    "from keras.models import Sequential\n",
    "from keras.layers import Dense, Dropout, Flatten\n",
    "from keras.layers import Conv2D, MaxPooling2D\n",
    "from keras.models import load_model\n",
    "from keras.callbacks import ModelCheckpoint, EarlyStopping\n",
    "%matplotlib inline"
   ]
  },
  {
   "cell_type": "code",
   "execution_count": 2,
   "metadata": {},
   "outputs": [],
   "source": [
    "seed=2020\n",
    "np.random.seed(seed)\n",
    "tf.random.set_seed(seed)"
   ]
  },
  {
   "cell_type": "code",
   "execution_count": 3,
   "metadata": {},
   "outputs": [],
   "source": [
    "# 데이터 불러오기\n",
    "(x_train, y_train),(x_test, y_test)=mnist.load_data()\n",
    "x_train=x_train.reshape(-1,28,28,1).astype(\"float32\")/255\n",
    "x_test=x_test.reshape(-1,28,28,1).astype(\"float32\")/255\n",
    "y_train=keras.utils.to_categorical(y_train)\n",
    "y_test=keras.utils.to_categorical(y_test)"
   ]
  },
  {
   "cell_type": "code",
   "execution_count": 4,
   "metadata": {},
   "outputs": [
    {
     "name": "stdout",
     "output_type": "stream",
     "text": [
      "Model: \"sequential_1\"\n",
      "_________________________________________________________________\n",
      "Layer (type)                 Output Shape              Param #   \n",
      "=================================================================\n",
      "conv2d_1 (Conv2D)            (None, 24, 24, 32)        832       \n",
      "_________________________________________________________________\n",
      "max_pooling2d_1 (MaxPooling2 (None, 12, 12, 32)        0         \n",
      "_________________________________________________________________\n",
      "conv2d_2 (Conv2D)            (None, 10, 10, 64)        18496     \n",
      "_________________________________________________________________\n",
      "max_pooling2d_2 (MaxPooling2 (None, 5, 5, 64)          0         \n",
      "_________________________________________________________________\n",
      "flatten_1 (Flatten)          (None, 1600)              0         \n",
      "_________________________________________________________________\n",
      "dropout_1 (Dropout)          (None, 1600)              0         \n",
      "_________________________________________________________________\n",
      "dense_1 (Dense)              (None, 128)               204928    \n",
      "_________________________________________________________________\n",
      "dense_2 (Dense)              (None, 64)                8256      \n",
      "_________________________________________________________________\n",
      "dropout_2 (Dropout)          (None, 64)                0         \n",
      "_________________________________________________________________\n",
      "dense_3 (Dense)              (None, 32)                2080      \n",
      "_________________________________________________________________\n",
      "dense_4 (Dense)              (None, 10)                330       \n",
      "=================================================================\n",
      "Total params: 234,922\n",
      "Trainable params: 234,922\n",
      "Non-trainable params: 0\n",
      "_________________________________________________________________\n"
     ]
    }
   ],
   "source": [
    "# 컨볼루션 신경망 설정\n",
    "model = Sequential([\n",
    "    Conv2D(32, kernel_size=(5, 5), input_shape=(28, 28, 1), activation='relu'),\n",
    "    MaxPooling2D(pool_size=2),\n",
    "    Conv2D(64, (3, 3), activation='relu'),\n",
    "    MaxPooling2D(pool_size=2),\n",
    "    Flatten(),\n",
    "    Dropout(0.2),\n",
    "    Dense(128, activation='relu'),\n",
    "    Dense(64, activation='relu'),\n",
    "    Dropout(0.5),\n",
    "    Dense(32, activation='relu'),\n",
    "    Dense(10, activation='softmax')\n",
    "])\n",
    "model.summary()"
   ]
  },
  {
   "cell_type": "code",
   "execution_count": 5,
   "metadata": {},
   "outputs": [],
   "source": [
    "model.compile(loss=\"categorical_crossentropy\",\n",
    "             optimizer='adam',\n",
    "             metrics=['accuracy'])"
   ]
  },
  {
   "cell_type": "code",
   "execution_count": 6,
   "metadata": {},
   "outputs": [],
   "source": [
    "# 모델 최적화 설정\n",
    "MODEL_DIR='./model/'\n",
    "if not os.path.exists(MODEL_DIR):\n",
    "    os.mkdir(MODEL_DIR)"
   ]
  },
  {
   "cell_type": "code",
   "execution_count": 7,
   "metadata": {},
   "outputs": [],
   "source": [
    "modelpath=MODEL_DIR+\"mnist-cnn.hdf5\"\n",
    "checkpointer=ModelCheckpoint(filepath=modelpath,monitor=\"val_loss\",\n",
    "                            verbose=1, save_best_only=True)\n",
    "early_stopping_callback = EarlyStopping(monitor='val_loss', patience=10)"
   ]
  },
  {
   "cell_type": "code",
   "execution_count": 8,
   "metadata": {
    "scrolled": true
   },
   "outputs": [
    {
     "name": "stdout",
     "output_type": "stream",
     "text": [
      "Train on 60000 samples, validate on 10000 samples\n",
      "Epoch 1/30\n",
      "60000/60000 [==============================] - 16s 262us/step - loss: 0.4946 - accuracy: 0.8428 - val_loss: 0.0690 - val_accuracy: 0.9778\n",
      "\n",
      "Epoch 00001: val_loss improved from inf to 0.06895, saving model to ./model/mnist-cnn.hdf5\n",
      "Epoch 2/30\n",
      "60000/60000 [==============================] - 15s 256us/step - loss: 0.1357 - accuracy: 0.9620 - val_loss: 0.0459 - val_accuracy: 0.9862\n",
      "\n",
      "Epoch 00002: val_loss improved from 0.06895 to 0.04595, saving model to ./model/mnist-cnn.hdf5\n",
      "Epoch 3/30\n",
      "60000/60000 [==============================] - 15s 257us/step - loss: 0.0931 - accuracy: 0.9752 - val_loss: 0.0409 - val_accuracy: 0.9878\n",
      "\n",
      "Epoch 00003: val_loss improved from 0.04595 to 0.04088, saving model to ./model/mnist-cnn.hdf5\n",
      "Epoch 4/30\n",
      "60000/60000 [==============================] - 15s 256us/step - loss: 0.0738 - accuracy: 0.9803 - val_loss: 0.0396 - val_accuracy: 0.9876\n",
      "\n",
      "Epoch 00004: val_loss improved from 0.04088 to 0.03963, saving model to ./model/mnist-cnn.hdf5\n",
      "Epoch 5/30\n",
      "60000/60000 [==============================] - 15s 256us/step - loss: 0.0602 - accuracy: 0.9838 - val_loss: 0.0319 - val_accuracy: 0.9906\n",
      "\n",
      "Epoch 00005: val_loss improved from 0.03963 to 0.03187, saving model to ./model/mnist-cnn.hdf5\n",
      "Epoch 6/30\n",
      "60000/60000 [==============================] - 15s 256us/step - loss: 0.0514 - accuracy: 0.9863 - val_loss: 0.0265 - val_accuracy: 0.9912\n",
      "\n",
      "Epoch 00006: val_loss improved from 0.03187 to 0.02655, saving model to ./model/mnist-cnn.hdf5\n",
      "Epoch 7/30\n",
      "60000/60000 [==============================] - 15s 256us/step - loss: 0.0463 - accuracy: 0.9878 - val_loss: 0.0323 - val_accuracy: 0.9903\n",
      "\n",
      "Epoch 00007: val_loss did not improve from 0.02655\n",
      "Epoch 8/30\n",
      "60000/60000 [==============================] - 15s 256us/step - loss: 0.0375 - accuracy: 0.9899 - val_loss: 0.0271 - val_accuracy: 0.9924\n",
      "\n",
      "Epoch 00008: val_loss did not improve from 0.02655\n",
      "Epoch 9/30\n",
      "60000/60000 [==============================] - 15s 256us/step - loss: 0.0344 - accuracy: 0.9903 - val_loss: 0.0302 - val_accuracy: 0.9925\n",
      "\n",
      "Epoch 00009: val_loss did not improve from 0.02655\n",
      "Epoch 10/30\n",
      "60000/60000 [==============================] - 15s 256us/step - loss: 0.0296 - accuracy: 0.9918 - val_loss: 0.0315 - val_accuracy: 0.9922\n",
      "\n",
      "Epoch 00010: val_loss did not improve from 0.02655\n",
      "Epoch 11/30\n",
      "60000/60000 [==============================] - 15s 255us/step - loss: 0.0299 - accuracy: 0.9913 - val_loss: 0.0286 - val_accuracy: 0.9919\n",
      "\n",
      "Epoch 00011: val_loss did not improve from 0.02655\n",
      "Epoch 12/30\n",
      "60000/60000 [==============================] - 15s 256us/step - loss: 0.0260 - accuracy: 0.9930 - val_loss: 0.0254 - val_accuracy: 0.9928\n",
      "\n",
      "Epoch 00012: val_loss improved from 0.02655 to 0.02537, saving model to ./model/mnist-cnn.hdf5\n",
      "Epoch 13/30\n",
      "60000/60000 [==============================] - 15s 255us/step - loss: 0.0228 - accuracy: 0.9937 - val_loss: 0.0260 - val_accuracy: 0.9933\n",
      "\n",
      "Epoch 00013: val_loss did not improve from 0.02537\n",
      "Epoch 14/30\n",
      "60000/60000 [==============================] - 15s 256us/step - loss: 0.0215 - accuracy: 0.9938 - val_loss: 0.0291 - val_accuracy: 0.9942\n",
      "\n",
      "Epoch 00014: val_loss did not improve from 0.02537\n",
      "Epoch 15/30\n",
      "60000/60000 [==============================] - 15s 256us/step - loss: 0.0192 - accuracy: 0.9948 - val_loss: 0.0281 - val_accuracy: 0.9928\n",
      "\n",
      "Epoch 00015: val_loss did not improve from 0.02537\n",
      "Epoch 16/30\n",
      "60000/60000 [==============================] - 15s 256us/step - loss: 0.0173 - accuracy: 0.9952 - val_loss: 0.0242 - val_accuracy: 0.9942\n",
      "\n",
      "Epoch 00016: val_loss improved from 0.02537 to 0.02422, saving model to ./model/mnist-cnn.hdf5\n",
      "Epoch 17/30\n",
      "60000/60000 [==============================] - 15s 256us/step - loss: 0.0188 - accuracy: 0.9944 - val_loss: 0.0303 - val_accuracy: 0.9923\n",
      "\n",
      "Epoch 00017: val_loss did not improve from 0.02422\n",
      "Epoch 18/30\n",
      "60000/60000 [==============================] - 15s 256us/step - loss: 0.0154 - accuracy: 0.9955 - val_loss: 0.0254 - val_accuracy: 0.9941\n",
      "\n",
      "Epoch 00018: val_loss did not improve from 0.02422\n",
      "Epoch 19/30\n",
      "60000/60000 [==============================] - 15s 256us/step - loss: 0.0166 - accuracy: 0.9950 - val_loss: 0.0241 - val_accuracy: 0.9937\n",
      "\n",
      "Epoch 00019: val_loss improved from 0.02422 to 0.02411, saving model to ./model/mnist-cnn.hdf5\n",
      "Epoch 20/30\n",
      "60000/60000 [==============================] - 16s 261us/step - loss: 0.0130 - accuracy: 0.9962 - val_loss: 0.0302 - val_accuracy: 0.9936\n",
      "\n",
      "Epoch 00020: val_loss did not improve from 0.02411\n",
      "Epoch 21/30\n",
      "60000/60000 [==============================] - 15s 257us/step - loss: 0.0136 - accuracy: 0.9965 - val_loss: 0.0344 - val_accuracy: 0.9920\n",
      "\n",
      "Epoch 00021: val_loss did not improve from 0.02411\n",
      "Epoch 22/30\n",
      "60000/60000 [==============================] - 15s 256us/step - loss: 0.0119 - accuracy: 0.9968 - val_loss: 0.0298 - val_accuracy: 0.9930\n",
      "\n",
      "Epoch 00022: val_loss did not improve from 0.02411\n",
      "Epoch 23/30\n",
      "60000/60000 [==============================] - 16s 259us/step - loss: 0.0126 - accuracy: 0.9965 - val_loss: 0.0330 - val_accuracy: 0.9927\n",
      "\n",
      "Epoch 00023: val_loss did not improve from 0.02411\n",
      "Epoch 24/30\n",
      "60000/60000 [==============================] - 15s 257us/step - loss: 0.0121 - accuracy: 0.9965 - val_loss: 0.0356 - val_accuracy: 0.9930\n",
      "\n",
      "Epoch 00024: val_loss did not improve from 0.02411\n",
      "Epoch 25/30\n",
      "60000/60000 [==============================] - 15s 256us/step - loss: 0.0109 - accuracy: 0.9969 - val_loss: 0.0347 - val_accuracy: 0.9924\n",
      "\n",
      "Epoch 00025: val_loss did not improve from 0.02411\n",
      "Epoch 26/30\n",
      "60000/60000 [==============================] - 15s 256us/step - loss: 0.0102 - accuracy: 0.9968 - val_loss: 0.0431 - val_accuracy: 0.9930\n",
      "\n",
      "Epoch 00026: val_loss did not improve from 0.02411\n",
      "Epoch 27/30\n",
      "60000/60000 [==============================] - 15s 256us/step - loss: 0.0112 - accuracy: 0.9967 - val_loss: 0.0410 - val_accuracy: 0.9921\n",
      "\n",
      "Epoch 00027: val_loss did not improve from 0.02411\n",
      "Epoch 28/30\n",
      "60000/60000 [==============================] - 15s 256us/step - loss: 0.0109 - accuracy: 0.9969 - val_loss: 0.0369 - val_accuracy: 0.9932\n",
      "\n",
      "Epoch 00028: val_loss did not improve from 0.02411\n",
      "Epoch 29/30\n",
      "60000/60000 [==============================] - 15s 257us/step - loss: 0.0090 - accuracy: 0.9974 - val_loss: 0.0331 - val_accuracy: 0.9936\n",
      "\n",
      "Epoch 00029: val_loss did not improve from 0.02411\n"
     ]
    }
   ],
   "source": [
    "# 모델의 실행\n",
    "history=model.fit(x_train,y_train,validation_data=(x_test,y_test),epochs=30,\n",
    "                  batch_size=200,\n",
    "                  callbacks=[early_stopping_callback, checkpointer])"
   ]
  },
  {
   "cell_type": "code",
   "execution_count": 9,
   "metadata": {},
   "outputs": [],
   "source": [
    "del model"
   ]
  },
  {
   "cell_type": "code",
   "execution_count": 10,
   "metadata": {},
   "outputs": [],
   "source": [
    "model = load_model('model/mnist-cnn.hdf5')"
   ]
  },
  {
   "cell_type": "code",
   "execution_count": 11,
   "metadata": {},
   "outputs": [
    {
     "name": "stdout",
     "output_type": "stream",
     "text": [
      "\n",
      " Test Accuracy: 0.9937\n"
     ]
    }
   ],
   "source": [
    "print(\"\\n Test Accuracy: %.4f\" % (model.evaluate(x_test, y_test, verbose=0)[1]))"
   ]
  },
  {
   "cell_type": "code",
   "execution_count": 12,
   "metadata": {},
   "outputs": [],
   "source": [
    "# 테스트셋의 오차\n",
    "y_vloss = history.history['val_loss']\n",
    "\n",
    "# 학습셋의 오차\n",
    "y_loss = history.history['loss']"
   ]
  },
  {
   "cell_type": "code",
   "execution_count": 13,
   "metadata": {},
   "outputs": [
    {
     "data": {
      "image/png": "[encoded data removed]",
      "text/plain": [
       "<Figure size 576x432 with 1 Axes>"
      ]
     },
     "metadata": {
      "needs_background": "light"
     },
     "output_type": "display_data"
    }
   ],
   "source": [
    "# 그래프로 표현\n",
    "x_len = np.arange(1, len(y_loss)+1)\n",
    "plt.figure(figsize=(8,6))\n",
    "plt.plot(x_len, y_vloss, marker='.', c=\"red\", label='Testset_loss')\n",
    "plt.plot(x_len, y_loss, marker='.', c=\"blue\", label='Trainset_loss')\n",
    "\n",
    "# 그래프에 그리드를 주고 레이블을 표시\n",
    "plt.legend(loc='upper right')\n",
    "# plt.axis([0, 20, 0, 0.35])\n",
    "plt.grid()\n",
    "plt.xlabel('epoch')\n",
    "plt.ylabel('loss')\n",
    "plt.show()"
   ]
  },
  {
   "cell_type": "markdown",
   "metadata": {},
   "source": [
    "# DNN MNIST"
   ]
  },
  {
   "cell_type": "code",
   "execution_count": 14,
   "metadata": {},
   "outputs": [],
   "source": [
    "(x_train, y_class_train),(x_test,y_class_test)=mnist.load_data()"
   ]
  },
  {
   "cell_type": "code",
   "execution_count": 15,
   "metadata": {},
   "outputs": [],
   "source": [
    "# 정규화\n",
    "x_train=x_train.reshape(x_train.shape[0],784)\n",
    "x_train=x_train/255.    # 실수로 나누기를 해 값을 실수로 만듦"
   ]
  },
  {
   "cell_type": "code",
   "execution_count": 16,
   "metadata": {},
   "outputs": [],
   "source": [
    "x_test = x_test.reshape(x_test.shape[0], 784).astype('float64') / 255"
   ]
  },
  {
   "cell_type": "code",
   "execution_count": 17,
   "metadata": {},
   "outputs": [],
   "source": [
    "from tensorflow.keras.utils import to_categorical\n",
    "y_train = to_categorical(y_class_train, 10)\n",
    "y_test = to_categorical(y_class_test, 10)"
   ]
  },
  {
   "cell_type": "code",
   "execution_count": 18,
   "metadata": {},
   "outputs": [
    {
     "name": "stdout",
     "output_type": "stream",
     "text": [
      "Model: \"sequential_2\"\n",
      "_________________________________________________________________\n",
      "Layer (type)                 Output Shape              Param #   \n",
      "=================================================================\n",
      "dense_5 (Dense)              (None, 512)               401920    \n",
      "_________________________________________________________________\n",
      "dense_6 (Dense)              (None, 128)               65664     \n",
      "_________________________________________________________________\n",
      "dense_7 (Dense)              (None, 10)                1290      \n",
      "=================================================================\n",
      "Total params: 468,874\n",
      "Trainable params: 468,874\n",
      "Non-trainable params: 0\n",
      "_________________________________________________________________\n"
     ]
    }
   ],
   "source": [
    "# 모델 프레임 설정\n",
    "model = Sequential([\n",
    "    Dense(512, input_dim=784, activation='relu'),\n",
    "    Dense(128, activation='relu'),\n",
    "    Dense(10, activation='softmax')\n",
    "])\n",
    "model.summary()"
   ]
  },
  {
   "cell_type": "code",
   "execution_count": 19,
   "metadata": {},
   "outputs": [],
   "source": [
    "# 모델 실행 환경 설정 \n",
    "model.compile(loss='categorical_crossentropy',\n",
    "              optimizer='adam',\n",
    "              metrics=['accuracy'])"
   ]
  },
  {
   "cell_type": "code",
   "execution_count": 20,
   "metadata": {},
   "outputs": [],
   "source": [
    "# 모델 최적화 설정\n",
    "MODEL_DIR = './model/'\n",
    "if not os.path.exists(MODEL_DIR):\n",
    "    os.mkdir(MODEL_DIR)"
   ]
  },
  {
   "cell_type": "code",
   "execution_count": 21,
   "metadata": {},
   "outputs": [],
   "source": [
    "modelpath = MODEL_DIR + \"mnist.hdf5\"\n",
    "checkpointer = ModelCheckpoint(filepath=modelpath, monitor='val_loss', \n",
    "                               verbose=1, save_best_only=True)\n",
    "early_stopping_callback = EarlyStopping(monitor='val_loss', patience=10)"
   ]
  },
  {
   "cell_type": "code",
   "execution_count": 22,
   "metadata": {},
   "outputs": [
    {
     "name": "stdout",
     "output_type": "stream",
     "text": [
      "\n",
      "Epoch 00001: val_loss improved from inf to 0.23601, saving model to ./model/mnist.hdf5\n",
      "\n",
      "Epoch 00002: val_loss improved from 0.23601 to 0.16625, saving model to ./model/mnist.hdf5\n",
      "\n",
      "Epoch 00003: val_loss improved from 0.16625 to 0.13725, saving model to ./model/mnist.hdf5\n",
      "\n",
      "Epoch 00004: val_loss improved from 0.13725 to 0.11315, saving model to ./model/mnist.hdf5\n",
      "\n",
      "Epoch 00005: val_loss improved from 0.11315 to 0.10296, saving model to ./model/mnist.hdf5\n",
      "\n",
      "Epoch 00006: val_loss improved from 0.10296 to 0.09937, saving model to ./model/mnist.hdf5\n",
      "\n",
      "Epoch 00007: val_loss improved from 0.09937 to 0.09399, saving model to ./model/mnist.hdf5\n",
      "\n",
      "Epoch 00008: val_loss improved from 0.09399 to 0.08744, saving model to ./model/mnist.hdf5\n",
      "\n",
      "Epoch 00009: val_loss did not improve from 0.08744\n",
      "\n",
      "Epoch 00010: val_loss improved from 0.08744 to 0.08265, saving model to ./model/mnist.hdf5\n",
      "\n",
      "Epoch 00011: val_loss improved from 0.08265 to 0.08212, saving model to ./model/mnist.hdf5\n",
      "\n",
      "Epoch 00012: val_loss improved from 0.08212 to 0.07890, saving model to ./model/mnist.hdf5\n",
      "\n",
      "Epoch 00013: val_loss did not improve from 0.07890\n",
      "\n",
      "Epoch 00014: val_loss did not improve from 0.07890\n",
      "\n",
      "Epoch 00015: val_loss did not improve from 0.07890\n",
      "\n",
      "Epoch 00016: val_loss did not improve from 0.07890\n",
      "\n",
      "Epoch 00017: val_loss did not improve from 0.07890\n",
      "\n",
      "Epoch 00018: val_loss did not improve from 0.07890\n",
      "\n",
      "Epoch 00019: val_loss did not improve from 0.07890\n",
      "\n",
      "Epoch 00020: val_loss did not improve from 0.07890\n",
      "\n",
      "Epoch 00021: val_loss did not improve from 0.07890\n",
      "\n",
      "Epoch 00022: val_loss did not improve from 0.07890\n"
     ]
    }
   ],
   "source": [
    "# 모델의 실행\n",
    "history = model.fit(x_train, y_train, validation_split=0.2, \n",
    "                    epochs=300, batch_size=1000, verbose=0, \n",
    "                    callbacks=[early_stopping_callback, checkpointer])"
   ]
  },
  {
   "cell_type": "code",
   "execution_count": 23,
   "metadata": {},
   "outputs": [],
   "source": [
    "from tensorflow.keras.models import load_model\n",
    "del model"
   ]
  },
  {
   "cell_type": "code",
   "execution_count": 24,
   "metadata": {},
   "outputs": [
    {
     "name": "stdout",
     "output_type": "stream",
     "text": [
      "10000/10000 - 0s - loss: 0.0682 - accuracy: 0.9796\n",
      "\n",
      " Test Accuracy: 0.9796\n"
     ]
    }
   ],
   "source": [
    "model = load_model('model/mnist.hdf5')\n",
    "print(\"\\n Test Accuracy: %.4f\" % (model.evaluate(x_test, y_test, verbose=2)[1]))"
   ]
  },
  {
   "cell_type": "code",
   "execution_count": 25,
   "metadata": {},
   "outputs": [],
   "source": [
    "# 테스트셋의 오차\n",
    "y_vloss = history.history['val_loss']\n",
    "\n",
    "# 학습셋의 오차\n",
    "y_loss = history.history['loss']"
   ]
  },
  {
   "cell_type": "code",
   "execution_count": 26,
   "metadata": {},
   "outputs": [
    {
     "data": {
      "image/png": "[encoded data removed]",
      "text/plain": [
       "<Figure size 576x432 with 1 Axes>"
      ]
     },
     "metadata": {
      "needs_background": "light"
     },
     "output_type": "display_data"
    }
   ],
   "source": [
    "# 그래프로 표현\n",
    "x_len = np.arange(1, len(y_loss)+1)\n",
    "plt.figure(figsize=(8,6))\n",
    "plt.plot(x_len, y_vloss, marker='.', c=\"red\", label='Testset_loss')\n",
    "plt.plot(x_len, y_loss, marker='.', c=\"blue\", label='Trainset_loss')\n",
    "\n",
    "# 그래프에 그리드를 주고 레이블을 표시\n",
    "plt.legend(loc='upper right')\n",
    "#plt.axis([0, 20, 0, 0.35])\n",
    "plt.grid()\n",
    "plt.xlabel('epoch')\n",
    "plt.ylabel('loss')\n",
    "plt.show()"
   ]
  }
 ],
 "metadata": {
  "kernelspec": {
   "display_name": "Python 3",
   "language": "python",
   "name": "python3"
  },
  "language_info": {
   "codemirror_mode": {
    "name": "ipython",
    "version": 3
   },
   "file_extension": ".py",
   "mimetype": "text/x-python",
   "name": "python",
   "nbconvert_exporter": "python",
   "pygments_lexer": "ipython3",
   "version": "3.7.7"
  }
 },
 "nbformat": 4,
 "nbformat_minor": 4
}
