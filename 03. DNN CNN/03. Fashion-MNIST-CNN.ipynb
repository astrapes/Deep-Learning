{
 "cells": [
  {
   "cell_type": "code",
   "execution_count": 1,
   "metadata": {},
   "outputs": [
    {
     "name": "stderr",
     "output_type": "stream",
     "text": [
      "Using TensorFlow backend.\n"
     ]
    }
   ],
   "source": [
    "import numpy as np\n",
    "import tensorflow as tf\n",
    "import os\n",
    "import matplotlib.pyplot as plt\n",
    "from tensorflow import keras\n",
    "from keras.utils import to_categorical\n",
    "from keras.datasets import mnist\n",
    "from keras.models import Sequential\n",
    "from keras.layers import Dense, Dropout, Flatten\n",
    "from keras.layers import Conv2D, MaxPooling2D\n",
    "from keras.models import load_model\n",
    "from keras.callbacks import ModelCheckpoint, EarlyStopping\n",
    "%matplotlib inline"
   ]
  },
  {
   "cell_type": "code",
   "execution_count": 2,
   "metadata": {},
   "outputs": [],
   "source": [
    "seed=2020\n",
    "np.random.seed(seed)\n",
    "tf.random.set_seed(seed)"
   ]
  },
  {
   "cell_type": "code",
   "execution_count": 3,
   "metadata": {},
   "outputs": [],
   "source": [
    "fashion_mnist = keras.datasets.fashion_mnist\n",
    "\n",
    "(train_images, train_labels), (test_images, test_labels) = fashion_mnist.load_data()"
   ]
  },
  {
   "cell_type": "code",
   "execution_count": 4,
   "metadata": {},
   "outputs": [],
   "source": [
    "class_names = ['T-shirt/top', 'Trouser', 'Pullover', 'Dress', 'Coat',\n",
    "               'Sandal', 'Shirt', 'Sneaker', 'Bag', 'Ankle boot']"
   ]
  },
  {
   "cell_type": "code",
   "execution_count": 5,
   "metadata": {},
   "outputs": [
    {
     "data": {
      "text/plain": [
       "(60000, 28, 28)"
      ]
     },
     "execution_count": 5,
     "metadata": {},
     "output_type": "execute_result"
    }
   ],
   "source": [
    "train_images.shape"
   ]
  },
  {
   "cell_type": "code",
   "execution_count": 6,
   "metadata": {},
   "outputs": [
    {
     "data": {
      "text/plain": [
       "60000"
      ]
     },
     "execution_count": 6,
     "metadata": {},
     "output_type": "execute_result"
    }
   ],
   "source": [
    "len(train_labels)"
   ]
  },
  {
   "cell_type": "code",
   "execution_count": 7,
   "metadata": {},
   "outputs": [
    {
     "data": {
      "text/plain": [
       "array([9, 0, 0, ..., 3, 0, 5], dtype=uint8)"
      ]
     },
     "execution_count": 7,
     "metadata": {},
     "output_type": "execute_result"
    }
   ],
   "source": [
    "train_labels"
   ]
  },
  {
   "cell_type": "code",
   "execution_count": 8,
   "metadata": {},
   "outputs": [
    {
     "data": {
      "text/plain": [
       "(10000, 28, 28)"
      ]
     },
     "execution_count": 8,
     "metadata": {},
     "output_type": "execute_result"
    }
   ],
   "source": [
    "test_images.shape"
   ]
  },
  {
   "cell_type": "code",
   "execution_count": 9,
   "metadata": {},
   "outputs": [
    {
     "data": {
      "text/plain": [
       "10000"
      ]
     },
     "execution_count": 9,
     "metadata": {},
     "output_type": "execute_result"
    }
   ],
   "source": [
    "len(test_labels)"
   ]
  },
  {
   "cell_type": "code",
   "execution_count": 10,
   "metadata": {},
   "outputs": [
    {
     "data": {
      "image/png": "[encoded data removed]",
      "text/plain": [
       "<Figure size 432x288 with 2 Axes>"
      ]
     },
     "metadata": {
      "needs_background": "light"
     },
     "output_type": "display_data"
    }
   ],
   "source": [
    "plt.figure()\n",
    "plt.imshow(train_images[0])\n",
    "plt.colorbar()\n",
    "plt.grid(False)\n",
    "plt.show()"
   ]
  },
  {
   "cell_type": "code",
   "execution_count": 11,
   "metadata": {},
   "outputs": [
    {
     "data": {
      "text/plain": [
       "{0: 6000,\n",
       " 1: 6000,\n",
       " 2: 6000,\n",
       " 3: 6000,\n",
       " 4: 6000,\n",
       " 5: 6000,\n",
       " 6: 6000,\n",
       " 7: 6000,\n",
       " 8: 6000,\n",
       " 9: 6000}"
      ]
     },
     "execution_count": 11,
     "metadata": {},
     "output_type": "execute_result"
    }
   ],
   "source": [
    "unique, counts=np.unique(train_labels,return_counts=True)\n",
    "dict(zip(unique,counts))"
   ]
  },
  {
   "cell_type": "code",
   "execution_count": 12,
   "metadata": {},
   "outputs": [],
   "source": [
    "x_train = train_images.reshape(-1,28,28,1).astype(\"float32\") / 255.0\n",
    "\n",
    "x_test = test_images.reshape(-1,28,28,1).astype(\"float32\") / 255.0"
   ]
  },
  {
   "cell_type": "code",
   "execution_count": 13,
   "metadata": {},
   "outputs": [],
   "source": [
    "y_train=keras.utils.to_categorical(train_labels)\n",
    "y_test=keras.utils.to_categorical(test_labels)"
   ]
  },
  {
   "cell_type": "code",
   "execution_count": 14,
   "metadata": {},
   "outputs": [
    {
     "name": "stdout",
     "output_type": "stream",
     "text": [
      "Model: \"sequential_1\"\n",
      "_________________________________________________________________\n",
      "Layer (type)                 Output Shape              Param #   \n",
      "=================================================================\n",
      "conv2d_1 (Conv2D)            (None, 24, 24, 32)        832       \n",
      "_________________________________________________________________\n",
      "max_pooling2d_1 (MaxPooling2 (None, 12, 12, 32)        0         \n",
      "_________________________________________________________________\n",
      "conv2d_2 (Conv2D)            (None, 10, 10, 64)        18496     \n",
      "_________________________________________________________________\n",
      "max_pooling2d_2 (MaxPooling2 (None, 5, 5, 64)          0         \n",
      "_________________________________________________________________\n",
      "flatten_1 (Flatten)          (None, 1600)              0         \n",
      "_________________________________________________________________\n",
      "dropout_1 (Dropout)          (None, 1600)              0         \n",
      "_________________________________________________________________\n",
      "dense_1 (Dense)              (None, 128)               204928    \n",
      "_________________________________________________________________\n",
      "dense_2 (Dense)              (None, 64)                8256      \n",
      "_________________________________________________________________\n",
      "dropout_2 (Dropout)          (None, 64)                0         \n",
      "_________________________________________________________________\n",
      "dense_3 (Dense)              (None, 10)                650       \n",
      "=================================================================\n",
      "Total params: 233,162\n",
      "Trainable params: 233,162\n",
      "Non-trainable params: 0\n",
      "_________________________________________________________________\n"
     ]
    }
   ],
   "source": [
    "# 컨볼루션 신경망 설정\n",
    "model = Sequential([\n",
    "    Conv2D(32, kernel_size=(5, 5), input_shape=(28, 28,1), activation='relu'),\n",
    "    MaxPooling2D(pool_size=2),\n",
    "    Conv2D(64, (3, 3), activation='relu'),\n",
    "    MaxPooling2D(pool_size=2),\n",
    "    Flatten(),\n",
    "    Dropout(0.5),\n",
    "    Dense(128, activation='relu'),\n",
    "    Dense(64, activation='relu'),\n",
    "    Dropout(0.5),\n",
    "    Dense(10, activation='softmax')\n",
    "])\n",
    "model.summary()"
   ]
  },
  {
   "cell_type": "code",
   "execution_count": 15,
   "metadata": {},
   "outputs": [],
   "source": [
    "model.compile(loss=\"categorical_crossentropy\",\n",
    "             optimizer='adam',\n",
    "             metrics=['accuracy'])"
   ]
  },
  {
   "cell_type": "code",
   "execution_count": 16,
   "metadata": {},
   "outputs": [],
   "source": [
    "# 모델 최적화 설정\n",
    "MODEL_DIR='./model/'\n",
    "if not os.path.exists(MODEL_DIR):\n",
    "    os.mkdir(MODEL_DIR)"
   ]
  },
  {
   "cell_type": "code",
   "execution_count": 17,
   "metadata": {},
   "outputs": [],
   "source": [
    "modelpath=MODEL_DIR+\"fashion-cnn.hdf5\"\n",
    "checkpointer=ModelCheckpoint(filepath=modelpath,monitor=\"val_loss\",\n",
    "                            verbose=1, save_best_only=True)\n",
    "early_stopping_callback = EarlyStopping(monitor='val_loss', patience=10)"
   ]
  },
  {
   "cell_type": "code",
   "execution_count": 18,
   "metadata": {
    "scrolled": true
   },
   "outputs": [
    {
     "name": "stdout",
     "output_type": "stream",
     "text": [
      "Train on 60000 samples, validate on 10000 samples\n",
      "Epoch 1/30\n",
      "60000/60000 [==============================] - 16s 272us/step - loss: 0.8104 - accuracy: 0.7056 - val_loss: 0.4639 - val_accuracy: 0.8323\n",
      "\n",
      "Epoch 00001: val_loss improved from inf to 0.46392, saving model to ./model/fashion-cnn.hdf5\n",
      "Epoch 2/30\n",
      "60000/60000 [==============================] - 16s 269us/step - loss: 0.5055 - accuracy: 0.8218 - val_loss: 0.3972 - val_accuracy: 0.8529\n",
      "\n",
      "Epoch 00002: val_loss improved from 0.46392 to 0.39721, saving model to ./model/fashion-cnn.hdf5\n",
      "Epoch 3/30\n",
      "60000/60000 [==============================] - 16s 265us/step - loss: 0.4369 - accuracy: 0.8482 - val_loss: 0.3554 - val_accuracy: 0.8696\n",
      "\n",
      "Epoch 00003: val_loss improved from 0.39721 to 0.35537, saving model to ./model/fashion-cnn.hdf5\n",
      "Epoch 4/30\n",
      "60000/60000 [==============================] - 16s 263us/step - loss: 0.3948 - accuracy: 0.8610 - val_loss: 0.3189 - val_accuracy: 0.8799\n",
      "\n",
      "Epoch 00004: val_loss improved from 0.35537 to 0.31889, saving model to ./model/fashion-cnn.hdf5\n",
      "Epoch 5/30\n",
      "60000/60000 [==============================] - 16s 268us/step - loss: 0.3697 - accuracy: 0.8696 - val_loss: 0.3061 - val_accuracy: 0.8864\n",
      "\n",
      "Epoch 00005: val_loss improved from 0.31889 to 0.30609, saving model to ./model/fashion-cnn.hdf5\n",
      "Epoch 6/30\n",
      "60000/60000 [==============================] - 16s 267us/step - loss: 0.3490 - accuracy: 0.8776 - val_loss: 0.2999 - val_accuracy: 0.8902\n",
      "\n",
      "Epoch 00006: val_loss improved from 0.30609 to 0.29986, saving model to ./model/fashion-cnn.hdf5\n",
      "Epoch 7/30\n",
      "60000/60000 [==============================] - 16s 269us/step - loss: 0.3326 - accuracy: 0.8827 - val_loss: 0.2827 - val_accuracy: 0.8954\n",
      "\n",
      "Epoch 00007: val_loss improved from 0.29986 to 0.28271, saving model to ./model/fashion-cnn.hdf5\n",
      "Epoch 8/30\n",
      "60000/60000 [==============================] - 16s 269us/step - loss: 0.3154 - accuracy: 0.8878 - val_loss: 0.2754 - val_accuracy: 0.8962\n",
      "\n",
      "Epoch 00008: val_loss improved from 0.28271 to 0.27541, saving model to ./model/fashion-cnn.hdf5\n",
      "Epoch 9/30\n",
      "60000/60000 [==============================] - 16s 262us/step - loss: 0.3052 - accuracy: 0.8921 - val_loss: 0.2697 - val_accuracy: 0.9002\n",
      "\n",
      "Epoch 00009: val_loss improved from 0.27541 to 0.26975, saving model to ./model/fashion-cnn.hdf5\n",
      "Epoch 10/30\n",
      "60000/60000 [==============================] - 16s 266us/step - loss: 0.2937 - accuracy: 0.8964 - val_loss: 0.2680 - val_accuracy: 0.9015\n",
      "\n",
      "Epoch 00010: val_loss improved from 0.26975 to 0.26800, saving model to ./model/fashion-cnn.hdf5\n",
      "Epoch 11/30\n",
      "60000/60000 [==============================] - 16s 263us/step - loss: 0.2832 - accuracy: 0.8983 - val_loss: 0.2539 - val_accuracy: 0.9061\n",
      "\n",
      "Epoch 00011: val_loss improved from 0.26800 to 0.25386, saving model to ./model/fashion-cnn.hdf5\n",
      "Epoch 12/30\n",
      "60000/60000 [==============================] - 16s 259us/step - loss: 0.2747 - accuracy: 0.9011 - val_loss: 0.2502 - val_accuracy: 0.9063\n",
      "\n",
      "Epoch 00012: val_loss improved from 0.25386 to 0.25018, saving model to ./model/fashion-cnn.hdf5\n",
      "Epoch 13/30\n",
      "60000/60000 [==============================] - 16s 266us/step - loss: 0.2631 - accuracy: 0.9048 - val_loss: 0.2498 - val_accuracy: 0.9065\n",
      "\n",
      "Epoch 00013: val_loss improved from 0.25018 to 0.24978, saving model to ./model/fashion-cnn.hdf5\n",
      "Epoch 14/30\n",
      "60000/60000 [==============================] - 16s 266us/step - loss: 0.2585 - accuracy: 0.9068 - val_loss: 0.2434 - val_accuracy: 0.9096\n",
      "\n",
      "Epoch 00014: val_loss improved from 0.24978 to 0.24340, saving model to ./model/fashion-cnn.hdf5\n",
      "Epoch 15/30\n",
      "60000/60000 [==============================] - 16s 263us/step - loss: 0.2525 - accuracy: 0.9090 - val_loss: 0.2360 - val_accuracy: 0.9119\n",
      "\n",
      "Epoch 00015: val_loss improved from 0.24340 to 0.23599, saving model to ./model/fashion-cnn.hdf5\n",
      "Epoch 16/30\n",
      "60000/60000 [==============================] - 16s 264us/step - loss: 0.2462 - accuracy: 0.9109 - val_loss: 0.2352 - val_accuracy: 0.9132\n",
      "\n",
      "Epoch 00016: val_loss improved from 0.23599 to 0.23521, saving model to ./model/fashion-cnn.hdf5\n",
      "Epoch 17/30\n",
      "60000/60000 [==============================] - 16s 265us/step - loss: 0.2417 - accuracy: 0.9116 - val_loss: 0.2353 - val_accuracy: 0.9135\n",
      "\n",
      "Epoch 00017: val_loss did not improve from 0.23521\n",
      "Epoch 18/30\n",
      "60000/60000 [==============================] - 16s 266us/step - loss: 0.2356 - accuracy: 0.9141 - val_loss: 0.2358 - val_accuracy: 0.9155\n",
      "\n",
      "Epoch 00018: val_loss did not improve from 0.23521\n",
      "Epoch 19/30\n",
      "60000/60000 [==============================] - 16s 263us/step - loss: 0.2308 - accuracy: 0.9157 - val_loss: 0.2289 - val_accuracy: 0.9161\n",
      "\n",
      "Epoch 00019: val_loss improved from 0.23521 to 0.22887, saving model to ./model/fashion-cnn.hdf5\n",
      "Epoch 20/30\n",
      "60000/60000 [==============================] - 16s 263us/step - loss: 0.2249 - accuracy: 0.9173 - val_loss: 0.2323 - val_accuracy: 0.9141\n",
      "\n",
      "Epoch 00020: val_loss did not improve from 0.22887\n",
      "Epoch 21/30\n",
      "60000/60000 [==============================] - 16s 268us/step - loss: 0.2218 - accuracy: 0.9197 - val_loss: 0.2265 - val_accuracy: 0.9169\n",
      "\n",
      "Epoch 00021: val_loss improved from 0.22887 to 0.22647, saving model to ./model/fashion-cnn.hdf5\n",
      "Epoch 22/30\n",
      "60000/60000 [==============================] - 16s 265us/step - loss: 0.2142 - accuracy: 0.9221 - val_loss: 0.2314 - val_accuracy: 0.9178\n",
      "\n",
      "Epoch 00022: val_loss did not improve from 0.22647\n",
      "Epoch 23/30\n",
      "60000/60000 [==============================] - 16s 263us/step - loss: 0.2134 - accuracy: 0.9222 - val_loss: 0.2240 - val_accuracy: 0.9204\n",
      "\n",
      "Epoch 00023: val_loss improved from 0.22647 to 0.22398, saving model to ./model/fashion-cnn.hdf5\n",
      "Epoch 24/30\n",
      "60000/60000 [==============================] - 16s 264us/step - loss: 0.2048 - accuracy: 0.9254 - val_loss: 0.2286 - val_accuracy: 0.9194\n",
      "\n",
      "Epoch 00024: val_loss did not improve from 0.22398\n",
      "Epoch 25/30\n",
      "60000/60000 [==============================] - 16s 262us/step - loss: 0.2040 - accuracy: 0.9257 - val_loss: 0.2226 - val_accuracy: 0.9192\n",
      "\n",
      "Epoch 00025: val_loss improved from 0.22398 to 0.22258, saving model to ./model/fashion-cnn.hdf5\n",
      "Epoch 26/30\n",
      "60000/60000 [==============================] - 16s 266us/step - loss: 0.2026 - accuracy: 0.9269 - val_loss: 0.2210 - val_accuracy: 0.9204\n",
      "\n",
      "Epoch 00026: val_loss improved from 0.22258 to 0.22105, saving model to ./model/fashion-cnn.hdf5\n",
      "Epoch 27/30\n",
      "60000/60000 [==============================] - 16s 264us/step - loss: 0.1958 - accuracy: 0.9277 - val_loss: 0.2248 - val_accuracy: 0.9218\n",
      "\n",
      "Epoch 00027: val_loss did not improve from 0.22105\n",
      "Epoch 28/30\n",
      "60000/60000 [==============================] - 16s 268us/step - loss: 0.1955 - accuracy: 0.9284 - val_loss: 0.2343 - val_accuracy: 0.9166\n",
      "\n",
      "Epoch 00028: val_loss did not improve from 0.22105\n",
      "Epoch 29/30\n",
      "60000/60000 [==============================] - 16s 266us/step - loss: 0.1909 - accuracy: 0.9308 - val_loss: 0.2207 - val_accuracy: 0.9231\n",
      "\n",
      "Epoch 00029: val_loss improved from 0.22105 to 0.22072, saving model to ./model/fashion-cnn.hdf5\n",
      "Epoch 30/30\n",
      "60000/60000 [==============================] - 16s 268us/step - loss: 0.1891 - accuracy: 0.9295 - val_loss: 0.2229 - val_accuracy: 0.9235\n",
      "\n",
      "Epoch 00030: val_loss did not improve from 0.22072\n"
     ]
    }
   ],
   "source": [
    "# 모델의 실행\n",
    "history=model.fit(x_train,y_train,validation_data=(x_test,y_test),epochs=30,\n",
    "                  batch_size=200,\n",
    "                  callbacks=[early_stopping_callback, checkpointer])"
   ]
  },
  {
   "cell_type": "code",
   "execution_count": 19,
   "metadata": {},
   "outputs": [],
   "source": [
    "del model"
   ]
  },
  {
   "cell_type": "code",
   "execution_count": 20,
   "metadata": {},
   "outputs": [],
   "source": [
    "model = load_model('model/fashion-cnn.hdf5')"
   ]
  },
  {
   "cell_type": "code",
   "execution_count": 21,
   "metadata": {},
   "outputs": [
    {
     "name": "stdout",
     "output_type": "stream",
     "text": [
      "\n",
      " Test Accuracy: 0.9231\n"
     ]
    }
   ],
   "source": [
    "print(\"\\n Test Accuracy: %.4f\" % (model.evaluate(x_test, y_test, verbose=0)[1]))"
   ]
  },
  {
   "cell_type": "code",
   "execution_count": 22,
   "metadata": {},
   "outputs": [],
   "source": [
    "# 테스트셋의 오차\n",
    "y_vloss = history.history['val_loss']\n",
    "\n",
    "# 학습셋의 오차\n",
    "y_loss = history.history['loss']"
   ]
  },
  {
   "cell_type": "code",
   "execution_count": 23,
   "metadata": {},
   "outputs": [
    {
     "data": {
      "image/png": "[encoded data removed]",
      "text/plain": [
       "<Figure size 576x432 with 1 Axes>"
      ]
     },
     "metadata": {
      "needs_background": "light"
     },
     "output_type": "display_data"
    }
   ],
   "source": [
    "# 그래프로 표현\n",
    "x_len = np.arange(1, len(y_loss)+1)\n",
    "plt.figure(figsize=(8,6))\n",
    "plt.plot(x_len, y_vloss, marker='.', c=\"red\", label='Testset_loss')\n",
    "plt.plot(x_len, y_loss, marker='.', c=\"blue\", label='Trainset_loss')\n",
    "\n",
    "# 그래프에 그리드를 주고 레이블을 표시\n",
    "plt.legend(loc='upper right')\n",
    "# plt.axis([0, 20, 0, 0.35])\n",
    "plt.grid()\n",
    "plt.xlabel('epoch')\n",
    "plt.ylabel('loss')\n",
    "plt.show()"
   ]
  }
 ],
 "metadata": {
  "kernelspec": {
   "display_name": "Python 3",
   "language": "python",
   "name": "python3"
  },
  "language_info": {
   "codemirror_mode": {
    "name": "ipython",
    "version": 3
   },
   "file_extension": ".py",
   "mimetype": "text/x-python",
   "name": "python",
   "nbconvert_exporter": "python",
   "pygments_lexer": "ipython3",
   "version": "3.7.7"
  }
 },
 "nbformat": 4,
 "nbformat_minor": 4
}
