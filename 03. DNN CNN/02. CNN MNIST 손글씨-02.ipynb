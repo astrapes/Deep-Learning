{
 "cells": [
  {
   "cell_type": "code",
   "execution_count": 1,
   "metadata": {},
   "outputs": [
    {
     "name": "stderr",
     "output_type": "stream",
     "text": [
      "Using TensorFlow backend.\n"
     ]
    }
   ],
   "source": [
    "import numpy as np\n",
    "import tensorflow as tf\n",
    "import os\n",
    "import matplotlib.pyplot as plt\n",
    "from tensorflow import keras\n",
    "from keras.datasets import mnist\n",
    "from keras.models import Sequential\n",
    "from keras.layers import Dense, Dropout, Flatten\n",
    "from keras.layers import Conv2D, MaxPooling2D\n",
    "from keras.models import load_model\n",
    "from keras.callbacks import ModelCheckpoint, EarlyStopping\n",
    "%matplotlib inline"
   ]
  },
  {
   "cell_type": "code",
   "execution_count": 2,
   "metadata": {},
   "outputs": [],
   "source": [
    "seed=2020\n",
    "np.random.seed(seed)\n",
    "tf.random.set_seed(seed)"
   ]
  },
  {
   "cell_type": "code",
   "execution_count": 3,
   "metadata": {},
   "outputs": [],
   "source": [
    "# 데이터 불러오기\n",
    "(x_train, y_train),(x_test, y_test)=mnist.load_data()\n",
    "x_train=x_train.reshape(-1,28,28,1).astype(\"float32\")/255\n",
    "x_test=x_test.reshape(-1,28,28,1).astype(\"float32\")/255\n",
    "y_train=keras.utils.to_categorical(y_train)\n",
    "y_test=keras.utils.to_categorical(y_test)"
   ]
  },
  {
   "cell_type": "code",
   "execution_count": 4,
   "metadata": {},
   "outputs": [
    {
     "name": "stdout",
     "output_type": "stream",
     "text": [
      "Model: \"sequential_1\"\n",
      "_________________________________________________________________\n",
      "Layer (type)                 Output Shape              Param #   \n",
      "=================================================================\n",
      "conv2d_1 (Conv2D)            (None, 26, 26, 64)        640       \n",
      "_________________________________________________________________\n",
      "max_pooling2d_1 (MaxPooling2 (None, 13, 13, 64)        0         \n",
      "_________________________________________________________________\n",
      "conv2d_2 (Conv2D)            (None, 12, 12, 128)       32896     \n",
      "_________________________________________________________________\n",
      "max_pooling2d_2 (MaxPooling2 (None, 6, 6, 128)         0         \n",
      "_________________________________________________________________\n",
      "flatten_1 (Flatten)          (None, 4608)              0         \n",
      "_________________________________________________________________\n",
      "dense_1 (Dense)              (None, 128)               589952    \n",
      "_________________________________________________________________\n",
      "dense_2 (Dense)              (None, 64)                8256      \n",
      "_________________________________________________________________\n",
      "dropout_1 (Dropout)          (None, 64)                0         \n",
      "_________________________________________________________________\n",
      "dense_3 (Dense)              (None, 32)                2080      \n",
      "_________________________________________________________________\n",
      "dense_4 (Dense)              (None, 10)                330       \n",
      "=================================================================\n",
      "Total params: 634,154\n",
      "Trainable params: 634,154\n",
      "Non-trainable params: 0\n",
      "_________________________________________________________________\n"
     ]
    }
   ],
   "source": [
    "# 컨볼루션 신경망 설정\n",
    "model = Sequential([\n",
    "    Conv2D(64, kernel_size=(3, 3), input_shape=(28, 28, 1), activation='relu'),\n",
    "    MaxPooling2D(pool_size=2),\n",
    "    Conv2D(128, (2, 2), activation='relu'),\n",
    "    MaxPooling2D(pool_size=2),\n",
    "    Flatten(),\n",
    "    Dense(128, activation='relu'),\n",
    "    Dense(64, activation='relu'),\n",
    "    Dropout(0.5),\n",
    "    Dense(32, activation='relu'),\n",
    "    Dense(10, activation='softmax')\n",
    "])\n",
    "model.summary()"
   ]
  },
  {
   "cell_type": "code",
   "execution_count": 5,
   "metadata": {},
   "outputs": [],
   "source": [
    "model.compile(loss=\"categorical_crossentropy\",\n",
    "             optimizer='adam',\n",
    "             metrics=['accuracy'])"
   ]
  },
  {
   "cell_type": "code",
   "execution_count": 6,
   "metadata": {},
   "outputs": [],
   "source": [
    "# 모델 최적화 설정\n",
    "MODEL_DIR='./model/'\n",
    "if not os.path.exists(MODEL_DIR):\n",
    "    os.mkdir(MODEL_DIR)"
   ]
  },
  {
   "cell_type": "code",
   "execution_count": 7,
   "metadata": {},
   "outputs": [],
   "source": [
    "modelpath=MODEL_DIR+\"mnist-cnn.hdf5\"\n",
    "checkpointer=ModelCheckpoint(filepath=modelpath,monitor=\"val_loss\",\n",
    "                            verbose=1, save_best_only=True)\n",
    "early_stopping_callback = EarlyStopping(monitor='val_loss', patience=10)"
   ]
  },
  {
   "cell_type": "code",
   "execution_count": 8,
   "metadata": {},
   "outputs": [
    {
     "name": "stdout",
     "output_type": "stream",
     "text": [
      "Train on 60000 samples, validate on 10000 samples\n",
      "Epoch 1/30\n",
      "60000/60000 [==============================] - 30s 505us/step - loss: 0.4890 - accuracy: 0.8460 - val_loss: 0.0810 - val_accuracy: 0.9746\n",
      "\n",
      "Epoch 00001: val_loss improved from inf to 0.08104, saving model to ./model/mnist-cnn.hdf5\n",
      "Epoch 2/30\n",
      "60000/60000 [==============================] - 30s 502us/step - loss: 0.1241 - accuracy: 0.9669 - val_loss: 0.0507 - val_accuracy: 0.9843\n",
      "\n",
      "Epoch 00002: val_loss improved from 0.08104 to 0.05070, saving model to ./model/mnist-cnn.hdf5\n",
      "Epoch 3/30\n",
      "60000/60000 [==============================] - 31s 518us/step - loss: 0.0859 - accuracy: 0.9773 - val_loss: 0.0418 - val_accuracy: 0.9875\n",
      "\n",
      "Epoch 00003: val_loss improved from 0.05070 to 0.04181, saving model to ./model/mnist-cnn.hdf5\n",
      "Epoch 4/30\n",
      "60000/60000 [==============================] - 30s 506us/step - loss: 0.0608 - accuracy: 0.9833 - val_loss: 0.0471 - val_accuracy: 0.9862\n",
      "\n",
      "Epoch 00004: val_loss did not improve from 0.04181\n",
      "Epoch 5/30\n",
      "60000/60000 [==============================] - 30s 503us/step - loss: 0.0512 - accuracy: 0.9859 - val_loss: 0.0374 - val_accuracy: 0.9888\n",
      "\n",
      "Epoch 00005: val_loss improved from 0.04181 to 0.03737, saving model to ./model/mnist-cnn.hdf5\n",
      "Epoch 6/30\n",
      "60000/60000 [==============================] - 30s 501us/step - loss: 0.0413 - accuracy: 0.9890 - val_loss: 0.0340 - val_accuracy: 0.9889\n",
      "\n",
      "Epoch 00006: val_loss improved from 0.03737 to 0.03399, saving model to ./model/mnist-cnn.hdf5\n",
      "Epoch 7/30\n",
      "60000/60000 [==============================] - 30s 501us/step - loss: 0.0371 - accuracy: 0.9903 - val_loss: 0.0365 - val_accuracy: 0.9900\n",
      "\n",
      "Epoch 00007: val_loss did not improve from 0.03399\n",
      "Epoch 8/30\n",
      "60000/60000 [==============================] - 30s 502us/step - loss: 0.0301 - accuracy: 0.9919 - val_loss: 0.0362 - val_accuracy: 0.9894\n",
      "\n",
      "Epoch 00008: val_loss did not improve from 0.03399\n",
      "Epoch 9/30\n",
      "60000/60000 [==============================] - 30s 501us/step - loss: 0.0265 - accuracy: 0.9926 - val_loss: 0.0300 - val_accuracy: 0.9909\n",
      "\n",
      "Epoch 00009: val_loss improved from 0.03399 to 0.03001, saving model to ./model/mnist-cnn.hdf5\n",
      "Epoch 10/30\n",
      "60000/60000 [==============================] - 30s 501us/step - loss: 0.0227 - accuracy: 0.9940 - val_loss: 0.0352 - val_accuracy: 0.9897\n",
      "\n",
      "Epoch 00010: val_loss did not improve from 0.03001\n",
      "Epoch 11/30\n",
      "60000/60000 [==============================] - 30s 501us/step - loss: 0.0222 - accuracy: 0.9937 - val_loss: 0.0404 - val_accuracy: 0.9897\n",
      "\n",
      "Epoch 00011: val_loss did not improve from 0.03001\n",
      "Epoch 12/30\n",
      "60000/60000 [==============================] - 30s 501us/step - loss: 0.0197 - accuracy: 0.9947 - val_loss: 0.0398 - val_accuracy: 0.9905\n",
      "\n",
      "Epoch 00012: val_loss did not improve from 0.03001\n",
      "Epoch 13/30\n",
      "60000/60000 [==============================] - 30s 503us/step - loss: 0.0143 - accuracy: 0.9963 - val_loss: 0.0381 - val_accuracy: 0.9912\n",
      "\n",
      "Epoch 00013: val_loss did not improve from 0.03001\n",
      "Epoch 14/30\n",
      "60000/60000 [==============================] - 30s 502us/step - loss: 0.0160 - accuracy: 0.9956 - val_loss: 0.0354 - val_accuracy: 0.9911\n",
      "\n",
      "Epoch 00014: val_loss did not improve from 0.03001\n",
      "Epoch 15/30\n",
      "60000/60000 [==============================] - 30s 500us/step - loss: 0.0139 - accuracy: 0.9960 - val_loss: 0.0408 - val_accuracy: 0.9910\n",
      "\n",
      "Epoch 00015: val_loss did not improve from 0.03001\n",
      "Epoch 16/30\n",
      "60000/60000 [==============================] - 30s 500us/step - loss: 0.0115 - accuracy: 0.9967 - val_loss: 0.0379 - val_accuracy: 0.9922\n",
      "\n",
      "Epoch 00016: val_loss did not improve from 0.03001\n",
      "Epoch 17/30\n",
      "60000/60000 [==============================] - 30s 498us/step - loss: 0.0127 - accuracy: 0.9965 - val_loss: 0.0428 - val_accuracy: 0.9907\n",
      "\n",
      "Epoch 00017: val_loss did not improve from 0.03001\n",
      "Epoch 18/30\n",
      "60000/60000 [==============================] - 30s 500us/step - loss: 0.0124 - accuracy: 0.9966 - val_loss: 0.0434 - val_accuracy: 0.9918\n",
      "\n",
      "Epoch 00018: val_loss did not improve from 0.03001\n",
      "Epoch 19/30\n",
      "60000/60000 [==============================] - 30s 502us/step - loss: 0.0095 - accuracy: 0.9970 - val_loss: 0.0362 - val_accuracy: 0.9918\n",
      "\n",
      "Epoch 00019: val_loss did not improve from 0.03001\n"
     ]
    }
   ],
   "source": [
    "# 모델의 실행\n",
    "history=model.fit(x_train,y_train,validation_data=(x_test,y_test),epochs=30,\n",
    "                  batch_size=200,\n",
    "                  callbacks=[early_stopping_callback, checkpointer])"
   ]
  },
  {
   "cell_type": "code",
   "execution_count": 14,
   "metadata": {},
   "outputs": [],
   "source": [
    "del model"
   ]
  },
  {
   "cell_type": "code",
   "execution_count": 15,
   "metadata": {},
   "outputs": [],
   "source": [
    "model = load_model('model/mnist-cnn.hdf5')"
   ]
  },
  {
   "cell_type": "code",
   "execution_count": 16,
   "metadata": {},
   "outputs": [
    {
     "name": "stdout",
     "output_type": "stream",
     "text": [
      "\n",
      " Test Accuracy: 0.9909\n"
     ]
    }
   ],
   "source": [
    "print(\"\\n Test Accuracy: %.4f\" % (model.evaluate(x_test, y_test, verbose=0)[1]))"
   ]
  },
  {
   "cell_type": "code",
   "execution_count": 12,
   "metadata": {},
   "outputs": [],
   "source": [
    "# 테스트셋의 오차\n",
    "y_vloss = history.history['val_loss']\n",
    "\n",
    "# 학습셋의 오차\n",
    "y_loss = history.history['loss']"
   ]
  },
  {
   "cell_type": "code",
   "execution_count": 13,
   "metadata": {},
   "outputs": [
    {
     "data": {
      "image/png": "[encoded data removed]",
      "text/plain": [
       "<Figure size 576x432 with 1 Axes>"
      ]
     },
     "metadata": {
      "needs_background": "light"
     },
     "output_type": "display_data"
    }
   ],
   "source": [
    "# 그래프로 표현\n",
    "x_len = np.arange(1, len(y_loss)+1)\n",
    "plt.figure(figsize=(8,6))\n",
    "plt.plot(x_len, y_vloss, marker='.', c=\"red\", label='Testset_loss')\n",
    "plt.plot(x_len, y_loss, marker='.', c=\"blue\", label='Trainset_loss')\n",
    "\n",
    "# 그래프에 그리드를 주고 레이블을 표시\n",
    "plt.legend(loc='upper right')\n",
    "# plt.axis([0, 20, 0, 0.35])\n",
    "plt.grid()\n",
    "plt.xlabel('epoch')\n",
    "plt.ylabel('loss')\n",
    "plt.show()"
   ]
  },
  {
   "cell_type": "code",
   "execution_count": null,
   "metadata": {},
   "outputs": [],
   "source": []
  }
 ],
 "metadata": {
  "kernelspec": {
   "display_name": "Python 3",
   "language": "python",
   "name": "python3"
  },
  "language_info": {
   "codemirror_mode": {
    "name": "ipython",
    "version": 3
   },
   "file_extension": ".py",
   "mimetype": "text/x-python",
   "name": "python",
   "nbconvert_exporter": "python",
   "pygments_lexer": "ipython3",
   "version": "3.7.7"
  }
 },
 "nbformat": 4,
 "nbformat_minor": 4
}
