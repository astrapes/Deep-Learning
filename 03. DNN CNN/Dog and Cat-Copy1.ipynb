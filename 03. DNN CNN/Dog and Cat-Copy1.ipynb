{
 "cells": [
  {
   "cell_type": "markdown",
   "metadata": {},
   "source": [
    "## Kaggle Dataset의 일부를 이용한 개, 고양이 구분ㅡ"
   ]
  },
  {
   "cell_type": "markdown",
   "metadata": {},
   "source": [
    "### Dog Image 1,111개, Cat Image 1111개 총 2,222개"
   ]
  },
  {
   "cell_type": "code",
   "execution_count": 27,
   "metadata": {},
   "outputs": [],
   "source": [
    "import numpy as np\n",
    "import tensorflow as tf\n",
    "import os, cv2, random\n",
    "import matplotlib.pyplot as plt\n",
    "from glob import glob\n",
    "from tensorflow import keras\n",
    "from keras.preprocessing import image\n",
    "from keras.datasets import mnist\n",
    "from keras.models import Sequential\n",
    "from keras.layers import Dense, Dropout, Flatten\n",
    "from keras.layers import Conv2D, MaxPooling2D\n",
    "from keras.models import load_model\n",
    "from keras.callbacks import ModelCheckpoint, EarlyStopping\n",
    "%matplotlib inline"
   ]
  },
  {
   "cell_type": "code",
   "execution_count": 28,
   "metadata": {},
   "outputs": [],
   "source": [
    "seed=2020\n",
    "np.random.seed(seed)\n",
    "tf.random.set_seed(seed)"
   ]
  },
  {
   "cell_type": "code",
   "execution_count": 29,
   "metadata": {},
   "outputs": [],
   "source": [
    "dog_path='../dataset/dog/'\n",
    "cat_path='../dataset/cat/'\n",
    "bear_path='../dataset/bear/'\n",
    "dino_path='../dataset/dino/'\n",
    "rabbit_path='../dataset/rabbit/'"
   ]
  },
  {
   "cell_type": "code",
   "execution_count": 30,
   "metadata": {},
   "outputs": [],
   "source": [
    "## used for resize and in our model\n",
    "ROW, COL=96, 96\n",
    "dogs, cats, bears, dinos, rabbits =[],[],[],[],[]\n",
    "y_dogs, y_cats, y_bears, y_dinos, y_rabbits =[],[],[],[],[]"
   ]
  },
  {
   "cell_type": "code",
   "execution_count": 31,
   "metadata": {},
   "outputs": [
    {
     "data": {
      "text/plain": [
       "136"
      ]
     },
     "execution_count": 31,
     "metadata": {},
     "output_type": "execute_result"
    }
   ],
   "source": [
    "# 1,111개 이미지\n",
    "dog_path=os.path.join(dog_path,'dog.*')\n",
    "cat_path=os.path.join(cat_path,'cat.*')\n",
    "bear_path=os.path.join(bear_path,'bear.*')\n",
    "dino_path=os.path.join(dino_path,'dino.*')\n",
    "rabbit_path=os.path.join(rabbit_path,'rabbit.*')\n",
    "len(glob(dog_path))"
   ]
  },
  {
   "cell_type": "code",
   "execution_count": 32,
   "metadata": {},
   "outputs": [],
   "source": [
    "## Load some our dog image\n",
    "for dog_img in glob(dog_path):\n",
    "    dog=cv2.imread(dog_img)\n",
    "    dog=cv2.cvtColor(dog,cv2.COLOR_BGR2GRAY)\n",
    "    dog=cv2.resize(dog, (ROW, COL))\n",
    "    dog=image.img_to_array(dog)\n",
    "    dogs.append(dog)"
   ]
  },
  {
   "cell_type": "code",
   "execution_count": 33,
   "metadata": {},
   "outputs": [],
   "source": [
    "## Load some our dog image\n",
    "for cat_img in glob(cat_path):\n",
    "    cat=cv2.imread(cat_img)\n",
    "    cat=cv2.cvtColor(cat,cv2.COLOR_BGR2GRAY)\n",
    "    cat=cv2.resize(cat, (ROW, COL))\n",
    "    cat=image.img_to_array(cat)\n",
    "    cats.append(cat)"
   ]
  },
  {
   "cell_type": "code",
   "execution_count": 34,
   "metadata": {},
   "outputs": [],
   "source": [
    "## Load some our bear image\n",
    "for bear_img in glob(bear_path):\n",
    "    bear=cv2.imread(bear_img)\n",
    "    bear=cv2.cvtColor(bear,cv2.COLOR_BGR2GRAY)\n",
    "    bear=cv2.resize(bear, (ROW, COL))\n",
    "    bear=image.img_to_array(bear)\n",
    "    bears.append(bear)"
   ]
  },
  {
   "cell_type": "code",
   "execution_count": 35,
   "metadata": {},
   "outputs": [],
   "source": [
    "## Load some our dino image\n",
    "for dino_img in glob(dino_path):\n",
    "    dino=cv2.imread(dino_img)\n",
    "    dino=cv2.cvtColor(dino,cv2.COLOR_BGR2GRAY)\n",
    "    dino=cv2.resize(dino, (ROW, COL))\n",
    "    dino=image.img_to_array(dino)\n",
    "    dinos.append(dino)"
   ]
  },
  {
   "cell_type": "code",
   "execution_count": 36,
   "metadata": {},
   "outputs": [],
   "source": [
    "## Load some our rabbit image\n",
    "for rabbit_img in glob(rabbit_path):\n",
    "    rabbit=cv2.imread(rabbit_img)\n",
    "    rabbit=cv2.cvtColor(rabbit,cv2.COLOR_BGR2GRAY)\n",
    "    rabbit=cv2.resize(rabbit, (ROW, COL))\n",
    "    rabbit=image.img_to_array(rabbit)\n",
    "    rabbits.append(rabbit)"
   ]
  },
  {
   "cell_type": "code",
   "execution_count": 37,
   "metadata": {},
   "outputs": [],
   "source": [
    "classes=['dog','cat','bear','dino','rabbit']"
   ]
  },
  {
   "cell_type": "code",
   "execution_count": 38,
   "metadata": {},
   "outputs": [
    {
     "data": {
      "text/plain": [
       "[array([[[ 85.],\n",
       "         [ 86.],\n",
       "         [ 86.],\n",
       "         ...,\n",
       "         [103.],\n",
       "         [102.],\n",
       "         [102.]],\n",
       " \n",
       "        [[ 87.],\n",
       "         [ 86.],\n",
       "         [ 86.],\n",
       "         ...,\n",
       "         [104.],\n",
       "         [103.],\n",
       "         [103.]],\n",
       " \n",
       "        [[ 87.],\n",
       "         [ 87.],\n",
       "         [ 87.],\n",
       "         ...,\n",
       "         [104.],\n",
       "         [103.],\n",
       "         [103.]],\n",
       " \n",
       "        ...,\n",
       " \n",
       "        [[  3.],\n",
       "         [  4.],\n",
       "         [  4.],\n",
       "         ...,\n",
       "         [  3.],\n",
       "         [  4.],\n",
       "         [  3.]],\n",
       " \n",
       "        [[  3.],\n",
       "         [  3.],\n",
       "         [  4.],\n",
       "         ...,\n",
       "         [  2.],\n",
       "         [  2.],\n",
       "         [  2.]],\n",
       " \n",
       "        [[  3.],\n",
       "         [  3.],\n",
       "         [  3.],\n",
       "         ...,\n",
       "         [  2.],\n",
       "         [  2.],\n",
       "         [  2.]]], dtype=float32),\n",
       " array([[[199.],\n",
       "         [199.],\n",
       "         [200.],\n",
       "         ...,\n",
       "         [172.],\n",
       "         [167.],\n",
       "         [163.]],\n",
       " \n",
       "        [[ 59.],\n",
       "         [ 70.],\n",
       "         [ 86.],\n",
       "         ...,\n",
       "         [173.],\n",
       "         [167.],\n",
       "         [164.]],\n",
       " \n",
       "        [[ 75.],\n",
       "         [ 58.],\n",
       "         [ 70.],\n",
       "         ...,\n",
       "         [174.],\n",
       "         [169.],\n",
       "         [163.]],\n",
       " \n",
       "        ...,\n",
       " \n",
       "        [[ 43.],\n",
       "         [ 39.],\n",
       "         [ 48.],\n",
       "         ...,\n",
       "         [ 41.],\n",
       "         [ 38.],\n",
       "         [ 39.]],\n",
       " \n",
       "        [[ 45.],\n",
       "         [ 42.],\n",
       "         [ 48.],\n",
       "         ...,\n",
       "         [ 40.],\n",
       "         [ 36.],\n",
       "         [ 41.]],\n",
       " \n",
       "        [[ 44.],\n",
       "         [ 46.],\n",
       "         [ 40.],\n",
       "         ...,\n",
       "         [ 46.],\n",
       "         [ 40.],\n",
       "         [ 39.]]], dtype=float32),\n",
       " array([[[212.],\n",
       "         [212.],\n",
       "         [212.],\n",
       "         ...,\n",
       "         [215.],\n",
       "         [210.],\n",
       "         [207.]],\n",
       " \n",
       "        [[212.],\n",
       "         [212.],\n",
       "         [212.],\n",
       "         ...,\n",
       "         [214.],\n",
       "         [210.],\n",
       "         [207.]],\n",
       " \n",
       "        [[212.],\n",
       "         [212.],\n",
       "         [212.],\n",
       "         ...,\n",
       "         [215.],\n",
       "         [210.],\n",
       "         [207.]],\n",
       " \n",
       "        ...,\n",
       " \n",
       "        [[210.],\n",
       "         [204.],\n",
       "         [206.],\n",
       "         ...,\n",
       "         [217.],\n",
       "         [215.],\n",
       "         [214.]],\n",
       " \n",
       "        [[208.],\n",
       "         [204.],\n",
       "         [206.],\n",
       "         ...,\n",
       "         [217.],\n",
       "         [217.],\n",
       "         [212.]],\n",
       " \n",
       "        [[210.],\n",
       "         [208.],\n",
       "         [210.],\n",
       "         ...,\n",
       "         [217.],\n",
       "         [217.],\n",
       "         [209.]]], dtype=float32),\n",
       " array([[[ 99.],\n",
       "         [ 78.],\n",
       "         [ 72.],\n",
       "         ...,\n",
       "         [103.],\n",
       "         [106.],\n",
       "         [108.]],\n",
       " \n",
       "        [[ 93.],\n",
       "         [ 71.],\n",
       "         [ 66.],\n",
       "         ...,\n",
       "         [102.],\n",
       "         [106.],\n",
       "         [109.]],\n",
       " \n",
       "        [[ 77.],\n",
       "         [ 72.],\n",
       "         [ 75.],\n",
       "         ...,\n",
       "         [104.],\n",
       "         [ 99.],\n",
       "         [106.]],\n",
       " \n",
       "        ...,\n",
       " \n",
       "        [[ 38.],\n",
       "         [ 42.],\n",
       "         [ 44.],\n",
       "         ...,\n",
       "         [ 72.],\n",
       "         [ 74.],\n",
       "         [ 75.]],\n",
       " \n",
       "        [[ 43.],\n",
       "         [ 40.],\n",
       "         [ 36.],\n",
       "         ...,\n",
       "         [ 79.],\n",
       "         [ 79.],\n",
       "         [ 74.]],\n",
       " \n",
       "        [[ 37.],\n",
       "         [ 38.],\n",
       "         [ 38.],\n",
       "         ...,\n",
       "         [ 69.],\n",
       "         [ 78.],\n",
       "         [ 77.]]], dtype=float32),\n",
       " array([[[ 43.],\n",
       "         [ 43.],\n",
       "         [ 40.],\n",
       "         ...,\n",
       "         [111.],\n",
       "         [112.],\n",
       "         [113.]],\n",
       " \n",
       "        [[ 46.],\n",
       "         [ 41.],\n",
       "         [ 42.],\n",
       "         ...,\n",
       "         [111.],\n",
       "         [111.],\n",
       "         [110.]],\n",
       " \n",
       "        [[ 46.],\n",
       "         [ 44.],\n",
       "         [ 42.],\n",
       "         ...,\n",
       "         [110.],\n",
       "         [112.],\n",
       "         [109.]],\n",
       " \n",
       "        ...,\n",
       " \n",
       "        [[  9.],\n",
       "         [  6.],\n",
       "         [  5.],\n",
       "         ...,\n",
       "         [ 30.],\n",
       "         [ 37.],\n",
       "         [ 28.]],\n",
       " \n",
       "        [[  7.],\n",
       "         [  4.],\n",
       "         [  7.],\n",
       "         ...,\n",
       "         [ 35.],\n",
       "         [ 40.],\n",
       "         [ 25.]],\n",
       " \n",
       "        [[  6.],\n",
       "         [  3.],\n",
       "         [  5.],\n",
       "         ...,\n",
       "         [ 36.],\n",
       "         [ 40.],\n",
       "         [ 19.]]], dtype=float32)]"
      ]
     },
     "execution_count": 38,
     "metadata": {},
     "output_type": "execute_result"
    }
   ],
   "source": [
    "dogs[:5]"
   ]
  },
  {
   "cell_type": "code",
   "execution_count": 39,
   "metadata": {},
   "outputs": [],
   "source": [
    "## just change the labels for 0 and 1\n",
    "y_dogs=[0 for item in enumerate(dogs)]\n",
    "y_cats=[1 for item in enumerate(cats)]\n",
    "y_bears=[2 for item in enumerate(bears)]\n",
    "y_dinos=[3 for item in enumerate(dinos)]\n",
    "y_rabbits=[4 for item in enumerate(rabbits)]"
   ]
  },
  {
   "cell_type": "code",
   "execution_count": 40,
   "metadata": {},
   "outputs": [
    {
     "data": {
      "text/plain": [
       "[4, 4, 4, 4, 4]"
      ]
     },
     "execution_count": 40,
     "metadata": {},
     "output_type": "execute_result"
    }
   ],
   "source": [
    "y_rabbits[:5]"
   ]
  },
  {
   "cell_type": "code",
   "execution_count": 41,
   "metadata": {},
   "outputs": [],
   "source": [
    "## converting everything to Numpy array to fit in our model\n",
    "## them creating a X and target file like we used to see\n",
    "## in Machine and Deep Learning models\n",
    "dogs = np.asarray(dogs).astype('float32') / 255\n",
    "cats = np.asarray(cats).astype('float32') / 255\n",
    "bears = np.asarray(bears).astype('float32') / 255\n",
    "dinos = np.asarray(dinos).astype('float32') / 255\n",
    "rabbits = np.asarray(rabbits).astype('float32') / 255\n",
    "y_dogs = np.asarray(y_dogs).astype('int32')\n",
    "y_cats = np.asarray(y_cats).astype('int32')\n",
    "y_bears = np.asarray(y_bears).astype('int32')\n",
    "y_dinos = np.asarray(y_dinos).astype('int32')\n",
    "y_rabbits = np.asarray(y_rabbits).astype('int32')"
   ]
  },
  {
   "cell_type": "code",
   "execution_count": 44,
   "metadata": {},
   "outputs": [
    {
     "ename": "AttributeError",
     "evalue": "'numpy.ndarray' object has no attribute 'extend'",
     "output_type": "error",
     "traceback": [
      "\u001b[1;31m---------------------------------------------------------------------------\u001b[0m",
      "\u001b[1;31mAttributeError\u001b[0m                            Traceback (most recent call last)",
      "\u001b[1;32m<ipython-input-44-f776b4e6c2b8>\u001b[0m in \u001b[0;36m<module>\u001b[1;34m\u001b[0m\n\u001b[1;32m----> 1\u001b[1;33m \u001b[0mdogs\u001b[0m\u001b[1;33m.\u001b[0m\u001b[0mextend\u001b[0m\u001b[1;33m(\u001b[0m\u001b[0mcats\u001b[0m\u001b[1;33m)\u001b[0m\u001b[1;33m\u001b[0m\u001b[1;33m\u001b[0m\u001b[0m\n\u001b[0m",
      "\u001b[1;31mAttributeError\u001b[0m: 'numpy.ndarray' object has no attribute 'extend'"
     ]
    }
   ],
   "source": []
  },
  {
   "cell_type": "code",
   "execution_count": 42,
   "metadata": {},
   "outputs": [
    {
     "data": {
      "text/plain": [
       "(407, 96, 96, 1)"
      ]
     },
     "execution_count": 42,
     "metadata": {},
     "output_type": "execute_result"
    }
   ],
   "source": [
    "x_train = np.concatenate((dogs,cats,bears), axis=0)\n",
    "# x_train = np.concatenate((x_train,dinos,rabbits), axis=0)\n",
    "y_train = np.concatenate((y_dogs, y_cats,y_bears,y_dinos,y_rabbits), axis=0)\n",
    "x_train.shape"
   ]
  },
  {
   "cell_type": "code",
   "execution_count": 16,
   "metadata": {},
   "outputs": [
    {
     "data": {
      "text/plain": [
       "2222"
      ]
     },
     "execution_count": 16,
     "metadata": {},
     "output_type": "execute_result"
    }
   ],
   "source": [
    "len(y_train)"
   ]
  },
  {
   "cell_type": "code",
   "execution_count": 17,
   "metadata": {},
   "outputs": [],
   "source": [
    "## One-Hot Encoding\n",
    "y_train = tf.keras.utils.to_categorical(y_train, 2)"
   ]
  },
  {
   "cell_type": "code",
   "execution_count": 18,
   "metadata": {},
   "outputs": [
    {
     "data": {
      "text/plain": [
       "(2222, 96, 96, 1)"
      ]
     },
     "execution_count": 18,
     "metadata": {},
     "output_type": "execute_result"
    }
   ],
   "source": [
    "x_train.shape"
   ]
  },
  {
   "cell_type": "code",
   "execution_count": 19,
   "metadata": {},
   "outputs": [],
   "source": [
    "## used for resize and in our model\n",
    "ROW, COL=96, 96\n",
    "dogs, cats=[],[]\n",
    "y_dogs, y_cats=[],[]"
   ]
  },
  {
   "cell_type": "code",
   "execution_count": 20,
   "metadata": {},
   "outputs": [
    {
     "data": {
      "text/plain": [
       "611"
      ]
     },
     "execution_count": 20,
     "metadata": {},
     "output_type": "execute_result"
    }
   ],
   "source": [
    "# 611개 이미지\n",
    "dog_path=os.path.join(path, 'dog.12*')\n",
    "cat_path=os.path.join(path, 'cat.12*')\n",
    "len(glob(dog_path))"
   ]
  },
  {
   "cell_type": "code",
   "execution_count": 21,
   "metadata": {},
   "outputs": [],
   "source": [
    "## Load some our dog image\n",
    "for dog_img in glob(dog_path):\n",
    "    dog=cv2.imread(dog_img)\n",
    "    dog=cv2.cvtColor(dog,cv2.COLOR_BGR2GRAY)\n",
    "    dog=cv2.resize(dog, (ROW, COL))\n",
    "    dog=image.img_to_array(dog)\n",
    "    dogs.append(dog)"
   ]
  },
  {
   "cell_type": "code",
   "execution_count": 22,
   "metadata": {},
   "outputs": [],
   "source": [
    "## Load some our dog image\n",
    "for cat_img in glob(cat_path):\n",
    "    cat=cv2.imread(cat_img)\n",
    "    cat=cv2.cvtColor(cat,cv2.COLOR_BGR2GRAY)\n",
    "    cat=cv2.resize(cat, (ROW, COL))\n",
    "    cat=image.img_to_array(cat)\n",
    "    cats.append(cat)"
   ]
  },
  {
   "cell_type": "code",
   "execution_count": 23,
   "metadata": {},
   "outputs": [],
   "source": [
    "classes=['dog','cat']"
   ]
  },
  {
   "cell_type": "code",
   "execution_count": 24,
   "metadata": {},
   "outputs": [],
   "source": [
    "## just change the labels for 0 and 1\n",
    "y_dogs=[1 for item in enumerate(dogs)]\n",
    "y_cats=[0 for item in enumerate(cats)]"
   ]
  },
  {
   "cell_type": "code",
   "execution_count": 25,
   "metadata": {},
   "outputs": [],
   "source": [
    "## converting everything to Numpy array to fit in our model\n",
    "## them creating a X and target file like we used to see\n",
    "## in Machine and Deep Learning models\n",
    "dogs = np.asarray(dogs).astype('float32') / 255\n",
    "cats = np.asarray(cats).astype('float32') / 255\n",
    "y_dogs = np.asarray(y_dogs).astype('int32')\n",
    "y_cats = np.asarray(y_cats).astype('int32')"
   ]
  },
  {
   "cell_type": "code",
   "execution_count": 26,
   "metadata": {},
   "outputs": [],
   "source": [
    "x_test = np.concatenate((dogs,cats), axis=0)\n",
    "y_test = np.concatenate((y_dogs, y_cats), axis=0)"
   ]
  },
  {
   "cell_type": "code",
   "execution_count": 27,
   "metadata": {},
   "outputs": [],
   "source": [
    "## One-Hot Encoding\n",
    "y_test = tf.keras.utils.to_categorical(y_test, 2)"
   ]
  },
  {
   "cell_type": "code",
   "execution_count": 28,
   "metadata": {},
   "outputs": [
    {
     "name": "stdout",
     "output_type": "stream",
     "text": [
      "Model: \"sequential_1\"\n",
      "_________________________________________________________________\n",
      "Layer (type)                 Output Shape              Param #   \n",
      "=================================================================\n",
      "conv2d_1 (Conv2D)            (None, 96, 96, 32)        320       \n",
      "_________________________________________________________________\n",
      "conv2d_2 (Conv2D)            (None, 96, 96, 32)        9248      \n",
      "_________________________________________________________________\n",
      "max_pooling2d_1 (MaxPooling2 (None, 48, 48, 32)        0         \n",
      "_________________________________________________________________\n",
      "dropout_1 (Dropout)          (None, 48, 48, 32)        0         \n",
      "_________________________________________________________________\n",
      "conv2d_3 (Conv2D)            (None, 48, 48, 64)        18496     \n",
      "_________________________________________________________________\n",
      "conv2d_4 (Conv2D)            (None, 48, 48, 64)        36928     \n",
      "_________________________________________________________________\n",
      "max_pooling2d_2 (MaxPooling2 (None, 24, 24, 64)        0         \n",
      "_________________________________________________________________\n",
      "flatten_1 (Flatten)          (None, 36864)             0         \n",
      "_________________________________________________________________\n",
      "dense_1 (Dense)              (None, 512)               18874880  \n",
      "_________________________________________________________________\n",
      "dense_2 (Dense)              (None, 256)               131328    \n",
      "_________________________________________________________________\n",
      "dense_3 (Dense)              (None, 128)               32896     \n",
      "_________________________________________________________________\n",
      "dropout_2 (Dropout)          (None, 128)               0         \n",
      "_________________________________________________________________\n",
      "dense_4 (Dense)              (None, 2)                 258       \n",
      "=================================================================\n",
      "Total params: 19,104,354\n",
      "Trainable params: 19,104,354\n",
      "Non-trainable params: 0\n",
      "_________________________________________________________________\n"
     ]
    }
   ],
   "source": [
    "## Here is our model as a CNN\n",
    "model = Sequential([\n",
    "    Conv2D(32, (3,3), padding='same', input_shape=(ROW, COL, 1), activation='relu'),\n",
    "    Conv2D(32, (3,3), padding='same', activation='relu'),\n",
    "    MaxPooling2D(pool_size=(2,2)),\n",
    "    Dropout(.25),\n",
    "    Conv2D(64, (3,3), padding='same', activation='relu'),\n",
    "    Conv2D(64, (3,3), padding='same', activation='relu'),\n",
    "    MaxPooling2D(pool_size=(2,2)),\n",
    "    Flatten(),\n",
    "    Dense(512, activation='relu'),\n",
    "    Dense(256, activation='relu'),\n",
    "    Dense(128, activation='relu'),\n",
    "    Dropout(.5),\n",
    "    Dense(2, activation='softmax')\n",
    "])\n",
    "model.summary()"
   ]
  },
  {
   "cell_type": "code",
   "execution_count": 29,
   "metadata": {},
   "outputs": [],
   "source": [
    "model.compile(loss='categorical_crossentropy', \n",
    "              optimizer='adam', metrics=['accuracy'])"
   ]
  },
  {
   "cell_type": "code",
   "execution_count": 30,
   "metadata": {},
   "outputs": [],
   "source": [
    "## to save checkpoint to use later\n",
    "modelpath = \"model/dogs_vs_cats-cnn-{epoch:02d}-{val_loss:.4f}.hdf5\"\n",
    "checkpointer = ModelCheckpoint(filepath=modelpath, monitor='val_loss', \n",
    "                               verbose=1, save_best_only=True)\n",
    "early_stopping_callback = EarlyStopping(monitor='val_loss', patience=10)"
   ]
  },
  {
   "cell_type": "code",
   "execution_count": 31,
   "metadata": {},
   "outputs": [
    {
     "name": "stdout",
     "output_type": "stream",
     "text": [
      "Train on 1777 samples, validate on 445 samples\n",
      "Epoch 1/40\n",
      "1777/1777 [==============================] - 36s 20ms/step - loss: 0.6773 - accuracy: 0.6196 - val_loss: 0.9807 - val_accuracy: 0.0000e+00\n",
      "\n",
      "Epoch 00001: val_loss improved from inf to 0.98067, saving model to model/dogs_vs_cats-cnn-01-0.9807.hdf5\n",
      "Epoch 2/40\n",
      "1777/1777 [==============================] - 36s 20ms/step - loss: 0.6595 - accuracy: 0.6252 - val_loss: 0.9870 - val_accuracy: 0.0000e+00\n",
      "\n",
      "Epoch 00002: val_loss did not improve from 0.98067\n",
      "Epoch 3/40\n",
      "1777/1777 [==============================] - 36s 20ms/step - loss: 0.6475 - accuracy: 0.6292 - val_loss: 0.7396 - val_accuracy: 0.4539\n",
      "\n",
      "Epoch 00003: val_loss improved from 0.98067 to 0.73956, saving model to model/dogs_vs_cats-cnn-03-0.7396.hdf5\n",
      "Epoch 4/40\n",
      "1777/1777 [==============================] - 35s 20ms/step - loss: 0.6268 - accuracy: 0.6579 - val_loss: 0.9839 - val_accuracy: 0.2180\n",
      "\n",
      "Epoch 00004: val_loss did not improve from 0.73956\n",
      "Epoch 5/40\n",
      "1777/1777 [==============================] - 35s 20ms/step - loss: 0.5936 - accuracy: 0.6837 - val_loss: 0.6987 - val_accuracy: 0.4854\n",
      "\n",
      "Epoch 00005: val_loss improved from 0.73956 to 0.69874, saving model to model/dogs_vs_cats-cnn-05-0.6987.hdf5\n",
      "Epoch 6/40\n",
      "1777/1777 [==============================] - 35s 20ms/step - loss: 0.5558 - accuracy: 0.7074 - val_loss: 0.8966 - val_accuracy: 0.2157\n",
      "\n",
      "Epoch 00006: val_loss did not improve from 0.69874\n",
      "Epoch 7/40\n",
      "1777/1777 [==============================] - 35s 20ms/step - loss: 0.5053 - accuracy: 0.7496 - val_loss: 0.9397 - val_accuracy: 0.4000\n",
      "\n",
      "Epoch 00007: val_loss did not improve from 0.69874\n",
      "Epoch 8/40\n",
      "1777/1777 [==============================] - 35s 20ms/step - loss: 0.4065 - accuracy: 0.8165 - val_loss: 1.1317 - val_accuracy: 0.4337\n",
      "\n",
      "Epoch 00008: val_loss did not improve from 0.69874\n",
      "Epoch 9/40\n",
      "1777/1777 [==============================] - 35s 20ms/step - loss: 0.2698 - accuracy: 0.8959 - val_loss: 1.1055 - val_accuracy: 0.5663\n",
      "\n",
      "Epoch 00009: val_loss did not improve from 0.69874\n",
      "Epoch 10/40\n",
      "1777/1777 [==============================] - 35s 20ms/step - loss: 0.1723 - accuracy: 0.9342 - val_loss: 2.7108 - val_accuracy: 0.4202\n",
      "\n",
      "Epoch 00010: val_loss did not improve from 0.69874\n",
      "Epoch 11/40\n",
      "1777/1777 [==============================] - 35s 20ms/step - loss: 0.0971 - accuracy: 0.9651 - val_loss: 3.3294 - val_accuracy: 0.4539\n",
      "\n",
      "Epoch 00011: val_loss did not improve from 0.69874\n",
      "Epoch 12/40\n",
      "1777/1777 [==============================] - 35s 20ms/step - loss: 0.0544 - accuracy: 0.9859 - val_loss: 2.8043 - val_accuracy: 0.5461\n",
      "\n",
      "Epoch 00012: val_loss did not improve from 0.69874\n",
      "Epoch 13/40\n",
      "1777/1777 [==============================] - 36s 20ms/step - loss: 0.0524 - accuracy: 0.9887 - val_loss: 1.9982 - val_accuracy: 0.5820\n",
      "\n",
      "Epoch 00013: val_loss did not improve from 0.69874\n",
      "Epoch 14/40\n",
      "1777/1777 [==============================] - 35s 20ms/step - loss: 0.0383 - accuracy: 0.9910 - val_loss: 2.9286 - val_accuracy: 0.4899\n",
      "\n",
      "Epoch 00014: val_loss did not improve from 0.69874\n",
      "Epoch 15/40\n",
      "1777/1777 [==============================] - 35s 20ms/step - loss: 0.0134 - accuracy: 0.9955 - val_loss: 2.8922 - val_accuracy: 0.5888\n",
      "\n",
      "Epoch 00015: val_loss did not improve from 0.69874\n"
     ]
    },
    {
     "data": {
      "text/plain": [
       "<keras.callbacks.callbacks.History at 0x2be21a2a308>"
      ]
     },
     "execution_count": 31,
     "metadata": {},
     "output_type": "execute_result"
    }
   ],
   "source": [
    "model.fit(x_train, y_train, batch_size=32, epochs=40, validation_split=0.2,\n",
    "          callbacks=[checkpointer, early_stopping_callback])"
   ]
  },
  {
   "cell_type": "code",
   "execution_count": 34,
   "metadata": {},
   "outputs": [],
   "source": [
    "del model\n",
    "model = load_model('model/dogs_vs_cats-cnn-05-0.6987.hdf5')"
   ]
  },
  {
   "cell_type": "code",
   "execution_count": 35,
   "metadata": {},
   "outputs": [
    {
     "name": "stdout",
     "output_type": "stream",
     "text": [
      "MODEL ACCURACY: 0.63339\n"
     ]
    }
   ],
   "source": [
    "scores = model.evaluate(x_test, y_test, verbose=2)\n",
    "print('MODEL ACCURACY: %.5f' % scores[1])"
   ]
  },
  {
   "cell_type": "code",
   "execution_count": null,
   "metadata": {},
   "outputs": [],
   "source": []
  }
 ],
 "metadata": {
  "kernelspec": {
   "display_name": "Python 3",
   "language": "python",
   "name": "python3"
  },
  "language_info": {
   "codemirror_mode": {
    "name": "ipython",
    "version": 3
   },
   "file_extension": ".py",
   "mimetype": "text/x-python",
   "name": "python",
   "nbconvert_exporter": "python",
   "pygments_lexer": "ipython3",
   "version": "3.7.7"
  }
 },
 "nbformat": 4,
 "nbformat_minor": 4
}
