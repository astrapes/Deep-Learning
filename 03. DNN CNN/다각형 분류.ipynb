{
 "cells": [
  {
   "cell_type": "code",
   "execution_count": 18,
   "metadata": {},
   "outputs": [],
   "source": [
    "import plaidml.keras\n",
    "plaidml.keras.install_backend()\n",
    "from tensorflow.keras import backend\n",
    "from tensorflow.python.keras import backend\n",
    "import numpy as np\n",
    "import tensorflow as tf\n",
    "from tensorflow import keras\n",
    "from keras.models import Sequential\n",
    "from keras.layers import Dense, Flatten, Conv2D, MaxPooling2D\n",
    "from keras.preprocessing.image import ImageDataGenerator"
   ]
  },
  {
   "cell_type": "code",
   "execution_count": 19,
   "metadata": {},
   "outputs": [],
   "source": [
    "seed = 2020\n",
    "np.random.seed(seed)\n",
    "tf.random.set_seed(seed)"
   ]
  },
  {
   "cell_type": "code",
   "execution_count": 21,
   "metadata": {},
   "outputs": [
    {
     "name": "stdout",
     "output_type": "stream",
     "text": [
      "Found 45 images belonging to 3 classes.\n",
      "Found 30 images belonging to 3 classes.\n"
     ]
    }
   ],
   "source": [
    "train_datagen = ImageDataGenerator(rescale=1./255)\n",
    "\n",
    "train_generator = train_datagen.flow_from_directory(\n",
    "        '../dataset/handwriting_shape/train',\n",
    "        target_size=(24, 24),\n",
    "        batch_size=3,\n",
    "        class_mode='categorical')\n",
    "\n",
    "test_datagen = ImageDataGenerator(rescale=1./255)\n",
    "\n",
    "test_generator = test_datagen.flow_from_directory(\n",
    "        '../dataset/handwriting_shape/test',\n",
    "        target_size=(24, 24),    \n",
    "        batch_size=3,\n",
    "        class_mode='categorical')"
   ]
  },
  {
   "cell_type": "code",
   "execution_count": 4,
   "metadata": {},
   "outputs": [
    {
     "data": {
      "text/plain": [
       "array([0, 0, 0, 0, 0, 0, 0, 0, 0, 0, 0, 0, 0, 0, 0, 1, 1, 1, 1, 1, 1, 1,\n",
       "       1, 1, 1, 1, 1, 1, 1, 1, 2, 2, 2, 2, 2, 2, 2, 2, 2, 2, 2, 2, 2, 2,\n",
       "       2])"
      ]
     },
     "execution_count": 4,
     "metadata": {},
     "output_type": "execute_result"
    }
   ],
   "source": [
    "train_generator.labels"
   ]
  },
  {
   "cell_type": "code",
   "execution_count": 5,
   "metadata": {},
   "outputs": [
    {
     "data": {
      "text/plain": [
       "'circle\\\\circle001.png'"
      ]
     },
     "execution_count": 5,
     "metadata": {},
     "output_type": "execute_result"
    }
   ],
   "source": [
    "train_generator.filenames[0]"
   ]
  },
  {
   "cell_type": "code",
   "execution_count": 6,
   "metadata": {},
   "outputs": [
    {
     "name": "stderr",
     "output_type": "stream",
     "text": [
      "INFO:plaidml:Opening device \"opencl_amd_ellesmere.0\"\n"
     ]
    },
    {
     "name": "stdout",
     "output_type": "stream",
     "text": [
      "_________________________________________________________________\n",
      "Layer (type)                 Output Shape              Param #   \n",
      "=================================================================\n",
      "conv2d_1 (Conv2D)            (None, 22, 22, 32)        896       \n",
      "_________________________________________________________________\n",
      "conv2d_2 (Conv2D)            (None, 20, 20, 64)        18496     \n",
      "_________________________________________________________________\n",
      "max_pooling2d_1 (MaxPooling2 (None, 10, 10, 64)        0         \n",
      "_________________________________________________________________\n",
      "flatten_1 (Flatten)          (None, 6400)              0         \n",
      "_________________________________________________________________\n",
      "dense_1 (Dense)              (None, 128)               819328    \n",
      "_________________________________________________________________\n",
      "dense_2 (Dense)              (None, 3)                 387       \n",
      "=================================================================\n",
      "Total params: 839,107\n",
      "Trainable params: 839,107\n",
      "Non-trainable params: 0\n",
      "_________________________________________________________________\n"
     ]
    }
   ],
   "source": [
    "model = Sequential()\n",
    "model.add(Conv2D(32, kernel_size=(3, 3),\n",
    "                 activation='relu', input_shape=(24,24,3)))\n",
    "model.add(Conv2D(64, (3, 3), activation='relu'))\n",
    "model.add(MaxPooling2D(pool_size=(2, 2)))\n",
    "model.add(Flatten())\n",
    "model.add(Dense(128, activation='relu'))\n",
    "model.add(Dense(3, activation='softmax'))\n",
    "model.summary()"
   ]
  },
  {
   "cell_type": "markdown",
   "metadata": {},
   "source": [
    "# 모델 그래프로 보기\n",
    "- conda install pydot\n",
    "- conda install graphviz"
   ]
  },
  {
   "cell_type": "code",
   "execution_count": 7,
   "metadata": {},
   "outputs": [
    {
     "data": {
      "image/svg+xml": [
       "<svg height=\"543pt\" viewBox=\"0.00 0.00 392.00 543.00\" width=\"392pt\" xmlns=\"http://www.w3.org/2000/svg\" xmlns:xlink=\"http://www.w3.org/1999/xlink\">\n",
       "<g class=\"graph\" id=\"graph0\" transform=\"scale(1 1) rotate(0) translate(4 539)\">\n",
       "<title>G</title>\n",
       "<polygon fill=\"white\" points=\"-4,4 -4,-539 388,-539 388,4 -4,4\" stroke=\"none\"/>\n",
       "<!-- 1820654888648 -->\n",
       "<g class=\"node\" id=\"node1\"><title>1820654888648</title>\n",
       "<polygon fill=\"none\" points=\"41,-415.5 41,-461.5 343,-461.5 343,-415.5 41,-415.5\" stroke=\"black\"/>\n",
       "<text font-family=\"Times New Roman,serif\" font-size=\"14.00\" text-anchor=\"middle\" x=\"104.5\" y=\"-434.8\">conv2d_1: Conv2D</text>\n",
       "<polyline fill=\"none\" points=\"168,-415.5 168,-461.5 \" stroke=\"black\"/>\n",
       "<text font-family=\"Times New Roman,serif\" font-size=\"14.00\" text-anchor=\"middle\" x=\"196\" y=\"-446.3\">input:</text>\n",
       "<polyline fill=\"none\" points=\"168,-438.5 224,-438.5 \" stroke=\"black\"/>\n",
       "<text font-family=\"Times New Roman,serif\" font-size=\"14.00\" text-anchor=\"middle\" x=\"196\" y=\"-423.3\">output:</text>\n",
       "<polyline fill=\"none\" points=\"224,-415.5 224,-461.5 \" stroke=\"black\"/>\n",
       "<text font-family=\"Times New Roman,serif\" font-size=\"14.00\" text-anchor=\"middle\" x=\"283.5\" y=\"-446.3\">(None, 24, 24, 3)</text>\n",
       "<polyline fill=\"none\" points=\"224,-438.5 343,-438.5 \" stroke=\"black\"/>\n",
       "<text font-family=\"Times New Roman,serif\" font-size=\"14.00\" text-anchor=\"middle\" x=\"283.5\" y=\"-423.3\">(None, 22, 22, 32)</text>\n",
       "</g>\n",
       "<!-- 1820654889160 -->\n",
       "<g class=\"node\" id=\"node2\"><title>1820654889160</title>\n",
       "<polygon fill=\"none\" points=\"41,-332.5 41,-378.5 343,-378.5 343,-332.5 41,-332.5\" stroke=\"black\"/>\n",
       "<text font-family=\"Times New Roman,serif\" font-size=\"14.00\" text-anchor=\"middle\" x=\"104.5\" y=\"-351.8\">conv2d_2: Conv2D</text>\n",
       "<polyline fill=\"none\" points=\"168,-332.5 168,-378.5 \" stroke=\"black\"/>\n",
       "<text font-family=\"Times New Roman,serif\" font-size=\"14.00\" text-anchor=\"middle\" x=\"196\" y=\"-363.3\">input:</text>\n",
       "<polyline fill=\"none\" points=\"168,-355.5 224,-355.5 \" stroke=\"black\"/>\n",
       "<text font-family=\"Times New Roman,serif\" font-size=\"14.00\" text-anchor=\"middle\" x=\"196\" y=\"-340.3\">output:</text>\n",
       "<polyline fill=\"none\" points=\"224,-332.5 224,-378.5 \" stroke=\"black\"/>\n",
       "<text font-family=\"Times New Roman,serif\" font-size=\"14.00\" text-anchor=\"middle\" x=\"283.5\" y=\"-363.3\">(None, 22, 22, 32)</text>\n",
       "<polyline fill=\"none\" points=\"224,-355.5 343,-355.5 \" stroke=\"black\"/>\n",
       "<text font-family=\"Times New Roman,serif\" font-size=\"14.00\" text-anchor=\"middle\" x=\"283.5\" y=\"-340.3\">(None, 20, 20, 64)</text>\n",
       "</g>\n",
       "<!-- 1820654888648&#45;&gt;1820654889160 -->\n",
       "<g class=\"edge\" id=\"edge2\"><title>1820654888648-&gt;1820654889160</title>\n",
       "<path d=\"M192,-415.366C192,-407.152 192,-397.658 192,-388.725\" fill=\"none\" stroke=\"black\"/>\n",
       "<polygon fill=\"black\" points=\"195.5,-388.607 192,-378.607 188.5,-388.607 195.5,-388.607\" stroke=\"black\"/>\n",
       "</g>\n",
       "<!-- 1820654886344 -->\n",
       "<g class=\"node\" id=\"node3\"><title>1820654886344</title>\n",
       "<polygon fill=\"none\" points=\"0,-249.5 0,-295.5 384,-295.5 384,-249.5 0,-249.5\" stroke=\"black\"/>\n",
       "<text font-family=\"Times New Roman,serif\" font-size=\"14.00\" text-anchor=\"middle\" x=\"104.5\" y=\"-268.8\">max_pooling2d_1: MaxPooling2D</text>\n",
       "<polyline fill=\"none\" points=\"209,-249.5 209,-295.5 \" stroke=\"black\"/>\n",
       "<text font-family=\"Times New Roman,serif\" font-size=\"14.00\" text-anchor=\"middle\" x=\"237\" y=\"-280.3\">input:</text>\n",
       "<polyline fill=\"none\" points=\"209,-272.5 265,-272.5 \" stroke=\"black\"/>\n",
       "<text font-family=\"Times New Roman,serif\" font-size=\"14.00\" text-anchor=\"middle\" x=\"237\" y=\"-257.3\">output:</text>\n",
       "<polyline fill=\"none\" points=\"265,-249.5 265,-295.5 \" stroke=\"black\"/>\n",
       "<text font-family=\"Times New Roman,serif\" font-size=\"14.00\" text-anchor=\"middle\" x=\"324.5\" y=\"-280.3\">(None, 20, 20, 64)</text>\n",
       "<polyline fill=\"none\" points=\"265,-272.5 384,-272.5 \" stroke=\"black\"/>\n",
       "<text font-family=\"Times New Roman,serif\" font-size=\"14.00\" text-anchor=\"middle\" x=\"324.5\" y=\"-257.3\">(None, 10, 10, 64)</text>\n",
       "</g>\n",
       "<!-- 1820654889160&#45;&gt;1820654886344 -->\n",
       "<g class=\"edge\" id=\"edge3\"><title>1820654889160-&gt;1820654886344</title>\n",
       "<path d=\"M192,-332.366C192,-324.152 192,-314.658 192,-305.725\" fill=\"none\" stroke=\"black\"/>\n",
       "<polygon fill=\"black\" points=\"195.5,-305.607 192,-295.607 188.5,-305.607 195.5,-305.607\" stroke=\"black\"/>\n",
       "</g>\n",
       "<!-- 1820655019400 -->\n",
       "<g class=\"node\" id=\"node4\"><title>1820655019400</title>\n",
       "<polygon fill=\"none\" points=\"50,-166.5 50,-212.5 334,-212.5 334,-166.5 50,-166.5\" stroke=\"black\"/>\n",
       "<text font-family=\"Times New Roman,serif\" font-size=\"14.00\" text-anchor=\"middle\" x=\"104.5\" y=\"-185.8\">flatten_1: Flatten</text>\n",
       "<polyline fill=\"none\" points=\"159,-166.5 159,-212.5 \" stroke=\"black\"/>\n",
       "<text font-family=\"Times New Roman,serif\" font-size=\"14.00\" text-anchor=\"middle\" x=\"187\" y=\"-197.3\">input:</text>\n",
       "<polyline fill=\"none\" points=\"159,-189.5 215,-189.5 \" stroke=\"black\"/>\n",
       "<text font-family=\"Times New Roman,serif\" font-size=\"14.00\" text-anchor=\"middle\" x=\"187\" y=\"-174.3\">output:</text>\n",
       "<polyline fill=\"none\" points=\"215,-166.5 215,-212.5 \" stroke=\"black\"/>\n",
       "<text font-family=\"Times New Roman,serif\" font-size=\"14.00\" text-anchor=\"middle\" x=\"274.5\" y=\"-197.3\">(None, 10, 10, 64)</text>\n",
       "<polyline fill=\"none\" points=\"215,-189.5 334,-189.5 \" stroke=\"black\"/>\n",
       "<text font-family=\"Times New Roman,serif\" font-size=\"14.00\" text-anchor=\"middle\" x=\"274.5\" y=\"-174.3\">(None, 6400)</text>\n",
       "</g>\n",
       "<!-- 1820654886344&#45;&gt;1820655019400 -->\n",
       "<g class=\"edge\" id=\"edge4\"><title>1820654886344-&gt;1820655019400</title>\n",
       "<path d=\"M192,-249.366C192,-241.152 192,-231.658 192,-222.725\" fill=\"none\" stroke=\"black\"/>\n",
       "<polygon fill=\"black\" points=\"195.5,-222.607 192,-212.607 188.5,-222.607 195.5,-222.607\" stroke=\"black\"/>\n",
       "</g>\n",
       "<!-- 1820655020296 -->\n",
       "<g class=\"node\" id=\"node5\"><title>1820655020296</title>\n",
       "<polygon fill=\"none\" points=\"67,-83.5 67,-129.5 317,-129.5 317,-83.5 67,-83.5\" stroke=\"black\"/>\n",
       "<text font-family=\"Times New Roman,serif\" font-size=\"14.00\" text-anchor=\"middle\" x=\"119\" y=\"-102.8\">dense_1: Dense</text>\n",
       "<polyline fill=\"none\" points=\"171,-83.5 171,-129.5 \" stroke=\"black\"/>\n",
       "<text font-family=\"Times New Roman,serif\" font-size=\"14.00\" text-anchor=\"middle\" x=\"199\" y=\"-114.3\">input:</text>\n",
       "<polyline fill=\"none\" points=\"171,-106.5 227,-106.5 \" stroke=\"black\"/>\n",
       "<text font-family=\"Times New Roman,serif\" font-size=\"14.00\" text-anchor=\"middle\" x=\"199\" y=\"-91.3\">output:</text>\n",
       "<polyline fill=\"none\" points=\"227,-83.5 227,-129.5 \" stroke=\"black\"/>\n",
       "<text font-family=\"Times New Roman,serif\" font-size=\"14.00\" text-anchor=\"middle\" x=\"272\" y=\"-114.3\">(None, 6400)</text>\n",
       "<polyline fill=\"none\" points=\"227,-106.5 317,-106.5 \" stroke=\"black\"/>\n",
       "<text font-family=\"Times New Roman,serif\" font-size=\"14.00\" text-anchor=\"middle\" x=\"272\" y=\"-91.3\">(None, 128)</text>\n",
       "</g>\n",
       "<!-- 1820655019400&#45;&gt;1820655020296 -->\n",
       "<g class=\"edge\" id=\"edge5\"><title>1820655019400-&gt;1820655020296</title>\n",
       "<path d=\"M192,-166.366C192,-158.152 192,-148.658 192,-139.725\" fill=\"none\" stroke=\"black\"/>\n",
       "<polygon fill=\"black\" points=\"195.5,-139.607 192,-129.607 188.5,-139.607 195.5,-139.607\" stroke=\"black\"/>\n",
       "</g>\n",
       "<!-- 1820655021064 -->\n",
       "<g class=\"node\" id=\"node6\"><title>1820655021064</title>\n",
       "<polygon fill=\"none\" points=\"70.5,-0.5 70.5,-46.5 313.5,-46.5 313.5,-0.5 70.5,-0.5\" stroke=\"black\"/>\n",
       "<text font-family=\"Times New Roman,serif\" font-size=\"14.00\" text-anchor=\"middle\" x=\"122.5\" y=\"-19.8\">dense_2: Dense</text>\n",
       "<polyline fill=\"none\" points=\"174.5,-0.5 174.5,-46.5 \" stroke=\"black\"/>\n",
       "<text font-family=\"Times New Roman,serif\" font-size=\"14.00\" text-anchor=\"middle\" x=\"202.5\" y=\"-31.3\">input:</text>\n",
       "<polyline fill=\"none\" points=\"174.5,-23.5 230.5,-23.5 \" stroke=\"black\"/>\n",
       "<text font-family=\"Times New Roman,serif\" font-size=\"14.00\" text-anchor=\"middle\" x=\"202.5\" y=\"-8.3\">output:</text>\n",
       "<polyline fill=\"none\" points=\"230.5,-0.5 230.5,-46.5 \" stroke=\"black\"/>\n",
       "<text font-family=\"Times New Roman,serif\" font-size=\"14.00\" text-anchor=\"middle\" x=\"272\" y=\"-31.3\">(None, 128)</text>\n",
       "<polyline fill=\"none\" points=\"230.5,-23.5 313.5,-23.5 \" stroke=\"black\"/>\n",
       "<text font-family=\"Times New Roman,serif\" font-size=\"14.00\" text-anchor=\"middle\" x=\"272\" y=\"-8.3\">(None, 3)</text>\n",
       "</g>\n",
       "<!-- 1820655020296&#45;&gt;1820655021064 -->\n",
       "<g class=\"edge\" id=\"edge6\"><title>1820655020296-&gt;1820655021064</title>\n",
       "<path d=\"M192,-83.3664C192,-75.1516 192,-65.6579 192,-56.7252\" fill=\"none\" stroke=\"black\"/>\n",
       "<polygon fill=\"black\" points=\"195.5,-56.6068 192,-46.6068 188.5,-56.6069 195.5,-56.6068\" stroke=\"black\"/>\n",
       "</g>\n",
       "<!-- 1820654889992 -->\n",
       "<g class=\"node\" id=\"node7\"><title>1820654889992</title>\n",
       "<polygon fill=\"none\" points=\"140,-498.5 140,-534.5 244,-534.5 244,-498.5 140,-498.5\" stroke=\"black\"/>\n",
       "<text font-family=\"Times New Roman,serif\" font-size=\"14.00\" text-anchor=\"middle\" x=\"192\" y=\"-512.8\">1820654889992</text>\n",
       "</g>\n",
       "<!-- 1820654889992&#45;&gt;1820654888648 -->\n",
       "<g class=\"edge\" id=\"edge1\"><title>1820654889992-&gt;1820654888648</title>\n",
       "<path d=\"M192,-498.254C192,-490.363 192,-480.749 192,-471.602\" fill=\"none\" stroke=\"black\"/>\n",
       "<polygon fill=\"black\" points=\"195.5,-471.591 192,-461.591 188.5,-471.591 195.5,-471.591\" stroke=\"black\"/>\n",
       "</g>\n",
       "</g>\n",
       "</svg>"
      ],
      "text/plain": [
       "<IPython.core.display.SVG object>"
      ]
     },
     "execution_count": 7,
     "metadata": {},
     "output_type": "execute_result"
    }
   ],
   "source": [
    "import pydot\n",
    "from IPython.display import SVG\n",
    "from keras.utils.vis_utils import model_to_dot\n",
    "\n",
    "%matplotlib inline\n",
    "\n",
    "SVG(model_to_dot(model, show_shapes=True).create(prog='dot', format='svg'))"
   ]
  },
  {
   "cell_type": "code",
   "execution_count": 8,
   "metadata": {},
   "outputs": [],
   "source": [
    "from keras.utils import plot_model\n",
    "plot_model(model, show_shapes=True)    # to_file='filename.png'"
   ]
  },
  {
   "cell_type": "code",
   "execution_count": 9,
   "metadata": {},
   "outputs": [],
   "source": [
    "model.compile(loss='categorical_crossentropy', \n",
    "              optimizer='adam', metrics=['accuracy'])"
   ]
  },
  {
   "cell_type": "code",
   "execution_count": 10,
   "metadata": {},
   "outputs": [
    {
     "name": "stdout",
     "output_type": "stream",
     "text": [
      "Epoch 1/50\n",
      "15/15 [==============================] - 3s 226ms/step - loss: 1.0270 - acc: 0.5778 - val_loss: 1.0848 - val_acc: 0.6000\n",
      "Epoch 2/50\n",
      "15/15 [==============================] - 0s 7ms/step - loss: 0.2278 - acc: 0.9778 - val_loss: 0.8622 - val_acc: 0.6667\n",
      "Epoch 3/50\n",
      "15/15 [==============================] - 0s 9ms/step - loss: 0.0210 - acc: 1.0000 - val_loss: 1.6089 - val_acc: 0.7333\n",
      "Epoch 4/50\n",
      "15/15 [==============================] - 0s 11ms/step - loss: 0.0025 - acc: 1.0000 - val_loss: 1.9149 - val_acc: 0.6000\n",
      "Epoch 5/50\n",
      "15/15 [==============================] - 0s 9ms/step - loss: 8.0446e-04 - acc: 1.0000 - val_loss: 2.3910 - val_acc: 0.6667\n",
      "Epoch 6/50\n",
      "15/15 [==============================] - 0s 9ms/step - loss: 4.5189e-04 - acc: 1.0000 - val_loss: 1.5340 - val_acc: 0.6667\n",
      "Epoch 7/50\n",
      "15/15 [==============================] - 0s 9ms/step - loss: 3.0288e-04 - acc: 1.0000 - val_loss: 2.1996 - val_acc: 0.6000\n",
      "Epoch 8/50\n",
      "15/15 [==============================] - 0s 9ms/step - loss: 2.3725e-04 - acc: 1.0000 - val_loss: 1.9033 - val_acc: 0.7333\n",
      "Epoch 9/50\n",
      "15/15 [==============================] - 0s 9ms/step - loss: 1.8742e-04 - acc: 1.0000 - val_loss: 1.5365 - val_acc: 0.7333\n",
      "Epoch 10/50\n",
      "15/15 [==============================] - 0s 9ms/step - loss: 1.5606e-04 - acc: 1.0000 - val_loss: 2.8254 - val_acc: 0.5333\n",
      "Epoch 11/50\n",
      "15/15 [==============================] - 0s 9ms/step - loss: 1.3146e-04 - acc: 1.0000 - val_loss: 1.7403 - val_acc: 0.7333\n",
      "Epoch 12/50\n",
      "15/15 [==============================] - 0s 9ms/step - loss: 1.1449e-04 - acc: 1.0000 - val_loss: 2.8180 - val_acc: 0.5333\n",
      "Epoch 13/50\n",
      "15/15 [==============================] - 0s 9ms/step - loss: 9.9574e-05 - acc: 1.0000 - val_loss: 1.0627 - val_acc: 0.7333\n",
      "Epoch 14/50\n",
      "15/15 [==============================] - 0s 11ms/step - loss: 8.8787e-05 - acc: 1.0000 - val_loss: 3.6321 - val_acc: 0.5333\n",
      "Epoch 15/50\n",
      "15/15 [==============================] - 0s 10ms/step - loss: 7.9960e-05 - acc: 1.0000 - val_loss: 2.1896 - val_acc: 0.7333\n",
      "Epoch 16/50\n",
      "15/15 [==============================] - 0s 9ms/step - loss: 7.0678e-05 - acc: 1.0000 - val_loss: 2.6025 - val_acc: 0.5333\n",
      "Epoch 17/50\n",
      "15/15 [==============================] - 0s 9ms/step - loss: 6.2434e-05 - acc: 1.0000 - val_loss: 2.0495 - val_acc: 0.6667\n",
      "Epoch 18/50\n",
      "15/15 [==============================] - 0s 9ms/step - loss: 5.6669e-05 - acc: 1.0000 - val_loss: 2.8429 - val_acc: 0.6000\n",
      "Epoch 19/50\n",
      "15/15 [==============================] - 0s 9ms/step - loss: 5.1223e-05 - acc: 1.0000 - val_loss: 2.1355 - val_acc: 0.6000\n",
      "Epoch 20/50\n",
      "15/15 [==============================] - 0s 9ms/step - loss: 4.6158e-05 - acc: 1.0000 - val_loss: 2.8363 - val_acc: 0.6667\n",
      "Epoch 21/50\n",
      "15/15 [==============================] - 0s 9ms/step - loss: 4.1633e-05 - acc: 1.0000 - val_loss: 2.6580 - val_acc: 0.6000\n",
      "Epoch 22/50\n",
      "15/15 [==============================] - 0s 9ms/step - loss: 3.8348e-05 - acc: 1.0000 - val_loss: 2.3828 - val_acc: 0.6667\n",
      "Epoch 23/50\n",
      "15/15 [==============================] - 0s 10ms/step - loss: 3.5413e-05 - acc: 1.0000 - val_loss: 2.8570 - val_acc: 0.6667\n",
      "Epoch 24/50\n",
      "15/15 [==============================] - 0s 9ms/step - loss: 3.2404e-05 - acc: 1.0000 - val_loss: 2.2375 - val_acc: 0.6000\n",
      "Epoch 25/50\n",
      "15/15 [==============================] - 0s 9ms/step - loss: 2.9861e-05 - acc: 1.0000 - val_loss: 2.5083 - val_acc: 0.5333\n",
      "Epoch 26/50\n",
      "15/15 [==============================] - 0s 9ms/step - loss: 2.8006e-05 - acc: 1.0000 - val_loss: 2.6326 - val_acc: 0.7333\n",
      "Epoch 27/50\n",
      "15/15 [==============================] - 0s 9ms/step - loss: 2.5887e-05 - acc: 1.0000 - val_loss: 2.2761 - val_acc: 0.6667\n",
      "Epoch 28/50\n",
      "15/15 [==============================] - 0s 9ms/step - loss: 2.4223e-05 - acc: 1.0000 - val_loss: 2.9054 - val_acc: 0.6000\n",
      "Epoch 29/50\n",
      "15/15 [==============================] - 0s 9ms/step - loss: 2.2697e-05 - acc: 1.0000 - val_loss: 2.3839 - val_acc: 0.6000\n",
      "Epoch 30/50\n",
      "15/15 [==============================] - 0s 9ms/step - loss: 2.1447e-05 - acc: 1.0000 - val_loss: 2.8376 - val_acc: 0.6667\n",
      "Epoch 31/50\n",
      "15/15 [==============================] - 0s 9ms/step - loss: 2.0303e-05 - acc: 1.0000 - val_loss: 2.4845 - val_acc: 0.6667\n",
      "Epoch 32/50\n",
      "15/15 [==============================] - 0s 9ms/step - loss: 1.8819e-05 - acc: 1.0000 - val_loss: 2.7869 - val_acc: 0.6000\n",
      "Epoch 33/50\n",
      "15/15 [==============================] - 0s 9ms/step - loss: 1.7802e-05 - acc: 1.0000 - val_loss: 2.2869 - val_acc: 0.6667\n",
      "Epoch 34/50\n",
      "15/15 [==============================] - 0s 11ms/step - loss: 1.6806e-05 - acc: 1.0000 - val_loss: 3.0094 - val_acc: 0.6000\n",
      "Epoch 35/50\n",
      "15/15 [==============================] - 0s 9ms/step - loss: 1.5767e-05 - acc: 1.0000 - val_loss: 1.7352 - val_acc: 0.6667\n",
      "Epoch 36/50\n",
      "15/15 [==============================] - 0s 9ms/step - loss: 1.4920e-05 - acc: 1.0000 - val_loss: 3.5989 - val_acc: 0.6000\n",
      "Epoch 37/50\n",
      "15/15 [==============================] - 0s 9ms/step - loss: 1.4263e-05 - acc: 1.0000 - val_loss: 2.9465 - val_acc: 0.6000\n",
      "Epoch 38/50\n",
      "15/15 [==============================] - 0s 9ms/step - loss: 1.3563e-05 - acc: 1.0000 - val_loss: 2.4203 - val_acc: 0.6667\n",
      "Epoch 39/50\n",
      "15/15 [==============================] - 0s 9ms/step - loss: 1.2970e-05 - acc: 1.0000 - val_loss: 2.2814 - val_acc: 0.6667\n",
      "Epoch 40/50\n",
      "15/15 [==============================] - 0s 9ms/step - loss: 1.2207e-05 - acc: 1.0000 - val_loss: 3.1214 - val_acc: 0.6000\n",
      "Epoch 41/50\n",
      "15/15 [==============================] - 0s 9ms/step - loss: 1.1720e-05 - acc: 1.0000 - val_loss: 3.7564 - val_acc: 0.5333\n",
      "Epoch 42/50\n",
      "15/15 [==============================] - 0s 9ms/step - loss: 1.1169e-05 - acc: 1.0000 - val_loss: 1.6673 - val_acc: 0.7333\n",
      "Epoch 43/50\n",
      "15/15 [==============================] - 0s 9ms/step - loss: 1.0724e-05 - acc: 1.0000 - val_loss: 1.3838 - val_acc: 0.8000\n",
      "Epoch 44/50\n",
      "15/15 [==============================] - 0s 9ms/step - loss: 1.0194e-05 - acc: 1.0000 - val_loss: 4.0803 - val_acc: 0.4667\n",
      "Epoch 45/50\n",
      "15/15 [==============================] - 0s 10ms/step - loss: 9.7275e-06 - acc: 1.0000 - val_loss: 1.5848 - val_acc: 0.7333\n",
      "Epoch 46/50\n",
      "15/15 [==============================] - 0s 9ms/step - loss: 9.3460e-06 - acc: 1.0000 - val_loss: 3.9160 - val_acc: 0.5333\n",
      "Epoch 47/50\n",
      "15/15 [==============================] - 0s 9ms/step - loss: 8.9010e-06 - acc: 1.0000 - val_loss: 1.8808 - val_acc: 0.8000\n",
      "Epoch 48/50\n",
      "15/15 [==============================] - 0s 9ms/step - loss: 8.6890e-06 - acc: 1.0000 - val_loss: 3.6425 - val_acc: 0.4667\n",
      "Epoch 49/50\n",
      "15/15 [==============================] - 0s 9ms/step - loss: 8.2228e-06 - acc: 1.0000 - val_loss: 1.9366 - val_acc: 0.6667\n",
      "Epoch 50/50\n",
      "15/15 [==============================] - 0s 9ms/step - loss: 7.9473e-06 - acc: 1.0000 - val_loss: 3.6235 - val_acc: 0.6000\n"
     ]
    },
    {
     "data": {
      "text/plain": [
       "<keras.callbacks.History at 0x1a7f3019c48>"
      ]
     },
     "execution_count": 10,
     "metadata": {},
     "output_type": "execute_result"
    }
   ],
   "source": [
    "model.fit_generator(\n",
    "        train_generator,\n",
    "        steps_per_epoch=15,\n",
    "        epochs=50,\n",
    "        validation_data=test_generator,\n",
    "        validation_steps=5)"
   ]
  },
  {
   "cell_type": "code",
   "execution_count": 11,
   "metadata": {},
   "outputs": [
    {
     "name": "stdout",
     "output_type": "stream",
     "text": [
      "-- Evaluate --\n",
      "acc: 66.67%\n"
     ]
    }
   ],
   "source": [
    "print(\"-- Evaluate --\")\n",
    "scores = model.evaluate_generator(test_generator, steps=5)\n",
    "print(\"%s: %.2f%%\" %(model.metrics_names[1], scores[1]*100))"
   ]
  },
  {
   "cell_type": "code",
   "execution_count": 12,
   "metadata": {},
   "outputs": [
    {
     "data": {
      "text/plain": [
       "(1.9413915872573853, 0.6666666805744171)"
      ]
     },
     "execution_count": 12,
     "metadata": {},
     "output_type": "execute_result"
    }
   ],
   "source": [
    "scores[0], scores[1]"
   ]
  },
  {
   "cell_type": "code",
   "execution_count": 13,
   "metadata": {},
   "outputs": [
    {
     "name": "stdout",
     "output_type": "stream",
     "text": [
      "-- Predict --\n",
      "{'circle': 0, 'rectangle': 1, 'triangle': 2}\n",
      "[[1.000 0.000 0.000]\n",
      " [0.130 0.000 0.870]\n",
      " [0.000 0.000 1.000]\n",
      " [0.000 0.000 1.000]\n",
      " [0.595 0.381 0.024]\n",
      " [1.000 0.000 0.000]\n",
      " [0.001 0.000 0.999]\n",
      " [0.000 1.000 0.000]\n",
      " [0.000 0.000 1.000]\n",
      " [0.035 0.001 0.965]\n",
      " [0.000 0.008 0.992]\n",
      " [0.003 0.043 0.954]\n",
      " [0.000 0.000 1.000]\n",
      " [0.000 1.000 0.000]\n",
      " [1.000 0.000 0.000]]\n"
     ]
    }
   ],
   "source": [
    "print(\"-- Predict --\")\n",
    "output = model.predict_generator(test_generator, steps=5)\n",
    "np.set_printoptions(formatter={'float': lambda x: \"{0:0.3f}\".format(x)})\n",
    "print(test_generator.class_indices)\n",
    "print(output)"
   ]
  },
  {
   "cell_type": "code",
   "execution_count": 14,
   "metadata": {},
   "outputs": [
    {
     "data": {
      "text/plain": [
       "array([0, 0, 0, 0, 0, 0, 0, 0, 0, 0, 1, 1, 1, 1, 1, 1, 1, 1, 1, 1, 2, 2,\n",
       "       2, 2, 2, 2, 2, 2, 2, 2])"
      ]
     },
     "execution_count": 14,
     "metadata": {},
     "output_type": "execute_result"
    }
   ],
   "source": [
    "test_generator.labels"
   ]
  },
  {
   "cell_type": "code",
   "execution_count": 16,
   "metadata": {},
   "outputs": [
    {
     "name": "stdout",
     "output_type": "stream",
     "text": [
      "circle\\circle016.png 0 0\n",
      "circle\\circle017.png 0 2\n",
      "circle\\circle018.png 0 2\n",
      "circle\\circle019.png 0 2\n",
      "circle\\circle020.png 0 0\n",
      "circle\\circle021.png 0 0\n",
      "circle\\circle022.png 0 2\n",
      "circle\\circle023.png 0 1\n",
      "circle\\circle024.png 0 2\n",
      "circle\\circle025.png 0 2\n",
      "rectangle\\rectangle016.png 1 2\n",
      "rectangle\\rectangle017.png 1 2\n",
      "rectangle\\rectangle018.png 1 2\n",
      "rectangle\\rectangle019.png 1 1\n",
      "rectangle\\rectangle020.png 1 0\n"
     ]
    },
    {
     "ename": "IndexError",
     "evalue": "index 15 is out of bounds for axis 0 with size 15",
     "output_type": "error",
     "traceback": [
      "\u001b[1;31m---------------------------------------------------------------------------\u001b[0m",
      "\u001b[1;31mIndexError\u001b[0m                                Traceback (most recent call last)",
      "\u001b[1;32m<ipython-input-16-ca74913665b9>\u001b[0m in \u001b[0;36m<module>\u001b[1;34m\u001b[0m\n\u001b[0;32m      1\u001b[0m \u001b[1;32mfor\u001b[0m \u001b[0mi\u001b[0m \u001b[1;32min\u001b[0m \u001b[0mrange\u001b[0m\u001b[1;33m(\u001b[0m\u001b[0mlen\u001b[0m\u001b[1;33m(\u001b[0m\u001b[0mtest_generator\u001b[0m\u001b[1;33m.\u001b[0m\u001b[0mlabels\u001b[0m\u001b[1;33m)\u001b[0m\u001b[1;33m)\u001b[0m\u001b[1;33m:\u001b[0m\u001b[1;33m\u001b[0m\u001b[1;33m\u001b[0m\u001b[0m\n\u001b[1;32m----> 2\u001b[1;33m     \u001b[0mprint\u001b[0m\u001b[1;33m(\u001b[0m\u001b[0mtest_generator\u001b[0m\u001b[1;33m.\u001b[0m\u001b[0mfilenames\u001b[0m\u001b[1;33m[\u001b[0m\u001b[0mi\u001b[0m\u001b[1;33m]\u001b[0m\u001b[1;33m,\u001b[0m \u001b[0mtest_generator\u001b[0m\u001b[1;33m.\u001b[0m\u001b[0mlabels\u001b[0m\u001b[1;33m[\u001b[0m\u001b[0mi\u001b[0m\u001b[1;33m]\u001b[0m\u001b[1;33m,\u001b[0m \u001b[0mnp\u001b[0m\u001b[1;33m.\u001b[0m\u001b[0margmax\u001b[0m\u001b[1;33m(\u001b[0m\u001b[0moutput\u001b[0m\u001b[1;33m[\u001b[0m\u001b[0mi\u001b[0m\u001b[1;33m]\u001b[0m\u001b[1;33m)\u001b[0m\u001b[1;33m)\u001b[0m\u001b[1;33m\u001b[0m\u001b[1;33m\u001b[0m\u001b[0m\n\u001b[0m",
      "\u001b[1;31mIndexError\u001b[0m: index 15 is out of bounds for axis 0 with size 15"
     ]
    }
   ],
   "source": [
    "for i in range(len(test_generator.labels)):\n",
    "    print(test_generator.filenames[i], test_generator.labels[i], np.argmax(output[i]))"
   ]
  },
  {
   "cell_type": "code",
   "execution_count": null,
   "metadata": {},
   "outputs": [],
   "source": []
  }
 ],
 "metadata": {
  "kernelspec": {
   "display_name": "Python 3",
   "language": "python",
   "name": "python3"
  },
  "language_info": {
   "codemirror_mode": {
    "name": "ipython",
    "version": 3
   },
   "file_extension": ".py",
   "mimetype": "text/x-python",
   "name": "python",
   "nbconvert_exporter": "python",
   "pygments_lexer": "ipython3",
   "version": "3.7.7"
  }
 },
 "nbformat": 4,
 "nbformat_minor": 4
}
