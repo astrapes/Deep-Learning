{
 "cells": [
  {
   "cell_type": "markdown",
   "metadata": {},
   "source": [
    "### 데이터 다운로드 캐글 New York Times coments"
   ]
  },
  {
   "cell_type": "code",
   "execution_count": 1,
   "metadata": {},
   "outputs": [],
   "source": [
    "import plaidml.keras\n",
    "plaidml.keras.install_backend()\n",
    "import numpy as np\n",
    "import pandas as pd\n",
    "from string import punctuation\n",
    "\n",
    "from tensorflow import keras\n",
    "from keras.preprocessing.text import Tokenizer\n",
    "from keras.preprocessing.sequence import pad_sequences\n",
    "from keras.utils import to_categorical"
   ]
  },
  {
   "cell_type": "code",
   "execution_count": 2,
   "metadata": {},
   "outputs": [
    {
     "data": {
      "text/html": [
       "<div>\n",
       "<style scoped>\n",
       "    .dataframe tbody tr th:only-of-type {\n",
       "        vertical-align: middle;\n",
       "    }\n",
       "\n",
       "    .dataframe tbody tr th {\n",
       "        vertical-align: top;\n",
       "    }\n",
       "\n",
       "    .dataframe thead th {\n",
       "        text-align: right;\n",
       "    }\n",
       "</style>\n",
       "<table border=\"1\" class=\"dataframe\">\n",
       "  <thead>\n",
       "    <tr style=\"text-align: right;\">\n",
       "      <th></th>\n",
       "      <th>articleID</th>\n",
       "      <th>articleWordCount</th>\n",
       "      <th>byline</th>\n",
       "      <th>documentType</th>\n",
       "      <th>headline</th>\n",
       "      <th>keywords</th>\n",
       "      <th>multimedia</th>\n",
       "      <th>newDesk</th>\n",
       "      <th>printPage</th>\n",
       "      <th>pubDate</th>\n",
       "      <th>sectionName</th>\n",
       "      <th>snippet</th>\n",
       "      <th>source</th>\n",
       "      <th>typeOfMaterial</th>\n",
       "      <th>webURL</th>\n",
       "    </tr>\n",
       "  </thead>\n",
       "  <tbody>\n",
       "    <tr>\n",
       "      <th>0</th>\n",
       "      <td>5adf6684068401528a2aa69b</td>\n",
       "      <td>781</td>\n",
       "      <td>By JOHN BRANCH</td>\n",
       "      <td>article</td>\n",
       "      <td>Former N.F.L. Cheerleaders’ Settlement Offer: ...</td>\n",
       "      <td>['Workplace Hazards and Violations', 'Football...</td>\n",
       "      <td>68</td>\n",
       "      <td>Sports</td>\n",
       "      <td>0</td>\n",
       "      <td>2018-04-24 17:16:49</td>\n",
       "      <td>Pro Football</td>\n",
       "      <td>“I understand that they could meet with us, pa...</td>\n",
       "      <td>The New York Times</td>\n",
       "      <td>News</td>\n",
       "      <td>https://www.nytimes.com/2018/04/24/sports/foot...</td>\n",
       "    </tr>\n",
       "    <tr>\n",
       "      <th>1</th>\n",
       "      <td>5adf653f068401528a2aa697</td>\n",
       "      <td>656</td>\n",
       "      <td>By LISA FRIEDMAN</td>\n",
       "      <td>article</td>\n",
       "      <td>E.P.A. to Unveil a New Rule. Its Effect: Less ...</td>\n",
       "      <td>['Environmental Protection Agency', 'Pruitt, S...</td>\n",
       "      <td>68</td>\n",
       "      <td>Climate</td>\n",
       "      <td>0</td>\n",
       "      <td>2018-04-24 17:11:21</td>\n",
       "      <td>Unknown</td>\n",
       "      <td>The agency plans to publish a new regulation T...</td>\n",
       "      <td>The New York Times</td>\n",
       "      <td>News</td>\n",
       "      <td>https://www.nytimes.com/2018/04/24/climate/epa...</td>\n",
       "    </tr>\n",
       "    <tr>\n",
       "      <th>2</th>\n",
       "      <td>5adf4626068401528a2aa628</td>\n",
       "      <td>2427</td>\n",
       "      <td>By PETE WELLS</td>\n",
       "      <td>article</td>\n",
       "      <td>The New Noma, Explained</td>\n",
       "      <td>['Restaurants', 'Noma (Copenhagen, Restaurant)...</td>\n",
       "      <td>66</td>\n",
       "      <td>Dining</td>\n",
       "      <td>0</td>\n",
       "      <td>2018-04-24 14:58:44</td>\n",
       "      <td>Unknown</td>\n",
       "      <td>What’s it like to eat at the second incarnatio...</td>\n",
       "      <td>The New York Times</td>\n",
       "      <td>News</td>\n",
       "      <td>https://www.nytimes.com/2018/04/24/dining/noma...</td>\n",
       "    </tr>\n",
       "    <tr>\n",
       "      <th>3</th>\n",
       "      <td>5adf40d2068401528a2aa619</td>\n",
       "      <td>626</td>\n",
       "      <td>By JULIE HIRSCHFELD DAVIS and PETER BAKER</td>\n",
       "      <td>article</td>\n",
       "      <td>Unknown</td>\n",
       "      <td>['Macron, Emmanuel (1977- )', 'Trump, Donald J...</td>\n",
       "      <td>68</td>\n",
       "      <td>Washington</td>\n",
       "      <td>0</td>\n",
       "      <td>2018-04-24 14:35:57</td>\n",
       "      <td>Europe</td>\n",
       "      <td>President Trump welcomed President Emmanuel Ma...</td>\n",
       "      <td>The New York Times</td>\n",
       "      <td>News</td>\n",
       "      <td>https://www.nytimes.com/2018/04/24/world/europ...</td>\n",
       "    </tr>\n",
       "    <tr>\n",
       "      <th>4</th>\n",
       "      <td>5adf3d64068401528a2aa60f</td>\n",
       "      <td>815</td>\n",
       "      <td>By IAN AUSTEN and DAN BILEFSKY</td>\n",
       "      <td>article</td>\n",
       "      <td>Unknown</td>\n",
       "      <td>['Toronto, Ontario, Attack (April, 2018)', 'Mu...</td>\n",
       "      <td>68</td>\n",
       "      <td>Foreign</td>\n",
       "      <td>0</td>\n",
       "      <td>2018-04-24 14:21:21</td>\n",
       "      <td>Canada</td>\n",
       "      <td>Alek Minassian, 25, a resident of Toronto’s Ri...</td>\n",
       "      <td>The New York Times</td>\n",
       "      <td>News</td>\n",
       "      <td>https://www.nytimes.com/2018/04/24/world/canad...</td>\n",
       "    </tr>\n",
       "  </tbody>\n",
       "</table>\n",
       "</div>"
      ],
      "text/plain": [
       "                  articleID  articleWordCount  \\\n",
       "0  5adf6684068401528a2aa69b               781   \n",
       "1  5adf653f068401528a2aa697               656   \n",
       "2  5adf4626068401528a2aa628              2427   \n",
       "3  5adf40d2068401528a2aa619               626   \n",
       "4  5adf3d64068401528a2aa60f               815   \n",
       "\n",
       "                                      byline documentType  \\\n",
       "0                             By JOHN BRANCH      article   \n",
       "1                           By LISA FRIEDMAN      article   \n",
       "2                              By PETE WELLS      article   \n",
       "3  By JULIE HIRSCHFELD DAVIS and PETER BAKER      article   \n",
       "4             By IAN AUSTEN and DAN BILEFSKY      article   \n",
       "\n",
       "                                            headline  \\\n",
       "0  Former N.F.L. Cheerleaders’ Settlement Offer: ...   \n",
       "1  E.P.A. to Unveil a New Rule. Its Effect: Less ...   \n",
       "2                            The New Noma, Explained   \n",
       "3                                            Unknown   \n",
       "4                                            Unknown   \n",
       "\n",
       "                                            keywords  multimedia     newDesk  \\\n",
       "0  ['Workplace Hazards and Violations', 'Football...          68      Sports   \n",
       "1  ['Environmental Protection Agency', 'Pruitt, S...          68     Climate   \n",
       "2  ['Restaurants', 'Noma (Copenhagen, Restaurant)...          66      Dining   \n",
       "3  ['Macron, Emmanuel (1977- )', 'Trump, Donald J...          68  Washington   \n",
       "4  ['Toronto, Ontario, Attack (April, 2018)', 'Mu...          68     Foreign   \n",
       "\n",
       "   printPage              pubDate   sectionName  \\\n",
       "0          0  2018-04-24 17:16:49  Pro Football   \n",
       "1          0  2018-04-24 17:11:21       Unknown   \n",
       "2          0  2018-04-24 14:58:44       Unknown   \n",
       "3          0  2018-04-24 14:35:57        Europe   \n",
       "4          0  2018-04-24 14:21:21        Canada   \n",
       "\n",
       "                                             snippet              source  \\\n",
       "0  “I understand that they could meet with us, pa...  The New York Times   \n",
       "1  The agency plans to publish a new regulation T...  The New York Times   \n",
       "2  What’s it like to eat at the second incarnatio...  The New York Times   \n",
       "3  President Trump welcomed President Emmanuel Ma...  The New York Times   \n",
       "4  Alek Minassian, 25, a resident of Toronto’s Ri...  The New York Times   \n",
       "\n",
       "  typeOfMaterial                                             webURL  \n",
       "0           News  https://www.nytimes.com/2018/04/24/sports/foot...  \n",
       "1           News  https://www.nytimes.com/2018/04/24/climate/epa...  \n",
       "2           News  https://www.nytimes.com/2018/04/24/dining/noma...  \n",
       "3           News  https://www.nytimes.com/2018/04/24/world/europ...  \n",
       "4           News  https://www.nytimes.com/2018/04/24/world/canad...  "
      ]
     },
     "execution_count": 2,
     "metadata": {},
     "output_type": "execute_result"
    }
   ],
   "source": [
    "df=pd.read_csv('../dataset/ArticlesApril2018.csv')\n",
    "df.head()"
   ]
  },
  {
   "cell_type": "code",
   "execution_count": 3,
   "metadata": {},
   "outputs": [
    {
     "name": "stdout",
     "output_type": "stream",
     "text": [
      "열의 개수:  15\n",
      "Index(['articleID', 'articleWordCount', 'byline', 'documentType', 'headline',\n",
      "       'keywords', 'multimedia', 'newDesk', 'printPage', 'pubDate',\n",
      "       'sectionName', 'snippet', 'source', 'typeOfMaterial', 'webURL'],\n",
      "      dtype='object')\n"
     ]
    }
   ],
   "source": [
    "print('열의 개수: ', len(df.columns))\n",
    "print(df.columns)"
   ]
  },
  {
   "cell_type": "code",
   "execution_count": 4,
   "metadata": {},
   "outputs": [
    {
     "data": {
      "text/plain": [
       "False"
      ]
     },
     "execution_count": 4,
     "metadata": {},
     "output_type": "execute_result"
    }
   ],
   "source": [
    "# headline 열의 데이터만 사용, Null 검사\n",
    "df['headline'].isnull().values.any()"
   ]
  },
  {
   "cell_type": "code",
   "execution_count": 5,
   "metadata": {},
   "outputs": [
    {
     "data": {
      "text/plain": [
       "['Former N.F.L. Cheerleaders’ Settlement Offer: $1 and a Meeting With Goodell',\n",
       " 'E.P.A. to Unveil a New Rule. Its Effect: Less Science in Policymaking.',\n",
       " 'The New Noma, Explained',\n",
       " 'Unknown',\n",
       " 'Unknown']"
      ]
     },
     "execution_count": 5,
     "metadata": {},
     "output_type": "execute_result"
    }
   ],
   "source": [
    "# headline 열의 데이터로 리스트 생성\n",
    "headline = [title for title in df.headline.values]\n",
    "headline[:5]"
   ]
  },
  {
   "cell_type": "code",
   "execution_count": 6,
   "metadata": {},
   "outputs": [
    {
     "data": {
      "text/plain": [
       "1324"
      ]
     },
     "execution_count": 6,
     "metadata": {},
     "output_type": "execute_result"
    }
   ],
   "source": [
    "len(headline)"
   ]
  },
  {
   "cell_type": "code",
   "execution_count": 7,
   "metadata": {},
   "outputs": [
    {
     "data": {
      "text/plain": [
       "1214"
      ]
     },
     "execution_count": 7,
     "metadata": {},
     "output_type": "execute_result"
    }
   ],
   "source": [
    "# 노이즈 데이터('Unknown') 제거\n",
    "headline = [title for title in headline if title != 'Unknown']\n",
    "len(headline)"
   ]
  },
  {
   "cell_type": "code",
   "execution_count": 8,
   "metadata": {},
   "outputs": [],
   "source": [
    "# 구두점 제거와 소문자화를 위한 함수\n",
    "def repreprocessing(s):\n",
    "    s=s.encode(\"utf8\").decode(\"ascii\",'ignore')\n",
    "    return ''.join(c for c in s if c not in punctuation).lower()"
   ]
  },
  {
   "cell_type": "code",
   "execution_count": 9,
   "metadata": {},
   "outputs": [
    {
     "data": {
      "text/plain": [
       "['former nfl cheerleaders settlement offer 1 and a meeting with goodell',\n",
       " 'epa to unveil a new rule its effect less science in policymaking',\n",
       " 'the new noma explained',\n",
       " 'how a bag of texas dirt  became a times tradition',\n",
       " 'is school a place for selfexpression']"
      ]
     },
     "execution_count": 9,
     "metadata": {},
     "output_type": "execute_result"
    }
   ],
   "source": [
    "text = [repreprocessing(x) for x in headline]\n",
    "text[:5]"
   ]
  },
  {
   "cell_type": "code",
   "execution_count": 10,
   "metadata": {},
   "outputs": [
    {
     "name": "stdout",
     "output_type": "stream",
     "text": [
      "단어 집합의 크기 : 3494\n"
     ]
    }
   ],
   "source": [
    "# 단어 집합(vocabulary)을 만들고 크기를 확인\n",
    "t = Tokenizer()\n",
    "t.fit_on_texts(text)\n",
    "vocab_size = len(t.word_index) + 1\n",
    "print('단어 집합의 크기 : %d' % vocab_size)"
   ]
  },
  {
   "cell_type": "code",
   "execution_count": 11,
   "metadata": {},
   "outputs": [
    {
     "data": {
      "text/plain": [
       "[[99, 269],\n",
       " [99, 269, 371],\n",
       " [99, 269, 371, 1115],\n",
       " [99, 269, 371, 1115, 582],\n",
       " [99, 269, 371, 1115, 582, 52],\n",
       " [99, 269, 371, 1115, 582, 52, 7],\n",
       " [99, 269, 371, 1115, 582, 52, 7, 2],\n",
       " [99, 269, 371, 1115, 582, 52, 7, 2, 372],\n",
       " [99, 269, 371, 1115, 582, 52, 7, 2, 372, 10],\n",
       " [99, 269, 371, 1115, 582, 52, 7, 2, 372, 10, 1116],\n",
       " [100, 3]]"
      ]
     },
     "execution_count": 11,
     "metadata": {},
     "output_type": "execute_result"
    }
   ],
   "source": [
    "sequences = []\n",
    "for line in text: # 1,214 개의 샘플에 대해서 샘플을 1개씩 가져온다.\n",
    "    encoded = t.texts_to_sequences([line])[0] # 각 샘플에 대한 정수 인코딩\n",
    "    for i in range(1, len(encoded)):\n",
    "        sequence = encoded[:i+1]\n",
    "        sequences.append(sequence)\n",
    "\n",
    "sequences[:11] # 11개의 샘플 출력"
   ]
  },
  {
   "cell_type": "code",
   "execution_count": 12,
   "metadata": {},
   "outputs": [
    {
     "name": "stdout",
     "output_type": "stream",
     "text": [
      "빈도수 상위 1번 단어 : the\n",
      "빈도수 상위 582번 단어 : offer\n"
     ]
    }
   ],
   "source": [
    "index_to_word = {}\n",
    "for key, value in t.word_index.items(): # 인덱스를 단어로 바꾸기 위해 index_to_word를 생성\n",
    "    index_to_word[value] = key\n",
    "\n",
    "print('빈도수 상위 1번 단어 :', index_to_word[1])\n",
    "print('빈도수 상위 582번 단어 :', index_to_word[582])"
   ]
  },
  {
   "cell_type": "code",
   "execution_count": 13,
   "metadata": {},
   "outputs": [
    {
     "name": "stdout",
     "output_type": "stream",
     "text": [
      "샘플의 최대 길이 : 24\n"
     ]
    }
   ],
   "source": [
    "max_len=max(len(s) for s in sequences)\n",
    "print('샘플의 최대 길이 :', max_len)"
   ]
  },
  {
   "cell_type": "code",
   "execution_count": 14,
   "metadata": {},
   "outputs": [
    {
     "name": "stdout",
     "output_type": "stream",
     "text": [
      "[[   0    0    0    0    0    0    0    0    0    0    0    0    0    0\n",
      "     0    0    0    0    0    0    0    0   99  269]\n",
      " [   0    0    0    0    0    0    0    0    0    0    0    0    0    0\n",
      "     0    0    0    0    0    0    0   99  269  371]\n",
      " [   0    0    0    0    0    0    0    0    0    0    0    0    0    0\n",
      "     0    0    0    0    0    0   99  269  371 1115]]\n"
     ]
    }
   ],
   "source": [
    "# 전체 샘플의 길이를 24(가장 긴 샘플의 길이)로 패딩\n",
    "# 'pre' 옵션을 주면 앞을 0으로 패딩\n",
    "sequences = pad_sequences(sequences, maxlen=max_len, padding='pre')\n",
    "print(sequences[:3])"
   ]
  },
  {
   "cell_type": "code",
   "execution_count": 15,
   "metadata": {},
   "outputs": [],
   "source": [
    "X = sequences[:,:-1]\n",
    "y = sequences[:,-1]"
   ]
  },
  {
   "cell_type": "code",
   "execution_count": 16,
   "metadata": {},
   "outputs": [],
   "source": [
    "# 레이블 데이터 y에 대해서 원-핫 인코딩을 수행\n",
    "y = to_categorical(y, num_classes=vocab_size)"
   ]
  },
  {
   "cell_type": "code",
   "execution_count": 17,
   "metadata": {},
   "outputs": [
    {
     "data": {
      "text/plain": [
       "((7803, 23), (7803, 3494))"
      ]
     },
     "execution_count": 17,
     "metadata": {},
     "output_type": "execute_result"
    }
   ],
   "source": [
    "X.shape, y.shape"
   ]
  },
  {
   "cell_type": "code",
   "execution_count": 18,
   "metadata": {},
   "outputs": [],
   "source": [
    "from tensorflow import keras\n",
    "from keras.models import Sequential\n",
    "from keras.layers import Embedding, Dense, LSTM"
   ]
  },
  {
   "cell_type": "code",
   "execution_count": 20,
   "metadata": {},
   "outputs": [
    {
     "name": "stderr",
     "output_type": "stream",
     "text": [
      "INFO:plaidml:Opening device \"opencl_amd_ellesmere.0\"\n"
     ]
    },
    {
     "name": "stdout",
     "output_type": "stream",
     "text": [
      "_________________________________________________________________\n",
      "Layer (type)                 Output Shape              Param #   \n",
      "=================================================================\n",
      "Embedding_Layer (Embedding)  (None, 23, 10)            34940     \n",
      "_________________________________________________________________\n",
      "LSTM_Layer (LSTM)            (None, 128)               71168     \n",
      "_________________________________________________________________\n",
      "Output_Layer (Dense)         (None, 3494)              450726    \n",
      "=================================================================\n",
      "Total params: 556,834\n",
      "Trainable params: 556,834\n",
      "Non-trainable params: 0\n",
      "_________________________________________________________________\n"
     ]
    }
   ],
   "source": [
    "model = Sequential()\n",
    "model.add(Embedding(vocab_size, 10, input_length=max_len-1, name=\"Embedding_Layer\"))\n",
    "model.add(LSTM(128, name=\"LSTM_Layer\"))\n",
    "model.add(Dense(vocab_size, activation='softmax', name=\"Output_Layer\"))\n",
    "model.summary()"
   ]
  },
  {
   "cell_type": "code",
   "execution_count": 21,
   "metadata": {},
   "outputs": [],
   "source": [
    "model.compile(loss='categorical_crossentropy', \n",
    "              optimizer='adam', metrics=['accuracy'])"
   ]
  },
  {
   "cell_type": "code",
   "execution_count": 22,
   "metadata": {},
   "outputs": [
    {
     "name": "stdout",
     "output_type": "stream",
     "text": [
      "Epoch 1/200\n",
      " - 19s - loss: 7.6334 - acc: 0.0300\n",
      "Epoch 2/200\n",
      " - 7s - loss: 7.1184 - acc: 0.0310\n",
      "Epoch 3/200\n",
      " - 7s - loss: 6.9822 - acc: 0.0399\n",
      "Epoch 4/200\n",
      " - 7s - loss: 6.8483 - acc: 0.0425\n",
      "Epoch 5/200\n",
      " - 7s - loss: 6.6934 - acc: 0.0461\n",
      "Epoch 6/200\n",
      " - 7s - loss: 6.5178 - acc: 0.0509\n",
      "Epoch 7/200\n",
      " - 7s - loss: 6.3230 - acc: 0.0568\n",
      "Epoch 8/200\n",
      " - 7s - loss: 6.1222 - acc: 0.0597\n",
      "Epoch 9/200\n",
      " - 7s - loss: 5.9229 - acc: 0.0674\n",
      "Epoch 10/200\n",
      " - 7s - loss: 5.7351 - acc: 0.0715\n",
      "Epoch 11/200\n",
      " - 7s - loss: 5.5612 - acc: 0.0754\n",
      "Epoch 12/200\n",
      " - 7s - loss: 5.3880 - acc: 0.0819\n",
      "Epoch 13/200\n",
      " - 7s - loss: 5.2289 - acc: 0.0846\n",
      "Epoch 14/200\n",
      " - 7s - loss: 5.0752 - acc: 0.0959\n",
      "Epoch 15/200\n",
      " - 7s - loss: 4.9259 - acc: 0.1038\n",
      "Epoch 16/200\n",
      " - 7s - loss: 4.7828 - acc: 0.1148\n",
      "Epoch 17/200\n",
      " - 7s - loss: 4.6446 - acc: 0.1270\n",
      "Epoch 18/200\n",
      " - 7s - loss: 4.5079 - acc: 0.1410\n",
      "Epoch 19/200\n",
      " - 7s - loss: 4.3763 - acc: 0.1598\n",
      "Epoch 20/200\n",
      " - 7s - loss: 4.2497 - acc: 0.1749\n",
      "Epoch 21/200\n",
      " - 7s - loss: 4.1260 - acc: 0.1942\n",
      "Epoch 22/200\n",
      " - 7s - loss: 4.0056 - acc: 0.2148\n",
      "Epoch 23/200\n",
      " - 7s - loss: 3.8868 - acc: 0.2289\n",
      "Epoch 24/200\n",
      " - 7s - loss: 3.7697 - acc: 0.2537\n",
      "Epoch 25/200\n",
      " - 7s - loss: 3.6629 - acc: 0.2698\n",
      "Epoch 26/200\n",
      " - 7s - loss: 3.5516 - acc: 0.2944\n",
      "Epoch 27/200\n",
      " - 7s - loss: 3.4517 - acc: 0.3114\n",
      "Epoch 28/200\n",
      " - 7s - loss: 3.3456 - acc: 0.3312\n",
      "Epoch 29/200\n",
      " - 7s - loss: 3.2476 - acc: 0.3518\n",
      "Epoch 30/200\n",
      " - 7s - loss: 3.1559 - acc: 0.3710\n",
      "Epoch 31/200\n",
      " - 7s - loss: 3.0649 - acc: 0.3907\n",
      "Epoch 32/200\n",
      " - 7s - loss: 2.9772 - acc: 0.4054\n",
      "Epoch 33/200\n",
      " - 7s - loss: 2.8895 - acc: 0.4170\n",
      "Epoch 34/200\n",
      " - 7s - loss: 2.8065 - acc: 0.4353\n",
      "Epoch 35/200\n",
      " - 7s - loss: 2.7274 - acc: 0.4461\n",
      "Epoch 36/200\n",
      " - 7s - loss: 2.6497 - acc: 0.4619\n",
      "Epoch 37/200\n",
      " - 7s - loss: 2.5746 - acc: 0.4817\n",
      "Epoch 38/200\n",
      " - 7s - loss: 2.4999 - acc: 0.4953\n",
      "Epoch 39/200\n",
      " - 7s - loss: 2.4299 - acc: 0.5088\n",
      "Epoch 40/200\n",
      " - 7s - loss: 2.3623 - acc: 0.5229\n",
      "Epoch 41/200\n",
      " - 7s - loss: 2.2959 - acc: 0.5358\n",
      "Epoch 42/200\n",
      " - 7s - loss: 2.2362 - acc: 0.5504\n",
      "Epoch 43/200\n",
      " - 7s - loss: 2.1717 - acc: 0.5589\n",
      "Epoch 44/200\n",
      " - 7s - loss: 2.1120 - acc: 0.5721\n",
      "Epoch 45/200\n",
      " - 7s - loss: 2.0529 - acc: 0.5798\n",
      "Epoch 46/200\n",
      " - 7s - loss: 1.9999 - acc: 0.5945\n",
      "Epoch 47/200\n",
      " - 7s - loss: 1.9457 - acc: 0.6103\n",
      "Epoch 48/200\n",
      " - 7s - loss: 1.8940 - acc: 0.6189\n",
      "Epoch 49/200\n",
      " - 7s - loss: 1.8451 - acc: 0.6286\n",
      "Epoch 50/200\n",
      " - 7s - loss: 1.7894 - acc: 0.6383\n",
      "Epoch 51/200\n",
      " - 7s - loss: 1.7410 - acc: 0.6512\n",
      "Epoch 52/200\n",
      " - 7s - loss: 1.6963 - acc: 0.6624\n",
      "Epoch 53/200\n",
      " - 7s - loss: 1.6501 - acc: 0.6671\n",
      "Epoch 54/200\n",
      " - 7s - loss: 1.6032 - acc: 0.6817\n",
      "Epoch 55/200\n",
      " - 7s - loss: 1.5631 - acc: 0.6872\n",
      "Epoch 56/200\n",
      " - 7s - loss: 1.5253 - acc: 0.6960\n",
      "Epoch 57/200\n",
      " - 7s - loss: 1.4840 - acc: 0.6992\n",
      "Epoch 58/200\n",
      " - 7s - loss: 1.4445 - acc: 0.7115\n",
      "Epoch 59/200\n",
      " - 7s - loss: 1.4040 - acc: 0.7186\n",
      "Epoch 60/200\n",
      " - 7s - loss: 1.3666 - acc: 0.7247\n",
      "Epoch 61/200\n",
      " - 7s - loss: 1.3295 - acc: 0.7331\n",
      "Epoch 62/200\n",
      " - 7s - loss: 1.2985 - acc: 0.7360\n",
      "Epoch 63/200\n",
      " - 7s - loss: 1.2644 - acc: 0.7457\n",
      "Epoch 64/200\n",
      " - 7s - loss: 1.2296 - acc: 0.7551\n",
      "Epoch 65/200\n",
      " - 7s - loss: 1.1952 - acc: 0.7639\n",
      "Epoch 66/200\n",
      " - 7s - loss: 1.1656 - acc: 0.7666\n",
      "Epoch 67/200\n",
      " - 7s - loss: 1.1359 - acc: 0.7744\n",
      "Epoch 68/200\n",
      " - 7s - loss: 1.1082 - acc: 0.7800\n",
      "Epoch 69/200\n",
      " - 7s - loss: 1.0788 - acc: 0.7851\n",
      "Epoch 70/200\n",
      " - 7s - loss: 1.0503 - acc: 0.7943\n",
      "Epoch 71/200\n",
      " - 7s - loss: 1.0204 - acc: 0.7991\n",
      "Epoch 72/200\n",
      " - 7s - loss: 0.9947 - acc: 0.8049\n",
      "Epoch 73/200\n",
      " - 7s - loss: 0.9736 - acc: 0.8052\n",
      "Epoch 74/200\n",
      " - 7s - loss: 0.9475 - acc: 0.8152\n",
      "Epoch 75/200\n",
      " - 7s - loss: 0.9272 - acc: 0.8178\n",
      "Epoch 76/200\n",
      " - 7s - loss: 0.8990 - acc: 0.8230\n",
      "Epoch 77/200\n",
      " - 7s - loss: 0.8771 - acc: 0.8275\n",
      "Epoch 78/200\n",
      " - 7s - loss: 0.8571 - acc: 0.8311\n",
      "Epoch 79/200\n",
      " - 7s - loss: 0.8345 - acc: 0.8381\n",
      "Epoch 80/200\n",
      " - 7s - loss: 0.8152 - acc: 0.8415\n",
      "Epoch 81/200\n",
      " - 7s - loss: 0.7946 - acc: 0.8475\n",
      "Epoch 82/200\n",
      " - 7s - loss: 0.7716 - acc: 0.8513\n",
      "Epoch 83/200\n",
      " - 7s - loss: 0.7545 - acc: 0.8549\n",
      "Epoch 84/200\n",
      " - 7s - loss: 0.7385 - acc: 0.8556\n",
      "Epoch 85/200\n",
      " - 7s - loss: 0.7219 - acc: 0.8640\n",
      "Epoch 86/200\n",
      " - 7s - loss: 0.7084 - acc: 0.8603\n",
      "Epoch 87/200\n",
      " - 7s - loss: 0.6914 - acc: 0.8692\n",
      "Epoch 88/200\n",
      " - 7s - loss: 0.6733 - acc: 0.8702\n",
      "Epoch 89/200\n",
      " - 7s - loss: 0.6545 - acc: 0.8731\n",
      "Epoch 90/200\n",
      " - 7s - loss: 0.6425 - acc: 0.8770\n",
      "Epoch 91/200\n",
      " - 7s - loss: 0.6294 - acc: 0.8780\n",
      "Epoch 92/200\n",
      " - 7s - loss: 0.6129 - acc: 0.8811\n",
      "Epoch 93/200\n",
      " - 7s - loss: 0.6090 - acc: 0.8822\n",
      "Epoch 94/200\n",
      " - 7s - loss: 0.5919 - acc: 0.8838\n",
      "Epoch 95/200\n",
      " - 7s - loss: 0.5780 - acc: 0.8859\n",
      "Epoch 96/200\n",
      " - 7s - loss: 0.5614 - acc: 0.8912\n",
      "Epoch 97/200\n",
      " - 7s - loss: 0.5480 - acc: 0.8941\n",
      "Epoch 98/200\n",
      " - 7s - loss: 0.5415 - acc: 0.8938\n",
      "Epoch 99/200\n",
      " - 7s - loss: 0.5406 - acc: 0.8918\n",
      "Epoch 100/200\n",
      " - 7s - loss: 0.5178 - acc: 0.8963\n",
      "Epoch 101/200\n",
      " - 7s - loss: 0.5050 - acc: 0.8977\n",
      "Epoch 102/200\n",
      " - 7s - loss: 0.4967 - acc: 0.8985\n",
      "Epoch 103/200\n",
      " - 7s - loss: 0.4859 - acc: 0.9018\n",
      "Epoch 104/200\n",
      " - 7s - loss: 0.4787 - acc: 0.9035\n",
      "Epoch 105/200\n",
      " - 7s - loss: 0.4712 - acc: 0.9018\n",
      "Epoch 106/200\n",
      " - 7s - loss: 0.4658 - acc: 0.9044\n",
      "Epoch 107/200\n",
      " - 7s - loss: 0.4574 - acc: 0.9039\n",
      "Epoch 108/200\n",
      " - 7s - loss: 0.4502 - acc: 0.9059\n",
      "Epoch 109/200\n",
      " - 7s - loss: 0.4409 - acc: 0.9072\n",
      "Epoch 110/200\n",
      " - 7s - loss: 0.4377 - acc: 0.9068\n",
      "Epoch 111/200\n",
      " - 7s - loss: 0.4291 - acc: 0.9081\n",
      "Epoch 112/200\n",
      " - 7s - loss: 0.4265 - acc: 0.9068\n",
      "Epoch 113/200\n",
      " - 7s - loss: 0.4162 - acc: 0.9099\n",
      "Epoch 114/200\n",
      " - 7s - loss: 0.4073 - acc: 0.9104\n",
      "Epoch 115/200\n",
      " - 7s - loss: 0.4097 - acc: 0.9108\n",
      "Epoch 116/200\n",
      " - 7s - loss: 0.4083 - acc: 0.9114\n",
      "Epoch 117/200\n",
      " - 7s - loss: 0.4053 - acc: 0.9084\n",
      "Epoch 118/200\n",
      " - 7s - loss: 0.3913 - acc: 0.9097\n",
      "Epoch 119/200\n",
      " - 7s - loss: 0.3825 - acc: 0.9125\n",
      "Epoch 120/200\n",
      " - 7s - loss: 0.3734 - acc: 0.9140\n",
      "Epoch 121/200\n",
      " - 7s - loss: 0.3694 - acc: 0.9126\n",
      "Epoch 122/200\n",
      " - 7s - loss: 0.3639 - acc: 0.9132\n",
      "Epoch 123/200\n",
      " - 7s - loss: 0.3609 - acc: 0.9145\n",
      "Epoch 124/200\n",
      " - 7s - loss: 0.3563 - acc: 0.9148\n",
      "Epoch 125/200\n",
      " - 7s - loss: 0.3551 - acc: 0.9140\n",
      "Epoch 126/200\n",
      " - 7s - loss: 0.3516 - acc: 0.9146\n",
      "Epoch 127/200\n",
      " - 7s - loss: 0.3475 - acc: 0.9146\n",
      "Epoch 128/200\n",
      " - 7s - loss: 0.3453 - acc: 0.9143\n",
      "Epoch 129/200\n",
      " - 7s - loss: 0.3422 - acc: 0.9153\n",
      "Epoch 130/200\n",
      " - 7s - loss: 0.3436 - acc: 0.9143\n",
      "Epoch 131/200\n",
      " - 7s - loss: 0.3370 - acc: 0.9154\n",
      "Epoch 132/200\n",
      " - 7s - loss: 0.3403 - acc: 0.9141\n",
      "Epoch 133/200\n",
      " - 7s - loss: 0.3322 - acc: 0.9164\n",
      "Epoch 134/200\n",
      " - 7s - loss: 0.3299 - acc: 0.9141\n",
      "Epoch 135/200\n",
      " - 7s - loss: 0.3275 - acc: 0.9157\n",
      "Epoch 136/200\n",
      " - 7s - loss: 0.3195 - acc: 0.9152\n",
      "Epoch 137/200\n",
      " - 7s - loss: 0.3185 - acc: 0.9150\n",
      "Epoch 138/200\n",
      " - 7s - loss: 0.3246 - acc: 0.9149\n",
      "Epoch 139/200\n",
      " - 7s - loss: 0.3233 - acc: 0.9140\n",
      "Epoch 140/200\n",
      " - 7s - loss: 0.3155 - acc: 0.9163\n",
      "Epoch 141/200\n",
      " - 7s - loss: 0.3107 - acc: 0.9145\n",
      "Epoch 142/200\n",
      " - 7s - loss: 0.3096 - acc: 0.9164\n",
      "Epoch 143/200\n",
      " - 7s - loss: 0.3069 - acc: 0.9159\n",
      "Epoch 144/200\n",
      " - 7s - loss: 0.3032 - acc: 0.9172\n",
      "Epoch 145/200\n",
      " - 7s - loss: 0.3004 - acc: 0.9154\n",
      "Epoch 146/200\n",
      " - 7s - loss: 0.3002 - acc: 0.9175\n",
      "Epoch 147/200\n",
      " - 7s - loss: 0.2981 - acc: 0.9152\n",
      "Epoch 148/200\n",
      " - 7s - loss: 0.2981 - acc: 0.9155\n",
      "Epoch 149/200\n",
      " - 7s - loss: 0.3035 - acc: 0.9146\n",
      "Epoch 150/200\n",
      " - 7s - loss: 0.3017 - acc: 0.9166\n",
      "Epoch 151/200\n",
      " - 7s - loss: 0.3021 - acc: 0.9168\n",
      "Epoch 152/200\n",
      " - 7s - loss: 0.2946 - acc: 0.9176\n",
      "Epoch 153/200\n",
      " - 7s - loss: 0.2925 - acc: 0.9146\n",
      "Epoch 154/200\n",
      " - 7s - loss: 0.2908 - acc: 0.9166\n",
      "Epoch 155/200\n",
      " - 7s - loss: 0.2874 - acc: 0.9164\n",
      "Epoch 156/200\n",
      " - 7s - loss: 0.2882 - acc: 0.9170\n",
      "Epoch 157/200\n",
      " - 7s - loss: 0.2865 - acc: 0.9163\n",
      "Epoch 158/200\n",
      " - 7s - loss: 0.2839 - acc: 0.9164\n",
      "Epoch 159/200\n",
      " - 7s - loss: 0.2845 - acc: 0.9159\n",
      "Epoch 160/200\n",
      " - 7s - loss: 0.2856 - acc: 0.9177\n",
      "Epoch 161/200\n",
      " - 7s - loss: 0.2859 - acc: 0.9155\n",
      "Epoch 162/200\n",
      " - 7s - loss: 0.2863 - acc: 0.9162\n",
      "Epoch 163/200\n",
      " - 7s - loss: 0.2819 - acc: 0.9161\n",
      "Epoch 164/200\n",
      " - 7s - loss: 0.2862 - acc: 0.9157\n",
      "Epoch 165/200\n",
      " - 7s - loss: 0.2883 - acc: 0.9148\n",
      "Epoch 166/200\n",
      " - 7s - loss: 0.2827 - acc: 0.9159\n",
      "Epoch 167/200\n",
      " - 7s - loss: 0.2789 - acc: 0.9170\n",
      "Epoch 168/200\n",
      " - 7s - loss: 0.2777 - acc: 0.9172\n",
      "Epoch 169/200\n",
      " - 7s - loss: 0.2756 - acc: 0.9158\n",
      "Epoch 170/200\n",
      " - 7s - loss: 0.2800 - acc: 0.9159\n"
     ]
    },
    {
     "name": "stdout",
     "output_type": "stream",
     "text": [
      "Epoch 171/200\n",
      " - 7s - loss: 0.2784 - acc: 0.9173\n",
      "Epoch 172/200\n",
      " - 7s - loss: 0.2760 - acc: 0.9159\n",
      "Epoch 173/200\n",
      " - 7s - loss: 0.2731 - acc: 0.9173\n",
      "Epoch 174/200\n",
      " - 7s - loss: 0.2739 - acc: 0.9153\n",
      "Epoch 175/200\n",
      " - 7s - loss: 0.2730 - acc: 0.9164\n",
      "Epoch 176/200\n",
      " - 7s - loss: 0.2715 - acc: 0.9173\n",
      "Epoch 177/200\n",
      " - 7s - loss: 0.2715 - acc: 0.9162\n",
      "Epoch 178/200\n",
      " - 7s - loss: 0.2738 - acc: 0.9152\n",
      "Epoch 179/200\n",
      " - 7s - loss: 0.2757 - acc: 0.9140\n",
      "Epoch 180/200\n",
      " - 7s - loss: 0.2753 - acc: 0.9161\n",
      "Epoch 181/200\n",
      " - 7s - loss: 0.3353 - acc: 0.9009\n",
      "Epoch 182/200\n",
      " - 7s - loss: 0.2850 - acc: 0.9143\n",
      "Epoch 183/200\n",
      " - 7s - loss: 0.2713 - acc: 0.9168\n",
      "Epoch 184/200\n",
      " - 7s - loss: 0.2681 - acc: 0.9167\n",
      "Epoch 185/200\n",
      " - 7s - loss: 0.2677 - acc: 0.9153\n",
      "Epoch 186/200\n",
      " - 7s - loss: 0.2682 - acc: 0.9168\n",
      "Epoch 187/200\n",
      " - 7s - loss: 0.2671 - acc: 0.9172\n",
      "Epoch 188/200\n",
      " - 7s - loss: 0.2679 - acc: 0.9161\n",
      "Epoch 189/200\n",
      " - 7s - loss: 0.2660 - acc: 0.9161\n",
      "Epoch 190/200\n",
      " - 7s - loss: 0.2670 - acc: 0.9153\n",
      "Epoch 191/200\n",
      " - 7s - loss: 0.2682 - acc: 0.9163\n",
      "Epoch 192/200\n",
      " - 7s - loss: 0.2649 - acc: 0.9162\n",
      "Epoch 193/200\n",
      " - 7s - loss: 0.2662 - acc: 0.9152\n",
      "Epoch 194/200\n",
      " - 7s - loss: 0.2659 - acc: 0.9155\n",
      "Epoch 195/200\n",
      " - 7s - loss: 0.2648 - acc: 0.9168\n",
      "Epoch 196/200\n",
      " - 7s - loss: 0.2653 - acc: 0.9172\n",
      "Epoch 197/200\n",
      " - 7s - loss: 0.2661 - acc: 0.9168\n",
      "Epoch 198/200\n",
      " - 7s - loss: 0.2669 - acc: 0.9162\n",
      "Epoch 199/200\n",
      " - 7s - loss: 0.2641 - acc: 0.9170\n",
      "Epoch 200/200\n",
      " - 7s - loss: 0.2632 - acc: 0.9173\n"
     ]
    }
   ],
   "source": [
    "history = model.fit(X, y, epochs=200, verbose=2)"
   ]
  },
  {
   "cell_type": "code",
   "execution_count": 23,
   "metadata": {},
   "outputs": [],
   "source": [
    "def sentence_generation(model, t, current_word, n): # 모델, 토크나이저, 현재 단어, 반복할 횟수\n",
    "    init_word = current_word # 처음 들어온 단어도 마지막에 같이 출력하기위해 저장\n",
    "    sentence = ''\n",
    "    for _ in range(n): # n번 반복\n",
    "        encoded = t.texts_to_sequences([current_word])[0] # 현재 단어에 대한 정수 인코딩\n",
    "        encoded = pad_sequences([encoded], maxlen=23, padding='pre') # 데이터에 대한 패딩\n",
    "        result = model.predict_classes(encoded, verbose=0)\n",
    "          # 입력한 X(현재 단어)에 대해서 y를 예측하고 y(예측한 단어)를 result에 저장.\n",
    "        for word, index in t.word_index.items(): \n",
    "            if index == result: # 만약 예측한 단어와 인덱스와 동일한 단어가 있다면\n",
    "                break # 해당 단어가 예측 단어이므로 break\n",
    "        current_word = current_word + ' '  + word # 현재 단어 + ' ' + 예측 단어를 현재 단어로 변경\n",
    "        sentence = sentence + ' ' + word # 예측 단어를 문장에 저장\n",
    "\n",
    "    sentence = init_word + sentence\n",
    "    return sentence"
   ]
  },
  {
   "cell_type": "code",
   "execution_count": 24,
   "metadata": {},
   "outputs": [
    {
     "name": "stdout",
     "output_type": "stream",
     "text": [
      "i disapprove of school vouchers can i still apply for them\n"
     ]
    }
   ],
   "source": [
    "print(sentence_generation(model, t, 'i', 10))\n",
    "# 임의의 단어 'i'에 대해서 10개의 단어를 추가 생성"
   ]
  },
  {
   "cell_type": "code",
   "execution_count": 25,
   "metadata": {},
   "outputs": [
    {
     "name": "stdout",
     "output_type": "stream",
     "text": [
      "how to make a crossword puzzle door has an families too\n"
     ]
    }
   ],
   "source": [
    "print(sentence_generation(model, t, 'how', 10))\n",
    "# 임의의 단어 'how'에 대해서 10개의 단어를 추가 생성"
   ]
  },
  {
   "cell_type": "code",
   "execution_count": 26,
   "metadata": {},
   "outputs": [
    {
     "name": "stdout",
     "output_type": "stream",
     "text": [
      "former cheney aide is pardoned by trump in cia leak case\n"
     ]
    }
   ],
   "source": [
    "print(sentence_generation(model, t, 'former', 10))"
   ]
  },
  {
   "cell_type": "code",
   "execution_count": null,
   "metadata": {},
   "outputs": [],
   "source": []
  }
 ],
 "metadata": {
  "kernelspec": {
   "display_name": "Python 3",
   "language": "python",
   "name": "python3"
  },
  "language_info": {
   "codemirror_mode": {
    "name": "ipython",
    "version": 3
   },
   "file_extension": ".py",
   "mimetype": "text/x-python",
   "name": "python",
   "nbconvert_exporter": "python",
   "pygments_lexer": "ipython3",
   "version": "3.7.7"
  }
 },
 "nbformat": 4,
 "nbformat_minor": 4
}
