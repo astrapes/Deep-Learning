{
 "cells": [
  {
   "cell_type": "markdown",
   "metadata": {},
   "source": [
    "# 1. Iris 데이터에 대해서 5겹 교차검증을 사용하여 분류하시오."
   ]
  },
  {
   "cell_type": "code",
   "execution_count": 1,
   "metadata": {},
   "outputs": [],
   "source": [
    "import numpy as np\n",
    "import pandas as pd\n",
    "import tensorflow as tf\n",
    "from tensorflow.keras.models import Sequential\n",
    "from tensorflow.keras.layers import Dense\n",
    "from sklearn.model_selection import train_test_split, StratifiedKFold\n",
    "import seaborn as sns\n",
    "from sklearn.preprocessing import LabelEncoder\n",
    "%matplotlib inline"
   ]
  },
  {
   "cell_type": "code",
   "execution_count": 2,
   "metadata": {},
   "outputs": [],
   "source": [
    "seed=2020\n",
    "np.random.seed(seed)\n",
    "tf.random.set_seed(seed)"
   ]
  },
  {
   "cell_type": "code",
   "execution_count": 3,
   "metadata": {},
   "outputs": [],
   "source": [
    "data=pd.read_csv('../dataset/iris.csv', names = [\"sepal_length\", \"sepal_width\", \"petal_length\",\n",
    "                                              \"petal_width\", \"species\"])"
   ]
  },
  {
   "cell_type": "code",
   "execution_count": 4,
   "metadata": {},
   "outputs": [],
   "source": [
    "iris=data.values\n",
    "x=iris[:,0:4].astype(float)\n",
    "y_obj=iris[:,4]"
   ]
  },
  {
   "cell_type": "code",
   "execution_count": 5,
   "metadata": {},
   "outputs": [],
   "source": [
    "e = LabelEncoder().fit(y_obj)\n",
    "y = e.transform(y_obj)"
   ]
  },
  {
   "cell_type": "code",
   "execution_count": 6,
   "metadata": {},
   "outputs": [],
   "source": [
    "n_fold=5\n",
    "skf = StratifiedKFold(n_splits=n_fold, shuffle=True, random_state=seed)\n",
    "accuracy = []"
   ]
  },
  {
   "cell_type": "code",
   "execution_count": 7,
   "metadata": {
    "scrolled": true
   },
   "outputs": [
    {
     "name": "stdout",
     "output_type": "stream",
     "text": [
      "120 30  0.6667\n",
      "120 30  0.3667\n",
      "120 30  0.5000\n",
      "120 30  0.4000\n",
      "120 30  0.4667\n"
     ]
    }
   ],
   "source": [
    "for train, test in skf.split(x, y):\n",
    "    model = Sequential([\n",
    "        Dense(24, input_dim=4, activation='relu'),\n",
    "        Dense(12, activation='relu'),\n",
    "        Dense(1, activation='sigmoid')\n",
    "    ])\n",
    "    model.compile(loss='binary_crossentropy',\n",
    "        optimizer='adam', metrics=['accuracy'])\n",
    "    model.fit(x[train], y[train], epochs=100, batch_size=5, verbose=0)\n",
    "    \n",
    "    print(len(x[train]), len(x[test]), end='  ')\n",
    "    k_accuracy = \"%.4f\" % (model.evaluate(x[test], y[test], verbose=0)[1])\n",
    "    print(k_accuracy)\n",
    "    accuracy.append(k_accuracy)"
   ]
  },
  {
   "cell_type": "code",
   "execution_count": 8,
   "metadata": {},
   "outputs": [
    {
     "data": {
      "text/plain": [
       "0.48001999999999995"
      ]
     },
     "execution_count": 8,
     "metadata": {},
     "output_type": "execute_result"
    }
   ],
   "source": [
    "acc = np.array(accuracy, dtype=np.float64)\n",
    "np.mean(acc)"
   ]
  },
  {
   "cell_type": "code",
   "execution_count": 9,
   "metadata": {},
   "outputs": [],
   "source": [
    "test_data = np.array([5.0,3.0,4.0,2.0]).reshape(1, 4)"
   ]
  },
  {
   "cell_type": "code",
   "execution_count": 10,
   "metadata": {},
   "outputs": [
    {
     "data": {
      "text/plain": [
       "'versicolor'"
      ]
     },
     "execution_count": 10,
     "metadata": {},
     "output_type": "execute_result"
    }
   ],
   "source": [
    "species = ['setosa','versicolor','virginica']\n",
    "species[model.predict_classes(test_data)[0][0]]"
   ]
  },
  {
   "cell_type": "markdown",
   "metadata": {},
   "source": [
    "# 2. Fashion MNIST Dataset을 CNN으로 분류 하시오"
   ]
  },
  {
   "cell_type": "code",
   "execution_count": 11,
   "metadata": {},
   "outputs": [],
   "source": [
    "import os\n",
    "from tensorflow import keras\n",
    "from tensorflow.keras.utils import to_categorical\n",
    "from tensorflow.keras.datasets import mnist\n",
    "from tensorflow.keras.layers import Dropout, Flatten\n",
    "from tensorflow.keras.layers import Conv2D, MaxPooling2D\n",
    "from tensorflow.keras.models import load_model\n",
    "from tensorflow.keras.callbacks import ModelCheckpoint, EarlyStopping"
   ]
  },
  {
   "cell_type": "code",
   "execution_count": 12,
   "metadata": {},
   "outputs": [],
   "source": [
    "fashion_mnist = keras.datasets.fashion_mnist\n",
    "\n",
    "(train_images, train_labels), (test_images, test_labels) = fashion_mnist.load_data()"
   ]
  },
  {
   "cell_type": "code",
   "execution_count": 13,
   "metadata": {},
   "outputs": [],
   "source": [
    "class_names = ['T-shirt/top', 'Trouser', 'Pullover', 'Dress', 'Coat',\n",
    "               'Sandal', 'Shirt', 'Sneaker', 'Bag', 'Ankle boot']"
   ]
  },
  {
   "cell_type": "code",
   "execution_count": 14,
   "metadata": {},
   "outputs": [
    {
     "data": {
      "text/plain": [
       "{0: 6000,\n",
       " 1: 6000,\n",
       " 2: 6000,\n",
       " 3: 6000,\n",
       " 4: 6000,\n",
       " 5: 6000,\n",
       " 6: 6000,\n",
       " 7: 6000,\n",
       " 8: 6000,\n",
       " 9: 6000}"
      ]
     },
     "execution_count": 14,
     "metadata": {},
     "output_type": "execute_result"
    }
   ],
   "source": [
    "unique, counts=np.unique(train_labels,return_counts=True)\n",
    "dict(zip(unique,counts))"
   ]
  },
  {
   "cell_type": "code",
   "execution_count": 15,
   "metadata": {},
   "outputs": [],
   "source": [
    "x_train = train_images.reshape(-1,28,28,1).astype(\"float32\") / 255.0\n",
    "x_test = test_images.reshape(-1,28,28,1).astype(\"float32\") / 255.0"
   ]
  },
  {
   "cell_type": "code",
   "execution_count": 16,
   "metadata": {},
   "outputs": [],
   "source": [
    "y_train=keras.utils.to_categorical(train_labels)\n",
    "y_test=keras.utils.to_categorical(test_labels)"
   ]
  },
  {
   "cell_type": "code",
   "execution_count": 17,
   "metadata": {},
   "outputs": [
    {
     "name": "stdout",
     "output_type": "stream",
     "text": [
      "Model: \"sequential_5\"\n",
      "_________________________________________________________________\n",
      "Layer (type)                 Output Shape              Param #   \n",
      "=================================================================\n",
      "conv2d (Conv2D)              (None, 24, 24, 32)        832       \n",
      "_________________________________________________________________\n",
      "max_pooling2d (MaxPooling2D) (None, 12, 12, 32)        0         \n",
      "_________________________________________________________________\n",
      "conv2d_1 (Conv2D)            (None, 10, 10, 64)        18496     \n",
      "_________________________________________________________________\n",
      "max_pooling2d_1 (MaxPooling2 (None, 5, 5, 64)          0         \n",
      "_________________________________________________________________\n",
      "flatten (Flatten)            (None, 1600)              0         \n",
      "_________________________________________________________________\n",
      "dropout (Dropout)            (None, 1600)              0         \n",
      "_________________________________________________________________\n",
      "dense_15 (Dense)             (None, 128)               204928    \n",
      "_________________________________________________________________\n",
      "dense_16 (Dense)             (None, 64)                8256      \n",
      "_________________________________________________________________\n",
      "dropout_1 (Dropout)          (None, 64)                0         \n",
      "_________________________________________________________________\n",
      "dense_17 (Dense)             (None, 32)                2080      \n",
      "_________________________________________________________________\n",
      "dense_18 (Dense)             (None, 10)                330       \n",
      "=================================================================\n",
      "Total params: 234,922\n",
      "Trainable params: 234,922\n",
      "Non-trainable params: 0\n",
      "_________________________________________________________________\n"
     ]
    }
   ],
   "source": [
    "model = Sequential([\n",
    "    Conv2D(32, kernel_size=(5, 5), input_shape=(28, 28,1), activation='relu'),\n",
    "    MaxPooling2D(pool_size=2),\n",
    "    Conv2D(64, (3, 3), activation='relu'),\n",
    "    MaxPooling2D(pool_size=2),\n",
    "    Flatten(),\n",
    "    Dropout(0.25),\n",
    "    Dense(128, activation='relu'),\n",
    "    Dense(64, activation='relu'),\n",
    "    Dropout(0.5),\n",
    "    Dense(32, activation='relu'),\n",
    "    Dense(10, activation='softmax')\n",
    "])\n",
    "model.summary()"
   ]
  },
  {
   "cell_type": "code",
   "execution_count": 18,
   "metadata": {},
   "outputs": [],
   "source": [
    "model.compile(loss=\"categorical_crossentropy\",\n",
    "             optimizer='adam',\n",
    "             metrics=['accuracy'])"
   ]
  },
  {
   "cell_type": "code",
   "execution_count": 19,
   "metadata": {},
   "outputs": [],
   "source": [
    "MODEL_DIR='./model/'\n",
    "if not os.path.exists(MODEL_DIR):\n",
    "    os.mkdir(MODEL_DIR)"
   ]
  },
  {
   "cell_type": "code",
   "execution_count": 20,
   "metadata": {},
   "outputs": [],
   "source": [
    "modelpath=MODEL_DIR+\"fashion-cnn.hdf5\"\n",
    "checkpointer=ModelCheckpoint(filepath=modelpath,monitor=\"val_loss\",\n",
    "                            verbose=1, save_best_only=True)\n",
    "early_stopping_callback = EarlyStopping(monitor='val_loss', patience=10)"
   ]
  },
  {
   "cell_type": "code",
   "execution_count": 21,
   "metadata": {
    "scrolled": true
   },
   "outputs": [
    {
     "name": "stdout",
     "output_type": "stream",
     "text": [
      "Train on 60000 samples, validate on 10000 samples\n",
      "Epoch 1/30\n",
      "59800/60000 [============================>.] - ETA: 0s - loss: 0.8675 - accuracy: 0.6831\n",
      "Epoch 00001: val_loss improved from inf to 0.48507, saving model to ./model/fashion-cnn.hdf5\n",
      "60000/60000 [==============================] - 16s 265us/sample - loss: 0.8664 - accuracy: 0.6835 - val_loss: 0.4851 - val_accuracy: 0.8201\n",
      "Epoch 2/30\n",
      "59600/60000 [============================>.] - ETA: 0s - loss: 0.5115 - accuracy: 0.8185\n",
      "Epoch 00002: val_loss improved from 0.48507 to 0.38575, saving model to ./model/fashion-cnn.hdf5\n",
      "60000/60000 [==============================] - 15s 257us/sample - loss: 0.5110 - accuracy: 0.8187 - val_loss: 0.3858 - val_accuracy: 0.8581\n",
      "Epoch 3/30\n",
      "59800/60000 [============================>.] - ETA: 0s - loss: 0.4346 - accuracy: 0.8484\n",
      "Epoch 00003: val_loss improved from 0.38575 to 0.35420, saving model to ./model/fashion-cnn.hdf5\n",
      "60000/60000 [==============================] - 15s 254us/sample - loss: 0.4344 - accuracy: 0.8485 - val_loss: 0.3542 - val_accuracy: 0.8732\n",
      "Epoch 4/30\n",
      "59800/60000 [============================>.] - ETA: 0s - loss: 0.3849 - accuracy: 0.8666\n",
      "Epoch 00004: val_loss improved from 0.35420 to 0.31920, saving model to ./model/fashion-cnn.hdf5\n",
      "60000/60000 [==============================] - 15s 254us/sample - loss: 0.3847 - accuracy: 0.8667 - val_loss: 0.3192 - val_accuracy: 0.8850\n",
      "Epoch 5/30\n",
      "59800/60000 [============================>.] - ETA: 0s - loss: 0.3530 - accuracy: 0.8776\n",
      "Epoch 00005: val_loss improved from 0.31920 to 0.31688, saving model to ./model/fashion-cnn.hdf5\n",
      "60000/60000 [==============================] - 15s 254us/sample - loss: 0.3527 - accuracy: 0.8777 - val_loss: 0.3169 - val_accuracy: 0.8831\n",
      "Epoch 6/30\n",
      "59600/60000 [============================>.] - ETA: 0s - loss: 0.3300 - accuracy: 0.8853\n",
      "Epoch 00006: val_loss improved from 0.31688 to 0.29022, saving model to ./model/fashion-cnn.hdf5\n",
      "60000/60000 [==============================] - 15s 254us/sample - loss: 0.3301 - accuracy: 0.8853 - val_loss: 0.2902 - val_accuracy: 0.8969\n",
      "Epoch 7/30\n",
      "59800/60000 [============================>.] - ETA: 0s - loss: 0.3090 - accuracy: 0.8909\n",
      "Epoch 00007: val_loss improved from 0.29022 to 0.28032, saving model to ./model/fashion-cnn.hdf5\n",
      "60000/60000 [==============================] - 15s 253us/sample - loss: 0.3091 - accuracy: 0.8907 - val_loss: 0.2803 - val_accuracy: 0.8992\n",
      "Epoch 8/30\n",
      "59800/60000 [============================>.] - ETA: 0s - loss: 0.2911 - accuracy: 0.8968\n",
      "Epoch 00008: val_loss improved from 0.28032 to 0.27858, saving model to ./model/fashion-cnn.hdf5\n",
      "60000/60000 [==============================] - 15s 254us/sample - loss: 0.2912 - accuracy: 0.8968 - val_loss: 0.2786 - val_accuracy: 0.9023\n",
      "Epoch 9/30\n",
      "59800/60000 [============================>.] - ETA: 0s - loss: 0.2796 - accuracy: 0.9014\n",
      "Epoch 00009: val_loss improved from 0.27858 to 0.26861, saving model to ./model/fashion-cnn.hdf5\n",
      "60000/60000 [==============================] - 15s 253us/sample - loss: 0.2798 - accuracy: 0.9013 - val_loss: 0.2686 - val_accuracy: 0.9036\n",
      "Epoch 10/30\n",
      "59800/60000 [============================>.] - ETA: 0s - loss: 0.2649 - accuracy: 0.9066\n",
      "Epoch 00010: val_loss improved from 0.26861 to 0.25747, saving model to ./model/fashion-cnn.hdf5\n",
      "60000/60000 [==============================] - 15s 254us/sample - loss: 0.2653 - accuracy: 0.9065 - val_loss: 0.2575 - val_accuracy: 0.9084\n",
      "Epoch 11/30\n",
      "59800/60000 [============================>.] - ETA: 0s - loss: 0.2550 - accuracy: 0.9100\n",
      "Epoch 00011: val_loss improved from 0.25747 to 0.25652, saving model to ./model/fashion-cnn.hdf5\n",
      "60000/60000 [==============================] - 15s 257us/sample - loss: 0.2550 - accuracy: 0.9100 - val_loss: 0.2565 - val_accuracy: 0.9077\n",
      "Epoch 12/30\n",
      "59600/60000 [============================>.] - ETA: 0s - loss: 0.2432 - accuracy: 0.9133\n",
      "Epoch 00012: val_loss improved from 0.25652 to 0.24654, saving model to ./model/fashion-cnn.hdf5\n",
      "60000/60000 [==============================] - 15s 253us/sample - loss: 0.2434 - accuracy: 0.9132 - val_loss: 0.2465 - val_accuracy: 0.9140\n",
      "Epoch 13/30\n",
      "59600/60000 [============================>.] - ETA: 0s - loss: 0.2394 - accuracy: 0.9146\n",
      "Epoch 00013: val_loss did not improve from 0.24654\n",
      "60000/60000 [==============================] - 15s 251us/sample - loss: 0.2393 - accuracy: 0.9146 - val_loss: 0.2572 - val_accuracy: 0.9099\n",
      "Epoch 14/30\n",
      "59800/60000 [============================>.] - ETA: 0s - loss: 0.2295 - accuracy: 0.9182\n",
      "Epoch 00014: val_loss did not improve from 0.24654\n",
      "60000/60000 [==============================] - 15s 251us/sample - loss: 0.2295 - accuracy: 0.9181 - val_loss: 0.2516 - val_accuracy: 0.9148\n",
      "Epoch 15/30\n",
      "59800/60000 [============================>.] - ETA: 0s - loss: 0.2220 - accuracy: 0.9219\n",
      "Epoch 00015: val_loss did not improve from 0.24654\n",
      "60000/60000 [==============================] - 15s 251us/sample - loss: 0.2224 - accuracy: 0.9219 - val_loss: 0.2540 - val_accuracy: 0.9110\n",
      "Epoch 16/30\n",
      "59800/60000 [============================>.] - ETA: 0s - loss: 0.2140 - accuracy: 0.9241\n",
      "Epoch 00016: val_loss improved from 0.24654 to 0.24198, saving model to ./model/fashion-cnn.hdf5\n",
      "60000/60000 [==============================] - 15s 255us/sample - loss: 0.2141 - accuracy: 0.9240 - val_loss: 0.2420 - val_accuracy: 0.9146\n",
      "Epoch 17/30\n",
      "59800/60000 [============================>.] - ETA: 0s - loss: 0.2083 - accuracy: 0.9242\n",
      "Epoch 00017: val_loss did not improve from 0.24198\n",
      "60000/60000 [==============================] - 15s 252us/sample - loss: 0.2084 - accuracy: 0.9243 - val_loss: 0.2526 - val_accuracy: 0.9094\n",
      "Epoch 18/30\n",
      "59800/60000 [============================>.] - ETA: 0s - loss: 0.1993 - accuracy: 0.9273\n",
      "Epoch 00018: val_loss improved from 0.24198 to 0.23911, saving model to ./model/fashion-cnn.hdf5\n",
      "60000/60000 [==============================] - 15s 255us/sample - loss: 0.1994 - accuracy: 0.9273 - val_loss: 0.2391 - val_accuracy: 0.9175\n",
      "Epoch 19/30\n",
      "59800/60000 [============================>.] - ETA: 0s - loss: 0.1889 - accuracy: 0.9315\n",
      "Epoch 00019: val_loss did not improve from 0.23911\n",
      "60000/60000 [==============================] - 15s 254us/sample - loss: 0.1889 - accuracy: 0.9315 - val_loss: 0.2472 - val_accuracy: 0.9158\n",
      "Epoch 20/30\n",
      "59800/60000 [============================>.] - ETA: 0s - loss: 0.1847 - accuracy: 0.9329\n",
      "Epoch 00020: val_loss did not improve from 0.23911\n",
      "60000/60000 [==============================] - 15s 252us/sample - loss: 0.1848 - accuracy: 0.9329 - val_loss: 0.2454 - val_accuracy: 0.9158\n",
      "Epoch 21/30\n",
      "59800/60000 [============================>.] - ETA: 0s - loss: 0.1795 - accuracy: 0.9358\n",
      "Epoch 00021: val_loss did not improve from 0.23911\n",
      "60000/60000 [==============================] - 15s 252us/sample - loss: 0.1795 - accuracy: 0.9357 - val_loss: 0.2473 - val_accuracy: 0.9143\n",
      "Epoch 22/30\n",
      "59800/60000 [============================>.] - ETA: 0s - loss: 0.1772 - accuracy: 0.9356\n",
      "Epoch 00022: val_loss did not improve from 0.23911\n",
      "60000/60000 [==============================] - 15s 252us/sample - loss: 0.1769 - accuracy: 0.9356 - val_loss: 0.2602 - val_accuracy: 0.9151\n",
      "Epoch 23/30\n",
      "59600/60000 [============================>.] - ETA: 0s - loss: 0.1715 - accuracy: 0.9372\n",
      "Epoch 00023: val_loss did not improve from 0.23911\n",
      "60000/60000 [==============================] - 15s 252us/sample - loss: 0.1712 - accuracy: 0.9373 - val_loss: 0.2726 - val_accuracy: 0.9147\n",
      "Epoch 24/30\n",
      "59800/60000 [============================>.] - ETA: 0s - loss: 0.1642 - accuracy: 0.9386\n",
      "Epoch 00024: val_loss did not improve from 0.23911\n",
      "60000/60000 [==============================] - 15s 252us/sample - loss: 0.1642 - accuracy: 0.9386 - val_loss: 0.2422 - val_accuracy: 0.9208\n",
      "Epoch 25/30\n",
      "59800/60000 [============================>.] - ETA: 0s - loss: 0.1614 - accuracy: 0.9411\n",
      "Epoch 00025: val_loss did not improve from 0.23911\n",
      "60000/60000 [==============================] - 15s 252us/sample - loss: 0.1615 - accuracy: 0.9411 - val_loss: 0.2521 - val_accuracy: 0.9218\n",
      "Epoch 26/30\n",
      "59600/60000 [============================>.] - ETA: 0s - loss: 0.1524 - accuracy: 0.9442\n",
      "Epoch 00026: val_loss did not improve from 0.23911\n",
      "60000/60000 [==============================] - 15s 254us/sample - loss: 0.1524 - accuracy: 0.9442 - val_loss: 0.2512 - val_accuracy: 0.9202\n"
     ]
    },
    {
     "name": "stdout",
     "output_type": "stream",
     "text": [
      "Epoch 27/30\n",
      "59800/60000 [============================>.] - ETA: 0s - loss: 0.1524 - accuracy: 0.9439\n",
      "Epoch 00027: val_loss did not improve from 0.23911\n",
      "60000/60000 [==============================] - 15s 251us/sample - loss: 0.1527 - accuracy: 0.9438 - val_loss: 0.2493 - val_accuracy: 0.9214\n",
      "Epoch 28/30\n",
      "59800/60000 [============================>.] - ETA: 0s - loss: 0.1511 - accuracy: 0.9457\n",
      "Epoch 00028: val_loss did not improve from 0.23911\n",
      "60000/60000 [==============================] - 15s 250us/sample - loss: 0.1510 - accuracy: 0.9457 - val_loss: 0.2534 - val_accuracy: 0.9215\n"
     ]
    }
   ],
   "source": [
    "history=model.fit(x_train,y_train,validation_data=(x_test,y_test),epochs=30,\n",
    "                  batch_size=200,\n",
    "                  callbacks=[early_stopping_callback, checkpointer])"
   ]
  },
  {
   "cell_type": "code",
   "execution_count": 22,
   "metadata": {},
   "outputs": [
    {
     "name": "stdout",
     "output_type": "stream",
     "text": [
      "10000/10000 - 1s - loss: 0.2391 - accuracy: 0.9175\n",
      "\n",
      "테스트 정확도: 0.9175\n"
     ]
    }
   ],
   "source": [
    "del model\n",
    "model = load_model('model/fashion-cnn.hdf5')\n",
    "test_loss, test_acc = model.evaluate(x_test,  y_test, verbose=2)\n",
    "\n",
    "print('\\n테스트 정확도:', test_acc)"
   ]
  },
  {
   "cell_type": "markdown",
   "metadata": {},
   "source": [
    "# 3. IMDB 영화 리뷰 데이터에 대하여 딥러닝을 이용하여 감성분석을 하시오."
   ]
  },
  {
   "cell_type": "code",
   "execution_count": 23,
   "metadata": {},
   "outputs": [],
   "source": [
    "from nltk.corpus import stopwords\n",
    "from tqdm.notebook import tqdm\n",
    "from sklearn.naive_bayes import MultinomialNB\n",
    "from sklearn.feature_extraction.text import CountVectorizer\n",
    "from sklearn.metrics import accuracy_score"
   ]
  },
  {
   "cell_type": "code",
   "execution_count": 24,
   "metadata": {},
   "outputs": [
    {
     "data": {
      "text/html": [
       "<div>\n",
       "<style scoped>\n",
       "    .dataframe tbody tr th:only-of-type {\n",
       "        vertical-align: middle;\n",
       "    }\n",
       "\n",
       "    .dataframe tbody tr th {\n",
       "        vertical-align: top;\n",
       "    }\n",
       "\n",
       "    .dataframe thead th {\n",
       "        text-align: right;\n",
       "    }\n",
       "</style>\n",
       "<table border=\"1\" class=\"dataframe\">\n",
       "  <thead>\n",
       "    <tr style=\"text-align: right;\">\n",
       "      <th></th>\n",
       "      <th>id</th>\n",
       "      <th>sentiment</th>\n",
       "      <th>review</th>\n",
       "    </tr>\n",
       "  </thead>\n",
       "  <tbody>\n",
       "    <tr>\n",
       "      <th>0</th>\n",
       "      <td>5814_8</td>\n",
       "      <td>1</td>\n",
       "      <td>With all this stuff going down at the moment w...</td>\n",
       "    </tr>\n",
       "    <tr>\n",
       "      <th>1</th>\n",
       "      <td>2381_9</td>\n",
       "      <td>1</td>\n",
       "      <td>\\The Classic War of the Worlds\\\" by Timothy Hi...</td>\n",
       "    </tr>\n",
       "    <tr>\n",
       "      <th>2</th>\n",
       "      <td>7759_3</td>\n",
       "      <td>0</td>\n",
       "      <td>The film starts with a manager (Nicholas Bell)...</td>\n",
       "    </tr>\n",
       "    <tr>\n",
       "      <th>3</th>\n",
       "      <td>3630_4</td>\n",
       "      <td>0</td>\n",
       "      <td>It must be assumed that those who praised this...</td>\n",
       "    </tr>\n",
       "    <tr>\n",
       "      <th>4</th>\n",
       "      <td>9495_8</td>\n",
       "      <td>1</td>\n",
       "      <td>Superbly trashy and wondrously unpretentious 8...</td>\n",
       "    </tr>\n",
       "    <tr>\n",
       "      <th>...</th>\n",
       "      <td>...</td>\n",
       "      <td>...</td>\n",
       "      <td>...</td>\n",
       "    </tr>\n",
       "    <tr>\n",
       "      <th>24995</th>\n",
       "      <td>3453_3</td>\n",
       "      <td>0</td>\n",
       "      <td>It seems like more consideration has gone into...</td>\n",
       "    </tr>\n",
       "    <tr>\n",
       "      <th>24996</th>\n",
       "      <td>5064_1</td>\n",
       "      <td>0</td>\n",
       "      <td>I don't believe they made this film. Completel...</td>\n",
       "    </tr>\n",
       "    <tr>\n",
       "      <th>24997</th>\n",
       "      <td>10905_3</td>\n",
       "      <td>0</td>\n",
       "      <td>Guy is a loser. Can't get girls, needs to buil...</td>\n",
       "    </tr>\n",
       "    <tr>\n",
       "      <th>24998</th>\n",
       "      <td>10194_3</td>\n",
       "      <td>0</td>\n",
       "      <td>This 30 minute documentary Buñuel made in the ...</td>\n",
       "    </tr>\n",
       "    <tr>\n",
       "      <th>24999</th>\n",
       "      <td>8478_8</td>\n",
       "      <td>1</td>\n",
       "      <td>I saw this movie as a child and it broke my he...</td>\n",
       "    </tr>\n",
       "  </tbody>\n",
       "</table>\n",
       "<p>25000 rows × 3 columns</p>\n",
       "</div>"
      ],
      "text/plain": [
       "            id  sentiment                                             review\n",
       "0       5814_8          1  With all this stuff going down at the moment w...\n",
       "1       2381_9          1  \\The Classic War of the Worlds\\\" by Timothy Hi...\n",
       "2       7759_3          0  The film starts with a manager (Nicholas Bell)...\n",
       "3       3630_4          0  It must be assumed that those who praised this...\n",
       "4       9495_8          1  Superbly trashy and wondrously unpretentious 8...\n",
       "...        ...        ...                                                ...\n",
       "24995   3453_3          0  It seems like more consideration has gone into...\n",
       "24996   5064_1          0  I don't believe they made this film. Completel...\n",
       "24997  10905_3          0  Guy is a loser. Can't get girls, needs to buil...\n",
       "24998  10194_3          0  This 30 minute documentary Buñuel made in the ...\n",
       "24999   8478_8          1  I saw this movie as a child and it broke my he...\n",
       "\n",
       "[25000 rows x 3 columns]"
      ]
     },
     "execution_count": 24,
     "metadata": {},
     "output_type": "execute_result"
    }
   ],
   "source": [
    "df = pd.read_csv(\"../dataset/labeledTrainData.tsv\", delimiter ='\\t')\n",
    "df"
   ]
  },
  {
   "cell_type": "code",
   "execution_count": 25,
   "metadata": {},
   "outputs": [],
   "source": [
    "imdb = df.values\n",
    "x=imdb[:,2]\n",
    "y=imdb[:,1]"
   ]
  },
  {
   "cell_type": "code",
   "execution_count": 26,
   "metadata": {
    "scrolled": true
   },
   "outputs": [],
   "source": [
    "x_train, x_test, y_train, y_test=train_test_split(x,y,test_size=0.2,random_state=seed)"
   ]
  },
  {
   "cell_type": "code",
   "execution_count": 27,
   "metadata": {},
   "outputs": [],
   "source": [
    "stop_words = set(stopwords.words('english')) \n",
    "\n",
    "result = []\n",
    "for w in x_train: \n",
    "    if w not in stop_words: \n",
    "        result.append(w)\n",
    "x_train = result\n",
    "result = []\n",
    "for w in x_test: \n",
    "    if w not in stop_words: \n",
    "        result.append(w)\n",
    "x_test = result"
   ]
  },
  {
   "cell_type": "code",
   "execution_count": 28,
   "metadata": {},
   "outputs": [],
   "source": [
    "dtmvector = CountVectorizer()\n",
    "x_train_dtm = dtmvector.fit_transform(x_train)\n",
    "x_test_dtm = dtmvector.transform(x_test)\n",
    "y_train = np.array(y_train).astype(\"int\")\n",
    "y_test = np.array(y_test).astype(\"int\")"
   ]
  },
  {
   "cell_type": "code",
   "execution_count": 29,
   "metadata": {},
   "outputs": [
    {
     "data": {
      "text/plain": [
       "MultinomialNB()"
      ]
     },
     "execution_count": 29,
     "metadata": {},
     "output_type": "execute_result"
    }
   ],
   "source": [
    "model = MultinomialNB()\n",
    "model.fit(x_train_dtm, y_train)"
   ]
  },
  {
   "cell_type": "code",
   "execution_count": 30,
   "metadata": {},
   "outputs": [
    {
     "name": "stdout",
     "output_type": "stream",
     "text": [
      "정확도: 0.8614\n"
     ]
    }
   ],
   "source": [
    "predicted = model.predict(x_test_dtm) #테스트 데이터에 대한 예측\n",
    "print(\"정확도: %.4f\" % accuracy_score(y_test, predicted)) #예측값과 실제값 비교"
   ]
  }
 ],
 "metadata": {
  "kernelspec": {
   "display_name": "Python 3",
   "language": "python",
   "name": "python3"
  },
  "language_info": {
   "codemirror_mode": {
    "name": "ipython",
    "version": 3
   },
   "file_extension": ".py",
   "mimetype": "text/x-python",
   "name": "python",
   "nbconvert_exporter": "python",
   "pygments_lexer": "ipython3",
   "version": "3.7.7"
  }
 },
 "nbformat": 4,
 "nbformat_minor": 4
}
