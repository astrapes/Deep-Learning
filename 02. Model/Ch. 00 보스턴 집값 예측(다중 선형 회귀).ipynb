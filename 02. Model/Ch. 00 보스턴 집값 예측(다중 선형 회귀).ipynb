{
 "cells": [
  {
   "cell_type": "code",
   "execution_count": 3,
   "metadata": {},
   "outputs": [],
   "source": [
    "import numpy as np\n",
    "import pandas as pd\n",
    "import tensorflow as tf\n",
    "import matplotlib.pyplot as plt\n",
    "import seaborn as sns\n",
    "import os\n",
    "from sklearn.datasets import load_breast_cancer, load_digits, load_boston\n",
    "from tensorflow.keras.models import Sequential, load_model\n",
    "from tensorflow.keras.layers import Dense\n",
    "from sklearn.model_selection import train_test_split, StratifiedKFold\n",
    "from sklearn.preprocessing import LabelEncoder\n",
    "from tensorflow.keras.callbacks import ModelCheckpoint, EarlyStopping\n",
    "%matplotlib inline"
   ]
  },
  {
   "cell_type": "code",
   "execution_count": 9,
   "metadata": {},
   "outputs": [],
   "source": [
    "seed=2020\n",
    "np.random.seed(seed)\n",
    "tf.random.set_seed(seed)"
   ]
  },
  {
   "cell_type": "code",
   "execution_count": 10,
   "metadata": {},
   "outputs": [],
   "source": [
    "df=load_boston()\n",
    "x=pd.DataFrame(df.data)\n",
    "y=df.target"
   ]
  },
  {
   "cell_type": "code",
   "execution_count": 11,
   "metadata": {},
   "outputs": [],
   "source": [
    "x_train, x_test, y_train, y_test=train_test_split(x, y, test_size=0.2, random_state=seed)"
   ]
  },
  {
   "cell_type": "code",
   "execution_count": 12,
   "metadata": {},
   "outputs": [
    {
     "name": "stdout",
     "output_type": "stream",
     "text": [
      "Model: \"sequential\"\n",
      "_________________________________________________________________\n",
      "Layer (type)                 Output Shape              Param #   \n",
      "=================================================================\n",
      "dense (Dense)                (None, 30)                420       \n",
      "_________________________________________________________________\n",
      "dense_1 (Dense)              (None, 12)                372       \n",
      "_________________________________________________________________\n",
      "dense_2 (Dense)              (None, 8)                 104       \n",
      "_________________________________________________________________\n",
      "dense_3 (Dense)              (None, 1)                 9         \n",
      "=================================================================\n",
      "Total params: 905\n",
      "Trainable params: 905\n",
      "Non-trainable params: 0\n",
      "_________________________________________________________________\n"
     ]
    }
   ],
   "source": [
    "model=Sequential([\n",
    "    Dense(30, input_shape=(13,), activation=\"relu\"),\n",
    "    Dense(12, activation=\"relu\"),\n",
    "    Dense(8, activation=\"relu\"),\n",
    "    Dense(1)\n",
    "])\n",
    "model.summary()"
   ]
  },
  {
   "cell_type": "code",
   "execution_count": 13,
   "metadata": {},
   "outputs": [],
   "source": [
    "model.compile(loss=\"mse\",optimizer=\"adam\",metrics=[\"accuracy\"])"
   ]
  },
  {
   "cell_type": "code",
   "execution_count": 14,
   "metadata": {},
   "outputs": [],
   "source": [
    "history = model.fit(x_train, y_train, validation_split=0.2, epochs=5000, batch_size=300,\n",
    "                    verbose=0)"
   ]
  },
  {
   "cell_type": "code",
   "execution_count": 19,
   "metadata": {},
   "outputs": [
    {
     "name": "stdout",
     "output_type": "stream",
     "text": [
      "실제 가격 : 27.500, 예상 가격 : 16.635\n",
      "실제 가격 : 20.500, 예상 가격 : 19.336\n",
      "실제 가격 : 6.300, 예상 가격 : 9.779\n",
      "실제 가격 : 24.800, 예상 가격 : 25.506\n",
      "실제 가격 : 23.100, 예상 가격 : 22.024\n",
      "실제 가격 : 14.500, 예상 가격 : 19.113\n",
      "실제 가격 : 16.500, 예상 가격 : 21.213\n",
      "실제 가격 : 15.000, 예상 가격 : 29.082\n",
      "실제 가격 : 10.200, 예상 가격 : 12.126\n",
      "실제 가격 : 22.300, 예상 가격 : 23.551\n",
      "실제 가격 : 31.500, 예상 가격 : 35.036\n",
      "실제 가격 : 14.300, 예상 가격 : 16.270\n",
      "실제 가격 : 24.400, 예상 가격 : 19.607\n",
      "실제 가격 : 50.000, 예상 가격 : 46.822\n",
      "실제 가격 : 11.000, 예상 가격 : 11.946\n",
      "실제 가격 : 21.700, 예상 가격 : 20.277\n",
      "실제 가격 : 9.500, 예상 가격 : 11.899\n",
      "실제 가격 : 23.800, 예상 가격 : 21.979\n",
      "실제 가격 : 17.100, 예상 가격 : 20.700\n",
      "실제 가격 : 21.800, 예상 가격 : 22.878\n",
      "실제 가격 : 18.100, 예상 가격 : 17.794\n",
      "실제 가격 : 30.800, 예상 가격 : 29.221\n",
      "실제 가격 : 17.800, 예상 가격 : 18.220\n",
      "실제 가격 : 23.200, 예상 가격 : 24.569\n",
      "실제 가격 : 5.000, 예상 가격 : 5.506\n",
      "실제 가격 : 10.200, 예상 가격 : 7.229\n",
      "실제 가격 : 24.100, 예상 가격 : 26.284\n",
      "실제 가격 : 11.700, 예상 가격 : 14.235\n",
      "실제 가격 : 31.500, 예상 가격 : 35.922\n",
      "실제 가격 : 10.400, 예상 가격 : 24.045\n",
      "실제 가격 : 22.800, 예상 가격 : 21.773\n",
      "실제 가격 : 23.900, 예상 가격 : 23.673\n",
      "실제 가격 : 7.000, 예상 가격 : 6.519\n",
      "실제 가격 : 24.400, 예상 가격 : 20.839\n",
      "실제 가격 : 18.300, 예상 가격 : 19.271\n",
      "실제 가격 : 15.300, 예상 가격 : 18.296\n",
      "실제 가격 : 25.000, 예상 가격 : 16.239\n",
      "실제 가격 : 22.900, 예상 가격 : 21.030\n",
      "실제 가격 : 25.000, 예상 가격 : 27.271\n",
      "실제 가격 : 13.500, 예상 가격 : 10.928\n",
      "실제 가격 : 22.000, 예상 가격 : 21.977\n",
      "실제 가격 : 20.000, 예상 가격 : 18.879\n",
      "실제 가격 : 13.200, 예상 가격 : 7.179\n",
      "실제 가격 : 37.300, 예상 가격 : 29.957\n",
      "실제 가격 : 23.300, 예상 가격 : 22.174\n",
      "실제 가격 : 18.000, 예상 가격 : 18.572\n",
      "실제 가격 : 20.100, 예상 가격 : 18.386\n",
      "실제 가격 : 13.400, 예상 가격 : 14.077\n",
      "실제 가격 : 22.800, 예상 가격 : 24.538\n",
      "실제 가격 : 37.000, 예상 가격 : 27.685\n",
      "실제 가격 : 29.800, 예상 가격 : 29.206\n",
      "실제 가격 : 24.800, 예상 가격 : 23.567\n",
      "실제 가격 : 18.600, 예상 가격 : 17.042\n",
      "실제 가격 : 15.200, 예상 가격 : 14.583\n",
      "실제 가격 : 20.200, 예상 가격 : 13.232\n",
      "실제 가격 : 19.600, 예상 가격 : 18.112\n",
      "실제 가격 : 23.300, 예상 가격 : 23.735\n",
      "실제 가격 : 7.500, 예상 가격 : 10.549\n",
      "실제 가격 : 8.300, 예상 가격 : 10.099\n",
      "실제 가격 : 23.700, 예상 가격 : 25.663\n",
      "실제 가격 : 24.800, 예상 가격 : 25.688\n",
      "실제 가격 : 11.900, 예상 가격 : 20.059\n",
      "실제 가격 : 36.200, 예상 가격 : 28.866\n",
      "실제 가격 : 50.000, 예상 가격 : 44.318\n",
      "실제 가격 : 32.400, 예상 가격 : 33.520\n",
      "실제 가격 : 24.200, 예상 가격 : 24.413\n",
      "실제 가격 : 17.800, 예상 가격 : 18.427\n",
      "실제 가격 : 11.900, 예상 가격 : 8.713\n",
      "실제 가격 : 12.700, 예상 가격 : 14.488\n",
      "실제 가격 : 16.000, 예상 가격 : 20.035\n",
      "실제 가격 : 22.200, 예상 가격 : 22.471\n",
      "실제 가격 : 20.700, 예상 가격 : 22.262\n",
      "실제 가격 : 29.400, 예상 가격 : 29.380\n",
      "실제 가격 : 22.500, 예상 가격 : 17.513\n",
      "실제 가격 : 20.000, 예상 가격 : 18.379\n",
      "실제 가격 : 21.700, 예상 가격 : 21.247\n",
      "실제 가격 : 16.100, 예상 가격 : 12.139\n",
      "실제 가격 : 24.700, 예상 가격 : 25.411\n",
      "실제 가격 : 19.400, 예상 가격 : 24.351\n",
      "실제 가격 : 50.000, 예상 가격 : 45.590\n",
      "실제 가격 : 20.600, 예상 가격 : 19.694\n",
      "실제 가격 : 11.800, 예상 가격 : 11.171\n",
      "실제 가격 : 26.700, 예상 가격 : 25.291\n",
      "실제 가격 : 43.100, 예상 가격 : 32.063\n",
      "실제 가격 : 34.900, 예상 가격 : 32.204\n",
      "실제 가격 : 13.800, 예상 가격 : 11.383\n",
      "실제 가격 : 20.500, 예상 가격 : 20.684\n",
      "실제 가격 : 18.700, 예상 가격 : 19.387\n",
      "실제 가격 : 34.700, 예상 가격 : 29.182\n",
      "실제 가격 : 10.900, 예상 가격 : 13.109\n",
      "실제 가격 : 14.200, 예상 가격 : 14.855\n",
      "실제 가격 : 17.500, 예상 가격 : 18.579\n",
      "실제 가격 : 19.300, 예상 가격 : 21.190\n",
      "실제 가격 : 19.500, 예상 가격 : 17.730\n",
      "실제 가격 : 19.500, 예상 가격 : 21.306\n",
      "실제 가격 : 24.500, 예상 가격 : 20.451\n",
      "실제 가격 : 11.700, 예상 가격 : 11.923\n",
      "실제 가격 : 50.000, 예상 가격 : 46.096\n",
      "실제 가격 : 23.100, 예상 가격 : 21.034\n",
      "실제 가격 : 17.600, 예상 가격 : 17.502\n",
      "실제 가격 : 16.300, 예상 가격 : 12.360\n",
      "실제 가격 : 23.300, 예상 가격 : 22.178\n"
     ]
    }
   ],
   "source": [
    "# 예측 값과 실제 값의 비교\n",
    "y_prediction=model.predict(x_test).flatten()\n",
    "for i in range(len(y_test)):\n",
    "    label=y_test[i]\n",
    "    prediction=y_prediction[i]\n",
    "    print(\"실제 가격 : {:.3f}, 예상 가격 : {:,.3f}\".format(label, prediction))"
   ]
  },
  {
   "cell_type": "code",
   "execution_count": null,
   "metadata": {},
   "outputs": [],
   "source": []
  }
 ],
 "metadata": {
  "kernelspec": {
   "display_name": "Python 3",
   "language": "python",
   "name": "python3"
  },
  "language_info": {
   "codemirror_mode": {
    "name": "ipython",
    "version": 3
   },
   "file_extension": ".py",
   "mimetype": "text/x-python",
   "name": "python",
   "nbconvert_exporter": "python",
   "pygments_lexer": "ipython3",
   "version": "3.7.7"
  }
 },
 "nbformat": 4,
 "nbformat_minor": 4
}
